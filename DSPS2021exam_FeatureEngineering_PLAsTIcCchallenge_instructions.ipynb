{
  "nbformat": 4,
  "nbformat_minor": 0,
  "metadata": {
    "kernelspec": {
      "display_name": "Python 3",
      "language": "python",
      "name": "python3"
    },
    "language_info": {
      "codemirror_mode": {
        "name": "ipython",
        "version": 3
      },
      "file_extension": ".py",
      "mimetype": "text/x-python",
      "name": "python",
      "nbconvert_exporter": "python",
      "pygments_lexer": "ipython3",
      "version": "3.7.3"
    },
    "latex_envs": {
      "LaTeX_envs_menu_present": true,
      "autoclose": false,
      "autocomplete": true,
      "bibliofile": "biblio.bib",
      "cite_by": "apalike",
      "current_citInitial": 1,
      "eqLabelWithNumbers": true,
      "eqNumInitial": 1,
      "hotkeys": {
        "equation": "Ctrl-E",
        "itemize": "Ctrl-I"
      },
      "labels_anchors": false,
      "latex_user_defs": false,
      "report_style_numbering": false,
      "user_envs_cfg": false
    },
    "nbTranslate": {
      "displayLangs": [
        "*"
      ],
      "hotkey": "alt-t",
      "langInMainMenu": true,
      "sourceLang": "en",
      "targetLang": "fr",
      "useGoogleTranslate": true
    },
    "toc": {
      "base_numbering": 1,
      "nav_menu": {},
      "number_sections": true,
      "sideBar": true,
      "skip_h1_title": false,
      "title_cell": "Table of Contents",
      "title_sidebar": "Contents",
      "toc_cell": false,
      "toc_position": {},
      "toc_section_display": true,
      "toc_window_display": false
    },
    "colab": {
      "name": "DSPS2021exam_FeatureEngineering_PLAsTIcCchallenge_instructions.ipynb",
      "provenance": [],
      "collapsed_sections": [],
      "include_colab_link": true
    }
  },
  "cells": [
    {
      "cell_type": "markdown",
      "metadata": {
        "id": "view-in-github",
        "colab_type": "text"
      },
      "source": [
        "<a href=\"https://colab.research.google.com/github/AndrewCrossman/DSPS_ACrossman/blob/main/DSPS2021exam_FeatureEngineering_PLAsTIcCchallenge_instructions.ipynb\" target=\"_parent\"><img src=\"https://colab.research.google.com/assets/colab-badge.svg\" alt=\"Open In Colab\"/></a>"
      ]
    },
    {
      "cell_type": "markdown",
      "metadata": {
        "id": "ooMwzAZ6lVYa"
      },
      "source": [
        "## DSPS2021 exam"
      ]
    },
    {
      "cell_type": "markdown",
      "metadata": {
        "id": "eWKE7cXHsHCl"
      },
      "source": [
        "\n",
        "This is an exercise in **classification** based on **feature engineering**. In the _first part_  (feature engineering) of the exercise you will acquire and process the data, using statistical tools and knowledge from the first half of the semester. This will lead to a set of features that characterize each object which you will use in _the second part_ (classification) to choose and build a model that performs classification tasks and evaluate its results.\n",
        "\n",
        "\n",
        "\n",
        "Complete this exercise and turn it in to me **by emailing me the google colab link** within 72 hours. Then I will see you at your \"interview\" which is the oral portion of the exam. In the oral session you will duscuss and explain your choices.\n",
        "\n",
        "**What I expect in the written exam:**\n",
        "I expect that you will perform the following tasks after having acquired the data:\n",
        "- data exploration\n",
        "- preprocessing including scaling as apprioriate for the model you chose\n",
        "- model development and fitting\n",
        "- evaluation of your model performance\n",
        "\n",
        "\n",
        "I expect figures with captions and axis labels (please dont forget axis labels and captions! its the easiest way to make me mad!) wherever apprioriate to understand the data/results. \n",
        "\n",
        "I expect that you will discuss each step and to what extent it was successful, to what extent it can be improved. \n",
        "\n",
        "I expect a justification for all your choices (e.g. how you deal with missing values) includind a description of the shortcomings of your choice\n",
        "\n",
        "I expect your code to be reproducible and to run: reproducible means that when I run it I should get the exact same numbers. Where random numbers are used you should _seed_ your random sequence (by setting a seed or the random_state if available in the model). Running means that your code should, well... run. Meaning when I click Runtime RunAll the code should not stop until the last cell. Make sure you rerun your code from the beginning to assure it works before you deliver it!   \n",
        "\n",
        "Put your \"narrative\" in text cells. Present the code neatly, deleting cells of code used for testing but leaving in all cells needed for the code to work.\n",
        "\n",
        "461 students: graded out of 15 points (17 available + EC)\n",
        "661 students: graded out of 20 points (21 available + EC_)"
      ]
    },
    {
      "cell_type": "markdown",
      "source": [
        "OVERVIEW\n",
        "\n",
        "PART I: Data preparation:\n",
        "\n",
        "1. Data Acquisition  <font color='blue'>\n",
        "3 points </font>\n",
        "2. Data exploration and visualization  <font color='blue'> 3 points</font>\n",
        "3. Extract features <font color='blue'> 5 points</font>\n",
        "- Task III.1 describe each feature you plan to extract.\n",
        "- Task III.2 extract some features from the raw lightcurve \n",
        "- Task III.3 standardize the lcvs and extract some features from the raw lightcurve \n",
        "- Task III.4: extract some features from the metadata \n",
        "- Task III.5: assemble and show your feature space\n",
        "\n",
        "PART II: Classifying:\n",
        "\n",
        "4. Task IV: Create your train and test set out of the feature matrix and preprocess them with the appropriately (remember that based on the model you choose you may need to scale, normalize, standardize, or whiten your data) <font color='blue'> 2 points</font>\n",
        "\n",
        "5. Easy classification task <font color='blue'>4 points</font>\n",
        "- Task V.I Build a model and fit it to the data (2 pts)\n",
        "- Task V.II Measure model accuracy and comment <font color='blue'> 1 points</font>\n",
        "- Task V.III Visualize the model results <font color='blue'> 1 points</font>\n",
        "\n",
        "6. Harder classification task - mandatory for 661 EC for 461 <font color='blue'>4 points</font> \n",
        "- Task VI.I Build a model, (ideally use a different one or try the same one you used before _and_ a different one to compare, can be 2 models from the same family tho, like two different ensamble methods) and fit it to the data (2 pts) \n",
        "- Task VI.II Measure model accuracy and comment <font color='blue'> 1 points</font>\n",
        "- Task VI.III Visualize the model results <font color='blue'> 1 points</font>\n",
        "\n",
        "EC: try to visualize the features. This is a high dimensional parameter space. you can for example try 2D t-SNE projection of your feature space and visualize it. <font color='blue'>2 points</font>\n",
        "\n",
        "\n",
        "\n"
      ],
      "metadata": {
        "id": "hjY2Eas5wreq"
      }
    },
    {
      "cell_type": "markdown",
      "source": [
        "<font color='red'>IMPORTANT: if you get stuck in part 1, for example in taks 3, you can download _my_ features dataset and move on to the classification task. You will not get points for the feature extraction tasks you did not perform but you will still get points for modeling</font>"
      ],
      "metadata": {
        "id": "_QkWFbry0iZ0"
      }
    },
    {
      "cell_type": "markdown",
      "metadata": {
        "id": "Zx-fcjEslVYc"
      },
      "source": [
        "## OVERVIEW\n",
        "\n",
        "The PLAsTiCC challend is a Kaggle challange to classify astrophysical objects (e.g. stars, exploding stars, stars with planets transiting, black holes) based on their time variability in light emission in 6 different bands (i.e. wavelength ranges). The sampling (the cadence of the observations) is designed to show what the upcming Rubin Observatory LSST (Legacy Survey of Space and Time) will see when it starts observing (in 2024). \n",
        "\n",
        "You can refer to this notebook https://www.kaggle.com/michaelapers/the-plasticc-astronomy-starter-kit (written by my good friend Gautham Narayan) to get started and ingest and preprocess the PLASTiCC challenge data. If you are not familiar with python classes (object oriented syntax) do not worry about it: I do want you to extract the features yourself. So use it as a guideline, but do not just copy and paste.\n",
        "\n",
        "Your task is to extract features, i.e. representations of the time series, and run 2 classifiers on these models: one to identify which survey the data comes from, one to identify which kind of object it is. \n",
        "\n"
      ]
    },
    {
      "cell_type": "code",
      "metadata": {
        "ExecuteTime": {
          "end_time": "2020-04-05T15:08:27.530325Z",
          "start_time": "2020-04-05T15:08:26.971473Z"
        },
        "id": "-G6oPTITlVYd",
        "outputId": "f9018831-007c-4d90-8444-a691508f3503"
      },
      "source": [
        "#hide\n",
        "import pandas as pd\n",
        "import numpy as np\n",
        "import pylab as pl\n",
        "\n",
        "%pylab inline\n"
      ],
      "execution_count": null,
      "outputs": [
        {
          "output_type": "stream",
          "text": [
            "Populating the interactive namespace from numpy and matplotlib\n"
          ],
          "name": "stdout"
        }
      ]
    },
    {
      "cell_type": "markdown",
      "metadata": {
        "ExecuteTime": {
          "end_time": "2020-04-05T14:30:57.608296Z",
          "start_time": "2020-04-05T14:30:57.606452Z"
        },
        "id": "w1y1TFCHlVYf"
      },
      "source": [
        "# TASK I :  Data Acquisition 3 points\n",
        " For full points use the kaggle API to get the data. You can download the data from kaggle\n",
        " --- https://www.kaggle.com/c/PLAsTiCC-2018\n",
        " If that does not work you can get the data from Zenodo but make sure that it is a reproducible way (the downloading has to happen inside the notebook).\n",
        " --- https://zenodo.org/record/2539456#.XonrIdNKjOQ\n",
        "You will need the **training data and the metadata files** only - you wont need to use the test data\n"
      ]
    },
    {
      "cell_type": "code",
      "metadata": {
        "ExecuteTime": {
          "end_time": "2020-04-05T15:08:28.258932Z",
          "start_time": "2020-04-05T15:08:27.532127Z"
        },
        "id": "_YQJ6FxmlVYf",
        "outputId": "8b68e068-c5f6-499c-fc7b-8ee99f99c1c0"
      },
      "source": [
        "# NOTE::: below I am just reading a local file. This is not a reproducible way to do it!!!!!! this would cost points: \n",
        "# reproducible means I need to be able to run your code from top to bottom without \n",
        "# having to exit the code and perform click-like actions\n",
        "# if you cannot figure out a reproducible way to access the data provide details in a markdown (text) box\n",
        "# about how you obtained the data so i can run your code and redo what you did\n",
        "\n",
        "lcvs = pd.read_csv(\"data/plasticc_train_lightcurves.csv\")\n",
        "\n",
        "# The Zenodo data include 1.4 million datapoints. \n",
        "## -- I am subsampling the data to develop the code \n",
        "# by using only the first 10000 datapoints (lcvs[:10000])\n",
        "## -- When I am done I will run this on the larger dataset (commenting out #[:10000])\n",
        "## note that I am choosing the first N=1000, as opposed to 1 every 100 or some other sampling scheme \n",
        "## because there are 6 time series per obects in 6 filters (colors) and I need each time series to be complete\n",
        "\n",
        "lcvs = lcvs#[:10000]\n",
        "print(\"The dataset contains: (observations, columns)\", lcvs.shape)\n"
      ],
      "execution_count": null,
      "outputs": [
        {
          "output_type": "stream",
          "text": [
            "The dataset contains: (observations, columns) (1421705, 6)\n"
          ],
          "name": "stdout"
        }
      ]
    },
    {
      "cell_type": "code",
      "metadata": {
        "ExecuteTime": {
          "end_time": "2020-04-05T15:08:28.271205Z",
          "start_time": "2020-04-05T15:08:28.260522Z"
        },
        "id": "Hj3qdVnNlVYg",
        "outputId": "041c092c-309a-4f74-c18c-9b751c7b96cf"
      },
      "source": [
        "lcvs.head()"
      ],
      "execution_count": null,
      "outputs": [
        {
          "output_type": "execute_result",
          "data": {
            "text/html": [
              "<div>\n",
              "<style scoped>\n",
              "    .dataframe tbody tr th:only-of-type {\n",
              "        vertical-align: middle;\n",
              "    }\n",
              "\n",
              "    .dataframe tbody tr th {\n",
              "        vertical-align: top;\n",
              "    }\n",
              "\n",
              "    .dataframe thead th {\n",
              "        text-align: right;\n",
              "    }\n",
              "</style>\n",
              "<table border=\"1\" class=\"dataframe\">\n",
              "  <thead>\n",
              "    <tr style=\"text-align: right;\">\n",
              "      <th></th>\n",
              "      <th>object_id</th>\n",
              "      <th>mjd</th>\n",
              "      <th>passband</th>\n",
              "      <th>flux</th>\n",
              "      <th>flux_err</th>\n",
              "      <th>detected_bool</th>\n",
              "    </tr>\n",
              "  </thead>\n",
              "  <tbody>\n",
              "    <tr>\n",
              "      <th>0</th>\n",
              "      <td>615</td>\n",
              "      <td>59750.4229</td>\n",
              "      <td>2</td>\n",
              "      <td>-544.810303</td>\n",
              "      <td>3.622952</td>\n",
              "      <td>1</td>\n",
              "    </tr>\n",
              "    <tr>\n",
              "      <th>1</th>\n",
              "      <td>615</td>\n",
              "      <td>59750.4306</td>\n",
              "      <td>1</td>\n",
              "      <td>-816.434326</td>\n",
              "      <td>5.553370</td>\n",
              "      <td>1</td>\n",
              "    </tr>\n",
              "    <tr>\n",
              "      <th>2</th>\n",
              "      <td>615</td>\n",
              "      <td>59750.4383</td>\n",
              "      <td>3</td>\n",
              "      <td>-471.385529</td>\n",
              "      <td>3.801213</td>\n",
              "      <td>1</td>\n",
              "    </tr>\n",
              "    <tr>\n",
              "      <th>3</th>\n",
              "      <td>615</td>\n",
              "      <td>59750.4450</td>\n",
              "      <td>4</td>\n",
              "      <td>-388.984985</td>\n",
              "      <td>11.395031</td>\n",
              "      <td>1</td>\n",
              "    </tr>\n",
              "    <tr>\n",
              "      <th>4</th>\n",
              "      <td>615</td>\n",
              "      <td>59752.4070</td>\n",
              "      <td>2</td>\n",
              "      <td>-681.858887</td>\n",
              "      <td>4.041204</td>\n",
              "      <td>1</td>\n",
              "    </tr>\n",
              "  </tbody>\n",
              "</table>\n",
              "</div>"
            ],
            "text/plain": [
              "   object_id         mjd  passband        flux   flux_err  detected_bool\n",
              "0        615  59750.4229         2 -544.810303   3.622952              1\n",
              "1        615  59750.4306         1 -816.434326   5.553370              1\n",
              "2        615  59750.4383         3 -471.385529   3.801213              1\n",
              "3        615  59750.4450         4 -388.984985  11.395031              1\n",
              "4        615  59752.4070         2 -681.858887   4.041204              1"
            ]
          },
          "metadata": {
            "tags": []
          },
          "execution_count": 3
        }
      ]
    },
    {
      "cell_type": "markdown",
      "metadata": {
        "id": "TWugx930lVYg"
      },
      "source": [
        "read the Kaggle challenge for a description of the data . This \"Starter Kit\" which includes a notebook (written by y good friend Gautham Narayan) may be especially useful\n",
        "https://www.kaggle.com/michaelapers/the-plasticc-astronomy-starter-kit"
      ]
    },
    {
      "cell_type": "markdown",
      "metadata": {
        "id": "2ZyOj9TElVYg"
      },
      "source": [
        "For each object there are 6 time series in 6 different passbands (see overview.) "
      ]
    },
    {
      "cell_type": "code",
      "metadata": {
        "ExecuteTime": {
          "end_time": "2020-04-05T15:08:28.281141Z",
          "start_time": "2020-04-05T15:08:28.273051Z"
        },
        "id": "MJy3H0dplVYg",
        "outputId": "73eb542e-83f5-4065-902f-2d6e1a968885"
      },
      "source": [
        "bands = lcvs[\"passband\"].unique()\n",
        "print(\"Passbands (filter) identifiers:\", bands)"
      ],
      "execution_count": null,
      "outputs": [
        {
          "output_type": "stream",
          "text": [
            "Passbands (filter) identifiers: [2 1 3 4 5 0]\n"
          ],
          "name": "stdout"
        }
      ]
    },
    {
      "cell_type": "code",
      "metadata": {
        "ExecuteTime": {
          "end_time": "2020-04-05T15:08:28.299030Z",
          "start_time": "2020-04-05T15:08:28.283127Z"
        },
        "id": "75WQrrI8lVYh",
        "outputId": "cef7b1fa-a4ae-485f-d09e-877480d8b2e1"
      },
      "source": [
        "objects = lcvs[\"object_id\"].unique()\n",
        "print(\"There are {} astrophysical simulated objects in my dataset\".format(objects.shape[0]))"
      ],
      "execution_count": null,
      "outputs": [
        {
          "output_type": "stream",
          "text": [
            "There are 7848 astrophysical simulated objects in my dataset\n"
          ],
          "name": "stdout"
        }
      ]
    },
    {
      "cell_type": "code",
      "metadata": {
        "ExecuteTime": {
          "end_time": "2020-04-05T15:08:28.348921Z",
          "start_time": "2020-04-05T15:08:28.300402Z"
        },
        "id": "pipaolRxlVYh",
        "outputId": "3e09dd2e-e900-46ca-fbad-7468ab20bbe2"
      },
      "source": [
        "metadata = pd.read_csv(\"data/plasticc_train_metadata.csv.gz\")\n",
        "metadata.head()"
      ],
      "execution_count": null,
      "outputs": [
        {
          "output_type": "execute_result",
          "data": {
            "text/html": [
              "<div>\n",
              "<style scoped>\n",
              "    .dataframe tbody tr th:only-of-type {\n",
              "        vertical-align: middle;\n",
              "    }\n",
              "\n",
              "    .dataframe tbody tr th {\n",
              "        vertical-align: top;\n",
              "    }\n",
              "\n",
              "    .dataframe thead th {\n",
              "        text-align: right;\n",
              "    }\n",
              "</style>\n",
              "<table border=\"1\" class=\"dataframe\">\n",
              "  <thead>\n",
              "    <tr style=\"text-align: right;\">\n",
              "      <th></th>\n",
              "      <th>object_id</th>\n",
              "      <th>ra</th>\n",
              "      <th>decl</th>\n",
              "      <th>ddf_bool</th>\n",
              "      <th>hostgal_specz</th>\n",
              "      <th>hostgal_photoz</th>\n",
              "      <th>hostgal_photoz_err</th>\n",
              "      <th>distmod</th>\n",
              "      <th>mwebv</th>\n",
              "      <th>target</th>\n",
              "      <th>...</th>\n",
              "      <th>true_rv</th>\n",
              "      <th>true_av</th>\n",
              "      <th>true_peakmjd</th>\n",
              "      <th>libid_cadence</th>\n",
              "      <th>tflux_u</th>\n",
              "      <th>tflux_g</th>\n",
              "      <th>tflux_r</th>\n",
              "      <th>tflux_i</th>\n",
              "      <th>tflux_z</th>\n",
              "      <th>tflux_y</th>\n",
              "    </tr>\n",
              "  </thead>\n",
              "  <tbody>\n",
              "    <tr>\n",
              "      <th>0</th>\n",
              "      <td>615</td>\n",
              "      <td>349.0461</td>\n",
              "      <td>-61.9438</td>\n",
              "      <td>1</td>\n",
              "      <td>0.000</td>\n",
              "      <td>0.000</td>\n",
              "      <td>0.000</td>\n",
              "      <td>-9.000</td>\n",
              "      <td>0.017</td>\n",
              "      <td>92</td>\n",
              "      <td>...</td>\n",
              "      <td>0.0</td>\n",
              "      <td>0.0</td>\n",
              "      <td>59570.000</td>\n",
              "      <td>69</td>\n",
              "      <td>484.7</td>\n",
              "      <td>3286.7</td>\n",
              "      <td>3214.1</td>\n",
              "      <td>3039.7</td>\n",
              "      <td>2854.5</td>\n",
              "      <td>2837.0</td>\n",
              "    </tr>\n",
              "    <tr>\n",
              "      <th>1</th>\n",
              "      <td>713</td>\n",
              "      <td>53.0859</td>\n",
              "      <td>-27.7844</td>\n",
              "      <td>1</td>\n",
              "      <td>1.818</td>\n",
              "      <td>1.627</td>\n",
              "      <td>0.255</td>\n",
              "      <td>45.406</td>\n",
              "      <td>0.007</td>\n",
              "      <td>88</td>\n",
              "      <td>...</td>\n",
              "      <td>0.0</td>\n",
              "      <td>0.0</td>\n",
              "      <td>59570.000</td>\n",
              "      <td>34</td>\n",
              "      <td>108.7</td>\n",
              "      <td>117.7</td>\n",
              "      <td>119.9</td>\n",
              "      <td>149.6</td>\n",
              "      <td>147.9</td>\n",
              "      <td>150.5</td>\n",
              "    </tr>\n",
              "    <tr>\n",
              "      <th>2</th>\n",
              "      <td>730</td>\n",
              "      <td>33.5742</td>\n",
              "      <td>-6.5796</td>\n",
              "      <td>1</td>\n",
              "      <td>0.232</td>\n",
              "      <td>0.226</td>\n",
              "      <td>0.016</td>\n",
              "      <td>40.256</td>\n",
              "      <td>0.021</td>\n",
              "      <td>42</td>\n",
              "      <td>...</td>\n",
              "      <td>0.0</td>\n",
              "      <td>0.0</td>\n",
              "      <td>60444.379</td>\n",
              "      <td>9</td>\n",
              "      <td>0.0</td>\n",
              "      <td>0.0</td>\n",
              "      <td>0.0</td>\n",
              "      <td>0.0</td>\n",
              "      <td>0.0</td>\n",
              "      <td>0.0</td>\n",
              "    </tr>\n",
              "    <tr>\n",
              "      <th>3</th>\n",
              "      <td>745</td>\n",
              "      <td>0.1899</td>\n",
              "      <td>-45.5867</td>\n",
              "      <td>1</td>\n",
              "      <td>0.304</td>\n",
              "      <td>0.281</td>\n",
              "      <td>1.152</td>\n",
              "      <td>40.795</td>\n",
              "      <td>0.007</td>\n",
              "      <td>90</td>\n",
              "      <td>...</td>\n",
              "      <td>0.0</td>\n",
              "      <td>0.0</td>\n",
              "      <td>60130.453</td>\n",
              "      <td>38</td>\n",
              "      <td>0.0</td>\n",
              "      <td>0.0</td>\n",
              "      <td>0.0</td>\n",
              "      <td>0.0</td>\n",
              "      <td>0.0</td>\n",
              "      <td>0.0</td>\n",
              "    </tr>\n",
              "    <tr>\n",
              "      <th>4</th>\n",
              "      <td>1124</td>\n",
              "      <td>352.7113</td>\n",
              "      <td>-63.8237</td>\n",
              "      <td>1</td>\n",
              "      <td>0.193</td>\n",
              "      <td>0.241</td>\n",
              "      <td>0.018</td>\n",
              "      <td>40.417</td>\n",
              "      <td>0.024</td>\n",
              "      <td>90</td>\n",
              "      <td>...</td>\n",
              "      <td>0.0</td>\n",
              "      <td>0.0</td>\n",
              "      <td>60452.641</td>\n",
              "      <td>1</td>\n",
              "      <td>0.0</td>\n",
              "      <td>0.0</td>\n",
              "      <td>0.0</td>\n",
              "      <td>0.0</td>\n",
              "      <td>0.0</td>\n",
              "      <td>0.0</td>\n",
              "    </tr>\n",
              "  </tbody>\n",
              "</table>\n",
              "<p>5 rows × 26 columns</p>\n",
              "</div>"
            ],
            "text/plain": [
              "   object_id        ra     decl  ddf_bool  hostgal_specz  hostgal_photoz  \\\n",
              "0        615  349.0461 -61.9438         1          0.000           0.000   \n",
              "1        713   53.0859 -27.7844         1          1.818           1.627   \n",
              "2        730   33.5742  -6.5796         1          0.232           0.226   \n",
              "3        745    0.1899 -45.5867         1          0.304           0.281   \n",
              "4       1124  352.7113 -63.8237         1          0.193           0.241   \n",
              "\n",
              "   hostgal_photoz_err  distmod  mwebv  target  ...  true_rv  true_av  \\\n",
              "0               0.000   -9.000  0.017      92  ...      0.0      0.0   \n",
              "1               0.255   45.406  0.007      88  ...      0.0      0.0   \n",
              "2               0.016   40.256  0.021      42  ...      0.0      0.0   \n",
              "3               1.152   40.795  0.007      90  ...      0.0      0.0   \n",
              "4               0.018   40.417  0.024      90  ...      0.0      0.0   \n",
              "\n",
              "   true_peakmjd  libid_cadence  tflux_u  tflux_g  tflux_r  tflux_i  tflux_z  \\\n",
              "0     59570.000             69    484.7   3286.7   3214.1   3039.7   2854.5   \n",
              "1     59570.000             34    108.7    117.7    119.9    149.6    147.9   \n",
              "2     60444.379              9      0.0      0.0      0.0      0.0      0.0   \n",
              "3     60130.453             38      0.0      0.0      0.0      0.0      0.0   \n",
              "4     60452.641              1      0.0      0.0      0.0      0.0      0.0   \n",
              "\n",
              "   tflux_y  \n",
              "0   2837.0  \n",
              "1    150.5  \n",
              "2      0.0  \n",
              "3      0.0  \n",
              "4      0.0  \n",
              "\n",
              "[5 rows x 26 columns]"
            ]
          },
          "metadata": {
            "tags": []
          },
          "execution_count": 6
        }
      ]
    },
    {
      "cell_type": "code",
      "metadata": {
        "ExecuteTime": {
          "end_time": "2020-04-05T15:08:28.354923Z",
          "start_time": "2020-04-05T15:08:28.351416Z"
        },
        "id": "h81eJTb7lVYh",
        "outputId": "9a5cf80d-e989-49ee-fb3a-b607f08a8ef3"
      },
      "source": [
        "metadata.columns"
      ],
      "execution_count": null,
      "outputs": [
        {
          "output_type": "execute_result",
          "data": {
            "text/plain": [
              "Index(['object_id', 'ra', 'decl', 'ddf_bool', 'hostgal_specz',\n",
              "       'hostgal_photoz', 'hostgal_photoz_err', 'distmod', 'mwebv', 'target',\n",
              "       'true_target', 'true_submodel', 'true_z', 'true_distmod',\n",
              "       'true_lensdmu', 'true_vpec', 'true_rv', 'true_av', 'true_peakmjd',\n",
              "       'libid_cadence', 'tflux_u', 'tflux_g', 'tflux_r', 'tflux_i', 'tflux_z',\n",
              "       'tflux_y'],\n",
              "      dtype='object')"
            ]
          },
          "metadata": {
            "tags": []
          },
          "execution_count": 7
        }
      ]
    },
    {
      "cell_type": "code",
      "metadata": {
        "ExecuteTime": {
          "end_time": "2020-04-05T15:08:28.358952Z",
          "start_time": "2020-04-05T15:08:28.356130Z"
        },
        "id": "tK5TJlJYlVYi",
        "outputId": "92f894bf-5654-4d97-899e-40d97c2d5171"
      },
      "source": [
        "print(\"The metadata dataset contains more information for each time series: (time-series, columns)\", metadata.shape)"
      ],
      "execution_count": null,
      "outputs": [
        {
          "output_type": "stream",
          "text": [
            "The metadata dataset contains more information for each time series: (time-series, columns) (7848, 26)\n"
          ],
          "name": "stdout"
        }
      ]
    },
    {
      "cell_type": "markdown",
      "metadata": {
        "id": "-fr4Sf9VlVYi"
      },
      "source": [
        "make sure you print statements like the ones above summarizing the size of the datasets you acquire and you show the beginning of each dataset\n",
        "\n"
      ]
    },
    {
      "cell_type": "markdown",
      "metadata": {
        "id": "toxu4YKKlVYi"
      },
      "source": [
        "# TASK II : data exploration and visualization - plot some time series - 3 points\n",
        "### 1) You always need to visualize your data to get a sense of what we are working with. The challenge is that here you have 6 photometric bands (6 filters that cover different waelength ranges) for each object. (2 points)\n",
        "\n",
        "**Include object 84716**\n",
        "\n",
        "### 2) Visualize the distribution of each of the feature of the metadata (1 point)"
      ]
    },
    {
      "cell_type": "code",
      "metadata": {
        "ExecuteTime": {
          "end_time": "2020-04-05T15:08:31.490790Z",
          "start_time": "2020-04-05T15:08:28.365228Z"
        },
        "scrolled": false,
        "id": "x14pDukilVYi"
      },
      "source": [
        "# -- plot many objects\n",
        "..."
      ],
      "execution_count": null,
      "outputs": []
    },
    {
      "cell_type": "code",
      "metadata": {
        "ExecuteTime": {
          "end_time": "2020-04-05T15:08:28.363280Z",
          "start_time": "2020-04-05T15:08:28.360761Z"
        },
        "id": "Fd9shgWAlVYi"
      },
      "source": [
        "# this may help but if it is not clear how to use it dont worry abot it\n",
        "# preparing a normalization to pass to the color map to map red filters to red blue filters to blue\n",
        "norm_band = Normalize(vmin=bands.min(), vmax=bands.max())"
      ],
      "execution_count": null,
      "outputs": []
    },
    {
      "cell_type": "markdown",
      "metadata": {
        "id": "aY5khYIizbWJ"
      },
      "source": [
        "\n",
        "**Minimum Deliverable**"
      ]
    },
    {
      "cell_type": "markdown",
      "metadata": {
        "id": "n5ud6yHdlVYj"
      },
      "source": [
        "Figure 1: ..."
      ]
    },
    {
      "cell_type": "markdown",
      "metadata": {
        "id": "pgG3h5ExlVYj"
      },
      "source": [
        "* Deliverable: make a plot for a subset of the objects (~10 at least). Describe what you are plotting and any notable things you see in the figure. Make sure you plot the time series (flux) against time (mjd) and also display the uncertainties int he measurement (fluxerr)"
      ]
    },
    {
      "cell_type": "markdown",
      "source": [
        "Figure 2:...\n",
        "\n",
        "\n",
        "*   Show the distribution of the features in the metadata\n",
        "\n"
      ],
      "metadata": {
        "id": "NepAfi0XoTL1"
      }
    },
    {
      "cell_type": "markdown",
      "metadata": {
        "id": "dvf0NyI9lVYj"
      },
      "source": [
        "# TASK III: Extract features - 5 points\n",
        "\n",
        "### Feature extraction refers to the extraction of statistical features of the datapoints or the generation of low dimensional representations of the data points that can then be passed to a classifier/regression\n",
        "\n",
        "### * **Minimum Deliverable** Extract at least 4 featues if you are taking PHYS461 and at least 6 if you are taking PHYS661 features including at least 1 feature from all three category below\n",
        "\n",
        "The code that won the callenge did a number of smart things, of course (it was a feature based classification scheme, which included Gaussian Processes in the preprocessing for interpolation). The feature extraction part of the code is here. https://github.com/kboone/avocado/blob/master/avocado/plasticc.py\n",
        "\n",
        "Examples of features you can extract:\n",
        "\n",
        "- **from the original lightcurve**: \n",
        "    - mean, \n",
        "    - standard deviation, \n",
        "    - skewness, \n",
        "    - kurthosis, \n",
        "    - minimum \n",
        "    - maximmum,\n",
        "    - error on the minimum and \n",
        "    - error on the maximum, \n",
        "- **from the standardized lightcurve**:\n",
        "    - median \n",
        "    - slope of a line fit\n",
        "    - intercept of a line fit\n",
        "    - likelihood of the line fit\n",
        "    - likelihood of a quadratic fit\n",
        "    - sign of the quadratic parameter\n",
        "\n",
        "- **from the metadata file**:\n",
        "    - decl; this is one of the positions in the sky variables: important because the position on the sky may determin if it is a galactic or extragalactic object\n",
        "    - ddf_bool ; the kind of survey i.e. the data collection scheme that lead to the time series\n",
        "    - hostgal_photoz\n",
        "    - hostgal_photoz_err\n",
        "    \n",
        "The feature in the metadata files are the hardest ones to decide on because they require domain knowledge.\n",
        "Most of the other features in the metadata are unknown for test objects (only known for the training set)\n",
        "\n",
        "\n",
        "Extract N features including 1 features from all three category above: original lcv, standardized lcv, metadata. Justify each feature. Coming up with different features than the ones I suggested is very welcome! Remember that if the features are extracted from the time series there will be 6 features for each choice feature (one for each of the 6 passbands) so I ended up with 94 features with the scheme outlined above.\n",
        "\n",
        "Note: we are working with bigg-ish data! \n",
        "First off: every new piece should be developed on a subset of the dataset, then run on all the data only when ready. \n",
        "Still, if you try achieve goals by implementing for loops you are not going to be able to run the notebook for the whole data, or even only 1 batch of the full datase. A good solution is to use the groupby() method in pandas. I used groupby everywhere. Also it may be wise to write out intermediate outputs, so you do not have to loose work if your kernel dies or something similar. "
      ]
    },
    {
      "cell_type": "markdown",
      "metadata": {
        "id": "4OU5iAEFlVYk"
      },
      "source": [
        "### TASK III.1 describe each feature you plan to extract. \n",
        "Briefly indicate why you think it is a valuable feature and what data type is it (e.g. continuous, binary, categorical, if continuous does it have a max or min value or is it unbound?)\n",
        "\n",
        "        "
      ]
    },
    {
      "cell_type": "markdown",
      "metadata": {
        "id": "5ytS0DzhlVYk"
      },
      "source": [
        "### TASK III.2 extract some features from the raw lightcurve -\n",
        "\n",
        "I have some examples of how I did it in the next few lines of code. _you do not have to follow my code or my choices. They are given to help you_"
      ]
    },
    {
      "cell_type": "markdown",
      "metadata": {
        "id": "cKaLcIGwlVYk"
      },
      "source": [
        "Example get the mean and standard deviation of the flux in each band for each object"
      ]
    },
    {
      "cell_type": "code",
      "metadata": {
        "ExecuteTime": {
          "end_time": "2020-04-05T15:08:31.653520Z",
          "start_time": "2020-04-05T15:08:31.493218Z"
        },
        "id": "IbscbPtrlVYk"
      },
      "source": [
        "means = lcvs.groupby([\"object_id\", \"passband\"])[[\"flux\"]].mean()\n",
        "..."
      ],
      "execution_count": null,
      "outputs": []
    },
    {
      "cell_type": "code",
      "metadata": {
        "ExecuteTime": {
          "end_time": "2020-04-05T15:23:11.031717Z",
          "start_time": "2020-04-05T15:23:11.016579Z"
        },
        "id": "OLSHX3yKlVYk"
      },
      "source": [
        "features = means.rename({\"flux\": \"mean\"}, \n",
        "                        axis=1).merge(stds.rename({\"flux\": \"std\"}, \n",
        "                                axis=1), left_index=True, right_index=True)"
      ],
      "execution_count": null,
      "outputs": []
    },
    {
      "cell_type": "markdown",
      "metadata": {
        "id": "gjaS_wTClVYl"
      },
      "source": [
        "higher order moments of the distribution can be obtained with the scipy.stats.moment() function which can be applied to a grouby() object\n",
        "note that this way you can apply a function that takes only one argument, the argument over which groupby iterates (the flux here). But moments take 2: the value and the moment Create a unction call"
      ]
    },
    {
      "cell_type": "code",
      "metadata": {
        "ExecuteTime": {
          "end_time": "2020-04-05T15:08:48.782109Z",
          "start_time": "2020-04-05T15:08:31.676698Z"
        },
        "id": "vfHewV0WlVYl"
      },
      "source": [
        "from scipy import stats \n",
        "def m2(x):\n",
        "    return stats.moment(x, moment = 2)\n",
        "m2 = lcvs.groupby([\"object_id\", \"passband\"])[\"flux\"].apply(m2)\n",
        "m3 = ..."
      ],
      "execution_count": null,
      "outputs": []
    },
    {
      "cell_type": "code",
      "metadata": {
        "ExecuteTime": {
          "end_time": "2020-04-05T15:23:17.849987Z",
          "start_time": "2020-04-05T15:23:17.833353Z"
        },
        "id": "KR8jTvXqlVYl"
      },
      "source": [
        "features = ..."
      ],
      "execution_count": null,
      "outputs": []
    },
    {
      "cell_type": "code",
      "metadata": {
        "ExecuteTime": {
          "end_time": "2020-04-05T15:23:27.183976Z",
          "start_time": "2020-04-05T15:23:27.164525Z"
        },
        "id": "-rHCBQPflVYm"
      },
      "source": [
        "features = ..."
      ],
      "execution_count": null,
      "outputs": []
    },
    {
      "cell_type": "markdown",
      "metadata": {
        "id": "CdlGzTnHlVYm"
      },
      "source": [
        "### TASK III.3 Standardize the lcvs and extract some features from the raw lightcurve - \n",
        "I have some examples of how I did it in the next few lines of code"
      ]
    },
    {
      "cell_type": "code",
      "metadata": {
        "ExecuteTime": {
          "end_time": "2020-04-05T15:08:48.937895Z",
          "start_time": "2020-04-05T15:08:48.933106Z"
        },
        "id": "bBgyURWglVYm"
      },
      "source": [
        "lcvs[\"fluxnormed\"] = 0."
      ],
      "execution_count": null,
      "outputs": []
    },
    {
      "cell_type": "code",
      "metadata": {
        "ExecuteTime": {
          "end_time": "2020-04-05T15:09:54.550533Z",
          "start_time": "2020-04-05T15:08:48.939753Z"
        },
        "id": "xLssUsmGlVYm"
      },
      "source": [
        "# normalize each LC this is very slow. can you make  it faster?\n",
        "def normed(df):\n",
        "   ...\n",
        "   return df\n",
        "    \n",
        "    \n",
        "lcvs = lcvs.groupby([\"object_id\", \"passband\"]).apply(normed)\n",
        "\n",
        "# this is how it could be done in a for loop. But it would take hours!!\n",
        "#for obj in  objects:\n",
        "#    for band in bands:\n",
        "#        lcvs[lcvs.object_id == obj][lcvs.passband == band].normedflux =\\\n",
        "#             lcvs[lcvs.object_id == obj][lcvs.passband == band].flux - means.loc[obj, band]\n",
        "#        lcvs[lcvs.object_id == obj][lcvs.passband == band].normedflux /= stds.loc[obj, band]\n",
        "\n",
        "# IF YOU GET STUCK ON THIS LOOK AT MY SOLUTION HERE https://gist.github.com/fedhere/b504759cb4513e1cfcf3727760c50589\n"
      ],
      "execution_count": null,
      "outputs": []
    },
    {
      "cell_type": "code",
      "metadata": {
        "ExecuteTime": {
          "end_time": "2020-04-05T15:09:54.723517Z",
          "start_time": "2020-04-05T15:09:54.552158Z"
        },
        "id": "KoTeKAZilVYm"
      },
      "source": [
        "# replot the normalized time series to make sure I did it right\n",
        "..."
      ],
      "execution_count": null,
      "outputs": []
    },
    {
      "cell_type": "markdown",
      "metadata": {
        "ExecuteTime": {
          "end_time": "2020-04-05T15:20:24.617557Z",
          "start_time": "2020-04-05T15:12:14.642Z"
        },
        "id": "H72fBbn8lVYn"
      },
      "source": [
        "Figure : ..."
      ]
    },
    {
      "cell_type": "markdown",
      "metadata": {
        "id": "XUcs5fFjlVYn"
      },
      "source": [
        "min and max: if I did not get the means before I would store these data. seance I have the mean and the min max of the not standardized data this is irrelevant\n"
      ]
    },
    {
      "cell_type": "markdown",
      "metadata": {
        "ExecuteTime": {
          "end_time": "2020-04-05T14:54:48.400855Z",
          "start_time": "2020-04-05T14:54:48.399021Z"
        },
        "id": "V36QL4dQlVYn"
      },
      "source": [
        "the median of the standardizeed distribution will convey the location of the \"center of mass\" of the data with respect to the mean\n"
      ]
    },
    {
      "cell_type": "code",
      "metadata": {
        "ExecuteTime": {
          "end_time": "2020-04-05T15:23:49.826929Z",
          "start_time": "2020-04-05T15:23:49.816626Z"
        },
        "id": "GSPLxkDglVYn"
      },
      "source": [
        "features = ..."
      ],
      "execution_count": null,
      "outputs": []
    },
    {
      "cell_type": "markdown",
      "metadata": {
        "id": "7RMB7NBZlVYo"
      },
      "source": [
        "\n",
        "extract some features that come from simple models of the lightcurve\n",
        "\n"
      ]
    },
    {
      "cell_type": "markdown",
      "metadata": {
        "id": "cG4QmcVLlVYo"
      },
      "source": [
        "a line fit to the standardized data and store the slope and intercept as new features. See here for how to apply this with a groupby https://stackoverflow.com/questions/14529838/apply-multiple-functions-to-multiple-groupby-columns\n",
        "If you can use groupby you get an extra point (cause that would be a very efficient way to do it)"
      ]
    },
    {
      "cell_type": "code",
      "metadata": {
        "ExecuteTime": {
          "end_time": "2020-04-05T15:10:00.892421Z",
          "start_time": "2020-04-05T15:09:54.965659Z"
        },
        "id": "hYQpQkqylVYo"
      },
      "source": [
        "def linfit(lc):\n",
        "    '''\n",
        "    fits a line to a lightcurve and returns the parameters:\n",
        "    input:\n",
        "      lc: the array containing the lightcurve datapoints\n",
        "    output:\n",
        "      slope\n",
        "      intercept\n",
        "      '''\n",
        "    pars = ...\n",
        "    return pars\n",
        "linfits = lcvs.groupby([\"object_id\", \"passband\"]).apply(linfit)"
      ],
      "execution_count": null,
      "outputs": []
    },
    {
      "cell_type": "code",
      "metadata": {
        "ExecuteTime": {
          "end_time": "2020-04-05T15:10:00.898003Z",
          "start_time": "2020-04-05T15:10:00.894315Z"
        },
        "id": "Dz9Td0udlVYo",
        "outputId": "96810c9e-ff4e-4db5-fe9b-8117cf45877e"
      },
      "source": [
        "linfits.shape"
      ],
      "execution_count": null,
      "outputs": [
        {
          "output_type": "execute_result",
          "data": {
            "text/plain": [
              "(47088,)"
            ]
          },
          "metadata": {
            "tags": []
          },
          "execution_count": 21
        }
      ]
    },
    {
      "cell_type": "code",
      "metadata": {
        "ExecuteTime": {
          "end_time": "2020-04-05T15:10:00.911150Z",
          "start_time": "2020-04-05T15:10:00.899457Z"
        },
        "id": "OSxpEZmjlVYo"
      },
      "source": [
        "slopes = [x[0] for x in linfits.values[:]]\n",
        "intercepts = ...\n"
      ],
      "execution_count": null,
      "outputs": []
    },
    {
      "cell_type": "code",
      "metadata": {
        "ExecuteTime": {
          "end_time": "2020-04-05T15:24:07.238531Z",
          "start_time": "2020-04-05T15:24:07.227247Z"
        },
        "id": "H38lgih9lVYo"
      },
      "source": [
        "features[\"slopes\"] = slopes\n",
        "features[\"intercepts\"] = intercepts"
      ],
      "execution_count": null,
      "outputs": []
    },
    {
      "cell_type": "markdown",
      "metadata": {
        "id": "ZBu7EZOXlVYo"
      },
      "source": [
        "A quadratic function can tell you if the time series is concave or convex. \n",
        "If we fit both line and a quadratic we can also us the likelihood ratio to see wchich fit is best (remember the first couple of classes)"
      ]
    },
    {
      "cell_type": "code",
      "metadata": {
        "ExecuteTime": {
          "end_time": "2020-04-05T15:20:24.072959Z",
          "start_time": "2020-04-05T15:10:00.924415Z"
        },
        "id": "PU9rxsJblVYp",
        "outputId": "cf2528b5-a280-4285-9bd4-36790eae00f5"
      },
      "source": [
        "# this is slow!!\n",
        "from statsmodels.formula.api import ols\n",
        "def quadfit(x):\n",
        "  ...\n",
        "ols = lcvs.groupby([\"object_id\", \"passband\"]).apply(quadfit)"
      ],
      "execution_count": null,
      "outputs": [
        {
          "output_type": "stream",
          "text": [
            "/Users/fbb/anaconda3/lib/python3.7/site-packages/statsmodels/regression/linear_model.py:867: RuntimeWarning: divide by zero encountered in log\n",
            "  llf = -nobs2*np.log(2*np.pi) - nobs2*np.log(ssr / nobs) - nobs2\n"
          ],
          "name": "stderr"
        }
      ]
    },
    {
      "cell_type": "markdown",
      "source": [
        "## TASK III.4: features from metadata\n",
        "\n",
        "when you do this think about what you need to perform the classification. before you decide briefly look at the tasks you have to peform in part 2"
      ],
      "metadata": {
        "id": "t4oVNpoD7pA_"
      }
    },
    {
      "cell_type": "markdown",
      "metadata": {
        "id": "2dxMrRA0lVYp"
      },
      "source": [
        "## Task III.5: assemble and show your feature space\n",
        "\n",
        "\n",
        "### Manipulate your dataframe until it has N objects on the N rows and M features on the columnms. Note that this may take a few steps. _The partial code below is given to you as an example but you do not have to follow it_\n",
        "\n",
        "<font color='red'>I strongly recommand you save these features in a csv file with allfeatures.to_csv(...) so that if your code crushes when you work on part two you can simply reread the feature file without rerunning the code!</font>\n",
        "\n",
        "This was my dataframe after feature extraction. Yours will look different but it should be structured the same way: object + bandpass makes a row, features are the columns"
      ]
    },
    {
      "cell_type": "code",
      "metadata": {
        "ExecuteTime": {
          "end_time": "2020-04-05T15:26:56.029317Z",
          "start_time": "2020-04-05T15:26:55.976833Z"
        },
        "id": "uVn51ap9lVYq",
        "outputId": "381df2f0-bad2-44e2-88c5-fb6acdf7e028"
      },
      "source": [
        "allfeatures.head()"
      ],
      "execution_count": null,
      "outputs": [
        {
          "output_type": "execute_result",
          "data": {
            "text/html": [
              "<div>\n",
              "<style scoped>\n",
              "    .dataframe tbody tr th:only-of-type {\n",
              "        vertical-align: middle;\n",
              "    }\n",
              "\n",
              "    .dataframe tbody tr th {\n",
              "        vertical-align: top;\n",
              "    }\n",
              "\n",
              "    .dataframe thead th {\n",
              "        text-align: right;\n",
              "    }\n",
              "</style>\n",
              "<table border=\"1\" class=\"dataframe\">\n",
              "  <thead>\n",
              "    <tr style=\"text-align: right;\">\n",
              "      <th></th>\n",
              "      <th>(0, mean)</th>\n",
              "      <th>(0, std)</th>\n",
              "      <th>(0, m2)</th>\n",
              "      <th>(0, m3)</th>\n",
              "      <th>(0, maxs)</th>\n",
              "      <th>(0, mins)</th>\n",
              "      <th>(0, median)</th>\n",
              "      <th>(0, slopes)</th>\n",
              "      <th>(0, intercepts)</th>\n",
              "      <th>(0, ll1)</th>\n",
              "      <th>...</th>\n",
              "      <th>(5, slopes)</th>\n",
              "      <th>(5, intercepts)</th>\n",
              "      <th>(5, ll1)</th>\n",
              "      <th>(5, ll2)</th>\n",
              "      <th>(5, ll3)</th>\n",
              "      <th>decl</th>\n",
              "      <th>ddf_bool</th>\n",
              "      <th>hostgal_photoz</th>\n",
              "      <th>hostgal_photoz_err</th>\n",
              "      <th>target</th>\n",
              "    </tr>\n",
              "  </thead>\n",
              "  <tbody>\n",
              "    <tr>\n",
              "      <th>0</th>\n",
              "      <td>-3.254554</td>\n",
              "      <td>83.944735</td>\n",
              "      <td>6934.865833</td>\n",
              "      <td>6934.865833</td>\n",
              "      <td>125.182808</td>\n",
              "      <td>-116.913223</td>\n",
              "      <td>-0.080537</td>\n",
              "      <td>0.005676</td>\n",
              "      <td>-0.175947</td>\n",
              "      <td>-84.013092</td>\n",
              "      <td>...</td>\n",
              "      <td>0.021319</td>\n",
              "      <td>-0.596932</td>\n",
              "      <td>-76.917754</td>\n",
              "      <td>-77.386461</td>\n",
              "      <td>-1.0</td>\n",
              "      <td>-61.9438</td>\n",
              "      <td>1</td>\n",
              "      <td>0.000</td>\n",
              "      <td>0.000</td>\n",
              "      <td>92</td>\n",
              "    </tr>\n",
              "    <tr>\n",
              "      <th>1</th>\n",
              "      <td>-2.720398</td>\n",
              "      <td>7.113509</td>\n",
              "      <td>49.879128</td>\n",
              "      <td>49.879128</td>\n",
              "      <td>14.509829</td>\n",
              "      <td>-14.735178</td>\n",
              "      <td>-0.052914</td>\n",
              "      <td>-0.041433</td>\n",
              "      <td>1.429423</td>\n",
              "      <td>-45.801483</td>\n",
              "      <td>...</td>\n",
              "      <td>-0.037903</td>\n",
              "      <td>1.042343</td>\n",
              "      <td>-65.167686</td>\n",
              "      <td>-65.424297</td>\n",
              "      <td>-1.0</td>\n",
              "      <td>-27.7844</td>\n",
              "      <td>1</td>\n",
              "      <td>1.627</td>\n",
              "      <td>0.255</td>\n",
              "      <td>88</td>\n",
              "    </tr>\n",
              "    <tr>\n",
              "      <th>2</th>\n",
              "      <td>-0.048080</td>\n",
              "      <td>1.828872</td>\n",
              "      <td>3.298318</td>\n",
              "      <td>3.298318</td>\n",
              "      <td>5.942166</td>\n",
              "      <td>-3.459960</td>\n",
              "      <td>0.039463</td>\n",
              "      <td>-0.001798</td>\n",
              "      <td>0.063840</td>\n",
              "      <td>-101.249926</td>\n",
              "      <td>...</td>\n",
              "      <td>0.019612</td>\n",
              "      <td>-0.490299</td>\n",
              "      <td>-66.518080</td>\n",
              "      <td>-67.853917</td>\n",
              "      <td>1.0</td>\n",
              "      <td>-6.5796</td>\n",
              "      <td>1</td>\n",
              "      <td>0.226</td>\n",
              "      <td>0.016</td>\n",
              "      <td>42</td>\n",
              "    </tr>\n",
              "    <tr>\n",
              "      <th>3</th>\n",
              "      <td>1.797523</td>\n",
              "      <td>4.374445</td>\n",
              "      <td>18.869993</td>\n",
              "      <td>18.869993</td>\n",
              "      <td>18.014029</td>\n",
              "      <td>-3.874349</td>\n",
              "      <td>-0.169349</td>\n",
              "      <td>-0.013089</td>\n",
              "      <td>0.464675</td>\n",
              "      <td>-88.423048</td>\n",
              "      <td>...</td>\n",
              "      <td>-0.002816</td>\n",
              "      <td>0.076043</td>\n",
              "      <td>-64.783463</td>\n",
              "      <td>-77.536999</td>\n",
              "      <td>-1.0</td>\n",
              "      <td>-45.5867</td>\n",
              "      <td>1</td>\n",
              "      <td>0.281</td>\n",
              "      <td>1.152</td>\n",
              "      <td>90</td>\n",
              "    </tr>\n",
              "    <tr>\n",
              "      <th>4</th>\n",
              "      <td>0.660948</td>\n",
              "      <td>2.360084</td>\n",
              "      <td>5.481586</td>\n",
              "      <td>5.481586</td>\n",
              "      <td>5.330927</td>\n",
              "      <td>-6.804703</td>\n",
              "      <td>-0.033864</td>\n",
              "      <td>0.017117</td>\n",
              "      <td>-0.530614</td>\n",
              "      <td>-84.959510</td>\n",
              "      <td>...</td>\n",
              "      <td>0.015555</td>\n",
              "      <td>-0.435534</td>\n",
              "      <td>-76.526495</td>\n",
              "      <td>-76.666778</td>\n",
              "      <td>1.0</td>\n",
              "      <td>-63.8237</td>\n",
              "      <td>1</td>\n",
              "      <td>0.241</td>\n",
              "      <td>0.018</td>\n",
              "      <td>90</td>\n",
              "    </tr>\n",
              "  </tbody>\n",
              "</table>\n",
              "<p>5 rows × 77 columns</p>\n",
              "</div>"
            ],
            "text/plain": [
              "   (0, mean)   (0, std)      (0, m2)      (0, m3)   (0, maxs)   (0, mins)  \\\n",
              "0  -3.254554  83.944735  6934.865833  6934.865833  125.182808 -116.913223   \n",
              "1  -2.720398   7.113509    49.879128    49.879128   14.509829  -14.735178   \n",
              "2  -0.048080   1.828872     3.298318     3.298318    5.942166   -3.459960   \n",
              "3   1.797523   4.374445    18.869993    18.869993   18.014029   -3.874349   \n",
              "4   0.660948   2.360084     5.481586     5.481586    5.330927   -6.804703   \n",
              "\n",
              "   (0, median)  (0, slopes)  (0, intercepts)    (0, ll1)  ...  (5, slopes)  \\\n",
              "0    -0.080537     0.005676        -0.175947  -84.013092  ...     0.021319   \n",
              "1    -0.052914    -0.041433         1.429423  -45.801483  ...    -0.037903   \n",
              "2     0.039463    -0.001798         0.063840 -101.249926  ...     0.019612   \n",
              "3    -0.169349    -0.013089         0.464675  -88.423048  ...    -0.002816   \n",
              "4    -0.033864     0.017117        -0.530614  -84.959510  ...     0.015555   \n",
              "\n",
              "   (5, intercepts)   (5, ll1)   (5, ll2)  (5, ll3)     decl  ddf_bool  \\\n",
              "0        -0.596932 -76.917754 -77.386461      -1.0 -61.9438         1   \n",
              "1         1.042343 -65.167686 -65.424297      -1.0 -27.7844         1   \n",
              "2        -0.490299 -66.518080 -67.853917       1.0  -6.5796         1   \n",
              "3         0.076043 -64.783463 -77.536999      -1.0 -45.5867         1   \n",
              "4        -0.435534 -76.526495 -76.666778       1.0 -63.8237         1   \n",
              "\n",
              "   hostgal_photoz  hostgal_photoz_err  target  \n",
              "0           0.000               0.000      92  \n",
              "1           1.627               0.255      88  \n",
              "2           0.226               0.016      42  \n",
              "3           0.281               1.152      90  \n",
              "4           0.241               0.018      90  \n",
              "\n",
              "[5 rows x 77 columns]"
            ]
          },
          "metadata": {
            "tags": []
          },
          "execution_count": 50
        }
      ]
    },
    {
      "cell_type": "markdown",
      "source": [
        "NOTE: this took several steps. The codes and output below convey some of those steps. You do not have to use this code, it is here to help you if you need it\n",
        "\n",
        "In the way I cereated the feature dataframe I have a feature column for each object and bandpass. I need to manipulate the dataframe so that I have 6xN features per object where N is the number of eatures I engineered. \n"
      ],
      "metadata": {
        "id": "9KFcN0YNu3Js"
      }
    },
    {
      "cell_type": "code",
      "metadata": {
        "ExecuteTime": {
          "end_time": "2020-04-05T15:24:31.981106Z",
          "start_time": "2020-04-05T15:24:31.967657Z"
        },
        "id": "Qsv588MBlVYp",
        "outputId": "41e28682-0333-44f5-f9e9-51d2db687de6"
      },
      "source": [
        "features.head()"
      ],
      "execution_count": null,
      "outputs": [
        {
          "output_type": "execute_result",
          "data": {
            "text/html": [
              "<div>\n",
              "<style scoped>\n",
              "    .dataframe tbody tr th:only-of-type {\n",
              "        vertical-align: middle;\n",
              "    }\n",
              "\n",
              "    .dataframe tbody tr th {\n",
              "        vertical-align: top;\n",
              "    }\n",
              "\n",
              "    .dataframe thead th {\n",
              "        text-align: right;\n",
              "    }\n",
              "</style>\n",
              "<table border=\"1\" class=\"dataframe\">\n",
              "  <thead>\n",
              "    <tr style=\"text-align: right;\">\n",
              "      <th></th>\n",
              "      <th></th>\n",
              "      <th>mean</th>\n",
              "      <th>std</th>\n",
              "      <th>m2</th>\n",
              "      <th>m3</th>\n",
              "      <th>maxs</th>\n",
              "      <th>mins</th>\n",
              "      <th>median</th>\n",
              "      <th>slopes</th>\n",
              "      <th>intercepts</th>\n",
              "      <th>ll1</th>\n",
              "      <th>ll2</th>\n",
              "      <th>ll3</th>\n",
              "    </tr>\n",
              "    <tr>\n",
              "      <th>object_id</th>\n",
              "      <th>passband</th>\n",
              "      <th></th>\n",
              "      <th></th>\n",
              "      <th></th>\n",
              "      <th></th>\n",
              "      <th></th>\n",
              "      <th></th>\n",
              "      <th></th>\n",
              "      <th></th>\n",
              "      <th></th>\n",
              "      <th></th>\n",
              "      <th></th>\n",
              "      <th></th>\n",
              "    </tr>\n",
              "  </thead>\n",
              "  <tbody>\n",
              "    <tr>\n",
              "      <th rowspan=\"5\" valign=\"top\">615</th>\n",
              "      <th>0</th>\n",
              "      <td>-3.254554</td>\n",
              "      <td>83.944735</td>\n",
              "      <td>6934.865833</td>\n",
              "      <td>6934.865833</td>\n",
              "      <td>125.182808</td>\n",
              "      <td>-116.913223</td>\n",
              "      <td>-0.080537</td>\n",
              "      <td>0.005676</td>\n",
              "      <td>-0.175947</td>\n",
              "      <td>-84.013092</td>\n",
              "      <td>-88.218652</td>\n",
              "      <td>-1.0</td>\n",
              "    </tr>\n",
              "    <tr>\n",
              "      <th>1</th>\n",
              "      <td>-385.699911</td>\n",
              "      <td>601.787302</td>\n",
              "      <td>355904.026224</td>\n",
              "      <td>355904.026224</td>\n",
              "      <td>660.626343</td>\n",
              "      <td>-1100.440063</td>\n",
              "      <td>-0.170090</td>\n",
              "      <td>0.014032</td>\n",
              "      <td>-0.399902</td>\n",
              "      <td>-80.867915</td>\n",
              "      <td>-80.869998</td>\n",
              "      <td>-1.0</td>\n",
              "    </tr>\n",
              "    <tr>\n",
              "      <th>2</th>\n",
              "      <td>-134.146566</td>\n",
              "      <td>455.121346</td>\n",
              "      <td>203564.138816</td>\n",
              "      <td>203564.138816</td>\n",
              "      <td>611.984558</td>\n",
              "      <td>-681.858887</td>\n",
              "      <td>-0.289021</td>\n",
              "      <td>0.017676</td>\n",
              "      <td>-0.503760</td>\n",
              "      <td>-80.092803</td>\n",
              "      <td>-80.109763</td>\n",
              "      <td>-1.0</td>\n",
              "    </tr>\n",
              "    <tr>\n",
              "      <th>3</th>\n",
              "      <td>-121.103501</td>\n",
              "      <td>335.425053</td>\n",
              "      <td>110570.138947</td>\n",
              "      <td>110570.138947</td>\n",
              "      <td>445.737061</td>\n",
              "      <td>-530.644592</td>\n",
              "      <td>-0.122434</td>\n",
              "      <td>0.020475</td>\n",
              "      <td>-0.583524</td>\n",
              "      <td>-79.226482</td>\n",
              "      <td>-79.290039</td>\n",
              "      <td>-1.0</td>\n",
              "    </tr>\n",
              "    <tr>\n",
              "      <th>4</th>\n",
              "      <td>-55.954592</td>\n",
              "      <td>291.803449</td>\n",
              "      <td>83681.162283</td>\n",
              "      <td>83681.162283</td>\n",
              "      <td>381.953735</td>\n",
              "      <td>-422.184509</td>\n",
              "      <td>-0.163078</td>\n",
              "      <td>0.022343</td>\n",
              "      <td>-0.636786</td>\n",
              "      <td>-78.160027</td>\n",
              "      <td>-78.480261</td>\n",
              "      <td>-1.0</td>\n",
              "    </tr>\n",
              "  </tbody>\n",
              "</table>\n",
              "</div>"
            ],
            "text/plain": [
              "                          mean         std             m2             m3  \\\n",
              "object_id passband                                                         \n",
              "615       0          -3.254554   83.944735    6934.865833    6934.865833   \n",
              "          1        -385.699911  601.787302  355904.026224  355904.026224   \n",
              "          2        -134.146566  455.121346  203564.138816  203564.138816   \n",
              "          3        -121.103501  335.425053  110570.138947  110570.138947   \n",
              "          4         -55.954592  291.803449   83681.162283   83681.162283   \n",
              "\n",
              "                          maxs         mins    median    slopes  intercepts  \\\n",
              "object_id passband                                                            \n",
              "615       0         125.182808  -116.913223 -0.080537  0.005676   -0.175947   \n",
              "          1         660.626343 -1100.440063 -0.170090  0.014032   -0.399902   \n",
              "          2         611.984558  -681.858887 -0.289021  0.017676   -0.503760   \n",
              "          3         445.737061  -530.644592 -0.122434  0.020475   -0.583524   \n",
              "          4         381.953735  -422.184509 -0.163078  0.022343   -0.636786   \n",
              "\n",
              "                          ll1        ll2  ll3  \n",
              "object_id passband                             \n",
              "615       0        -84.013092 -88.218652 -1.0  \n",
              "          1        -80.867915 -80.869998 -1.0  \n",
              "          2        -80.092803 -80.109763 -1.0  \n",
              "          3        -79.226482 -79.290039 -1.0  \n",
              "          4        -78.160027 -78.480261 -1.0  "
            ]
          },
          "metadata": {
            "tags": []
          },
          "execution_count": 40
        }
      ]
    },
    {
      "cell_type": "code",
      "metadata": {
        "ExecuteTime": {
          "end_time": "2020-04-05T15:26:52.274948Z",
          "start_time": "2020-04-05T15:26:52.144078Z"
        },
        "id": "8yuZTwEGlVYp"
      },
      "source": [
        "# unstack will do the trick ... !!!make sure you save a copy of your features before maniulating them!!! in vase something goes wrong.\n",
        "features = features.reset_index().set_index(['object_id','passband']).stack(\n",
        "    ).unstack([1,2])\n"
      ],
      "execution_count": null,
      "outputs": []
    },
    {
      "cell_type": "code",
      "metadata": {
        "ExecuteTime": {
          "end_time": "2020-04-05T15:26:52.727934Z",
          "start_time": "2020-04-05T15:26:52.703659Z"
        },
        "id": "G129n8MClVYp",
        "outputId": "9a44ccbf-9057-4243-aae8-a52e98ce973b"
      },
      "source": [
        "features.head()"
      ],
      "execution_count": null,
      "outputs": [
        {
          "output_type": "execute_result",
          "data": {
            "text/html": [
              "<div>\n",
              "<style scoped>\n",
              "    .dataframe tbody tr th:only-of-type {\n",
              "        vertical-align: middle;\n",
              "    }\n",
              "\n",
              "    .dataframe tbody tr th {\n",
              "        vertical-align: top;\n",
              "    }\n",
              "\n",
              "    .dataframe thead tr th {\n",
              "        text-align: left;\n",
              "    }\n",
              "\n",
              "    .dataframe thead tr:last-of-type th {\n",
              "        text-align: right;\n",
              "    }\n",
              "</style>\n",
              "<table border=\"1\" class=\"dataframe\">\n",
              "  <thead>\n",
              "    <tr>\n",
              "      <th>passband</th>\n",
              "      <th colspan=\"10\" halign=\"left\">0</th>\n",
              "      <th>...</th>\n",
              "      <th colspan=\"10\" halign=\"left\">5</th>\n",
              "    </tr>\n",
              "    <tr>\n",
              "      <th></th>\n",
              "      <th>mean</th>\n",
              "      <th>std</th>\n",
              "      <th>m2</th>\n",
              "      <th>m3</th>\n",
              "      <th>maxs</th>\n",
              "      <th>mins</th>\n",
              "      <th>median</th>\n",
              "      <th>slopes</th>\n",
              "      <th>intercepts</th>\n",
              "      <th>ll1</th>\n",
              "      <th>...</th>\n",
              "      <th>m2</th>\n",
              "      <th>m3</th>\n",
              "      <th>maxs</th>\n",
              "      <th>mins</th>\n",
              "      <th>median</th>\n",
              "      <th>slopes</th>\n",
              "      <th>intercepts</th>\n",
              "      <th>ll1</th>\n",
              "      <th>ll2</th>\n",
              "      <th>ll3</th>\n",
              "    </tr>\n",
              "    <tr>\n",
              "      <th>object_id</th>\n",
              "      <th></th>\n",
              "      <th></th>\n",
              "      <th></th>\n",
              "      <th></th>\n",
              "      <th></th>\n",
              "      <th></th>\n",
              "      <th></th>\n",
              "      <th></th>\n",
              "      <th></th>\n",
              "      <th></th>\n",
              "      <th></th>\n",
              "      <th></th>\n",
              "      <th></th>\n",
              "      <th></th>\n",
              "      <th></th>\n",
              "      <th></th>\n",
              "      <th></th>\n",
              "      <th></th>\n",
              "      <th></th>\n",
              "      <th></th>\n",
              "      <th></th>\n",
              "    </tr>\n",
              "  </thead>\n",
              "  <tbody>\n",
              "    <tr>\n",
              "      <th>615</th>\n",
              "      <td>-3.254554</td>\n",
              "      <td>83.944735</td>\n",
              "      <td>6934.865833</td>\n",
              "      <td>6934.865833</td>\n",
              "      <td>125.182808</td>\n",
              "      <td>-116.913223</td>\n",
              "      <td>-0.080537</td>\n",
              "      <td>0.005676</td>\n",
              "      <td>-0.175947</td>\n",
              "      <td>-84.013092</td>\n",
              "      <td>...</td>\n",
              "      <td>85370.493377</td>\n",
              "      <td>85370.493377</td>\n",
              "      <td>378.188141</td>\n",
              "      <td>-422.815094</td>\n",
              "      <td>-0.129163</td>\n",
              "      <td>0.021319</td>\n",
              "      <td>-0.596932</td>\n",
              "      <td>-76.917754</td>\n",
              "      <td>-77.386461</td>\n",
              "      <td>-1.0</td>\n",
              "    </tr>\n",
              "    <tr>\n",
              "      <th>713</th>\n",
              "      <td>-2.720398</td>\n",
              "      <td>7.113509</td>\n",
              "      <td>49.879128</td>\n",
              "      <td>49.879128</td>\n",
              "      <td>14.509829</td>\n",
              "      <td>-14.735178</td>\n",
              "      <td>-0.052914</td>\n",
              "      <td>-0.041433</td>\n",
              "      <td>1.429423</td>\n",
              "      <td>-45.801483</td>\n",
              "      <td>...</td>\n",
              "      <td>49.427194</td>\n",
              "      <td>49.427194</td>\n",
              "      <td>14.770886</td>\n",
              "      <td>-14.211164</td>\n",
              "      <td>-0.094281</td>\n",
              "      <td>-0.037903</td>\n",
              "      <td>1.042343</td>\n",
              "      <td>-65.167686</td>\n",
              "      <td>-65.424297</td>\n",
              "      <td>-1.0</td>\n",
              "    </tr>\n",
              "    <tr>\n",
              "      <th>730</th>\n",
              "      <td>-0.048080</td>\n",
              "      <td>1.828872</td>\n",
              "      <td>3.298318</td>\n",
              "      <td>3.298318</td>\n",
              "      <td>5.942166</td>\n",
              "      <td>-3.459960</td>\n",
              "      <td>0.039463</td>\n",
              "      <td>-0.001798</td>\n",
              "      <td>0.063840</td>\n",
              "      <td>-101.249926</td>\n",
              "      <td>...</td>\n",
              "      <td>174.276892</td>\n",
              "      <td>174.276892</td>\n",
              "      <td>47.310059</td>\n",
              "      <td>-19.159811</td>\n",
              "      <td>-0.149763</td>\n",
              "      <td>0.019612</td>\n",
              "      <td>-0.490299</td>\n",
              "      <td>-66.518080</td>\n",
              "      <td>-67.853917</td>\n",
              "      <td>1.0</td>\n",
              "    </tr>\n",
              "    <tr>\n",
              "      <th>745</th>\n",
              "      <td>1.797523</td>\n",
              "      <td>4.374445</td>\n",
              "      <td>18.869993</td>\n",
              "      <td>18.869993</td>\n",
              "      <td>18.014029</td>\n",
              "      <td>-3.874349</td>\n",
              "      <td>-0.169349</td>\n",
              "      <td>-0.013089</td>\n",
              "      <td>0.464675</td>\n",
              "      <td>-88.423048</td>\n",
              "      <td>...</td>\n",
              "      <td>666.782529</td>\n",
              "      <td>666.782529</td>\n",
              "      <td>141.513290</td>\n",
              "      <td>-10.249387</td>\n",
              "      <td>-0.306851</td>\n",
              "      <td>-0.002816</td>\n",
              "      <td>0.076043</td>\n",
              "      <td>-64.783463</td>\n",
              "      <td>-77.536999</td>\n",
              "      <td>-1.0</td>\n",
              "    </tr>\n",
              "    <tr>\n",
              "      <th>1124</th>\n",
              "      <td>0.660948</td>\n",
              "      <td>2.360084</td>\n",
              "      <td>5.481586</td>\n",
              "      <td>5.481586</td>\n",
              "      <td>5.330927</td>\n",
              "      <td>-6.804703</td>\n",
              "      <td>-0.033864</td>\n",
              "      <td>0.017117</td>\n",
              "      <td>-0.530614</td>\n",
              "      <td>-84.959510</td>\n",
              "      <td>...</td>\n",
              "      <td>451.382820</td>\n",
              "      <td>451.382820</td>\n",
              "      <td>109.157585</td>\n",
              "      <td>-10.860540</td>\n",
              "      <td>-0.229697</td>\n",
              "      <td>0.015555</td>\n",
              "      <td>-0.435534</td>\n",
              "      <td>-76.526495</td>\n",
              "      <td>-76.666778</td>\n",
              "      <td>1.0</td>\n",
              "    </tr>\n",
              "  </tbody>\n",
              "</table>\n",
              "<p>5 rows × 72 columns</p>\n",
              "</div>"
            ],
            "text/plain": [
              "passband          0                                                   \\\n",
              "               mean        std           m2           m3        maxs   \n",
              "object_id                                                              \n",
              "615       -3.254554  83.944735  6934.865833  6934.865833  125.182808   \n",
              "713       -2.720398   7.113509    49.879128    49.879128   14.509829   \n",
              "730       -0.048080   1.828872     3.298318     3.298318    5.942166   \n",
              "745        1.797523   4.374445    18.869993    18.869993   18.014029   \n",
              "1124       0.660948   2.360084     5.481586     5.481586    5.330927   \n",
              "\n",
              "passband                                                          ...  \\\n",
              "                 mins    median    slopes intercepts         ll1  ...   \n",
              "object_id                                                         ...   \n",
              "615       -116.913223 -0.080537  0.005676  -0.175947  -84.013092  ...   \n",
              "713        -14.735178 -0.052914 -0.041433   1.429423  -45.801483  ...   \n",
              "730         -3.459960  0.039463 -0.001798   0.063840 -101.249926  ...   \n",
              "745         -3.874349 -0.169349 -0.013089   0.464675  -88.423048  ...   \n",
              "1124        -6.804703 -0.033864  0.017117  -0.530614  -84.959510  ...   \n",
              "\n",
              "passband              5                                                  \\\n",
              "                     m2            m3        maxs        mins    median   \n",
              "object_id                                                                 \n",
              "615        85370.493377  85370.493377  378.188141 -422.815094 -0.129163   \n",
              "713           49.427194     49.427194   14.770886  -14.211164 -0.094281   \n",
              "730          174.276892    174.276892   47.310059  -19.159811 -0.149763   \n",
              "745          666.782529    666.782529  141.513290  -10.249387 -0.306851   \n",
              "1124         451.382820    451.382820  109.157585  -10.860540 -0.229697   \n",
              "\n",
              "passband                                                   \n",
              "             slopes intercepts        ll1        ll2  ll3  \n",
              "object_id                                                  \n",
              "615        0.021319  -0.596932 -76.917754 -77.386461 -1.0  \n",
              "713       -0.037903   1.042343 -65.167686 -65.424297 -1.0  \n",
              "730        0.019612  -0.490299 -66.518080 -67.853917  1.0  \n",
              "745       -0.002816   0.076043 -64.783463 -77.536999 -1.0  \n",
              "1124       0.015555  -0.435534 -76.526495 -76.666778  1.0  \n",
              "\n",
              "[5 rows x 72 columns]"
            ]
          },
          "metadata": {
            "tags": []
          },
          "execution_count": 48
        }
      ]
    },
    {
      "cell_type": "code",
      "metadata": {
        "ExecuteTime": {
          "end_time": "2020-04-05T15:26:54.787204Z",
          "start_time": "2020-04-05T15:26:54.765872Z"
        },
        "id": "ZWRTM-vllVYq",
        "outputId": "e565d208-049c-44fc-c5d6-970d9f88a6a3"
      },
      "source": [
        "metadata.head()"
      ],
      "execution_count": null,
      "outputs": [
        {
          "output_type": "execute_result",
          "data": {
            "text/html": [
              "<div>\n",
              "<style scoped>\n",
              "    .dataframe tbody tr th:only-of-type {\n",
              "        vertical-align: middle;\n",
              "    }\n",
              "\n",
              "    .dataframe tbody tr th {\n",
              "        vertical-align: top;\n",
              "    }\n",
              "\n",
              "    .dataframe thead th {\n",
              "        text-align: right;\n",
              "    }\n",
              "</style>\n",
              "<table border=\"1\" class=\"dataframe\">\n",
              "  <thead>\n",
              "    <tr style=\"text-align: right;\">\n",
              "      <th></th>\n",
              "      <th>object_id</th>\n",
              "      <th>ra</th>\n",
              "      <th>decl</th>\n",
              "      <th>ddf_bool</th>\n",
              "      <th>hostgal_specz</th>\n",
              "      <th>hostgal_photoz</th>\n",
              "      <th>hostgal_photoz_err</th>\n",
              "      <th>distmod</th>\n",
              "      <th>mwebv</th>\n",
              "      <th>target</th>\n",
              "      <th>...</th>\n",
              "      <th>true_rv</th>\n",
              "      <th>true_av</th>\n",
              "      <th>true_peakmjd</th>\n",
              "      <th>libid_cadence</th>\n",
              "      <th>tflux_u</th>\n",
              "      <th>tflux_g</th>\n",
              "      <th>tflux_r</th>\n",
              "      <th>tflux_i</th>\n",
              "      <th>tflux_z</th>\n",
              "      <th>tflux_y</th>\n",
              "    </tr>\n",
              "  </thead>\n",
              "  <tbody>\n",
              "    <tr>\n",
              "      <th>0</th>\n",
              "      <td>615</td>\n",
              "      <td>349.0461</td>\n",
              "      <td>-61.9438</td>\n",
              "      <td>1</td>\n",
              "      <td>0.000</td>\n",
              "      <td>0.000</td>\n",
              "      <td>0.000</td>\n",
              "      <td>-9.000</td>\n",
              "      <td>0.017</td>\n",
              "      <td>92</td>\n",
              "      <td>...</td>\n",
              "      <td>0.0</td>\n",
              "      <td>0.0</td>\n",
              "      <td>59570.000</td>\n",
              "      <td>69</td>\n",
              "      <td>484.7</td>\n",
              "      <td>3286.7</td>\n",
              "      <td>3214.1</td>\n",
              "      <td>3039.7</td>\n",
              "      <td>2854.5</td>\n",
              "      <td>2837.0</td>\n",
              "    </tr>\n",
              "    <tr>\n",
              "      <th>1</th>\n",
              "      <td>713</td>\n",
              "      <td>53.0859</td>\n",
              "      <td>-27.7844</td>\n",
              "      <td>1</td>\n",
              "      <td>1.818</td>\n",
              "      <td>1.627</td>\n",
              "      <td>0.255</td>\n",
              "      <td>45.406</td>\n",
              "      <td>0.007</td>\n",
              "      <td>88</td>\n",
              "      <td>...</td>\n",
              "      <td>0.0</td>\n",
              "      <td>0.0</td>\n",
              "      <td>59570.000</td>\n",
              "      <td>34</td>\n",
              "      <td>108.7</td>\n",
              "      <td>117.7</td>\n",
              "      <td>119.9</td>\n",
              "      <td>149.6</td>\n",
              "      <td>147.9</td>\n",
              "      <td>150.5</td>\n",
              "    </tr>\n",
              "    <tr>\n",
              "      <th>2</th>\n",
              "      <td>730</td>\n",
              "      <td>33.5742</td>\n",
              "      <td>-6.5796</td>\n",
              "      <td>1</td>\n",
              "      <td>0.232</td>\n",
              "      <td>0.226</td>\n",
              "      <td>0.016</td>\n",
              "      <td>40.256</td>\n",
              "      <td>0.021</td>\n",
              "      <td>42</td>\n",
              "      <td>...</td>\n",
              "      <td>0.0</td>\n",
              "      <td>0.0</td>\n",
              "      <td>60444.379</td>\n",
              "      <td>9</td>\n",
              "      <td>0.0</td>\n",
              "      <td>0.0</td>\n",
              "      <td>0.0</td>\n",
              "      <td>0.0</td>\n",
              "      <td>0.0</td>\n",
              "      <td>0.0</td>\n",
              "    </tr>\n",
              "    <tr>\n",
              "      <th>3</th>\n",
              "      <td>745</td>\n",
              "      <td>0.1899</td>\n",
              "      <td>-45.5867</td>\n",
              "      <td>1</td>\n",
              "      <td>0.304</td>\n",
              "      <td>0.281</td>\n",
              "      <td>1.152</td>\n",
              "      <td>40.795</td>\n",
              "      <td>0.007</td>\n",
              "      <td>90</td>\n",
              "      <td>...</td>\n",
              "      <td>0.0</td>\n",
              "      <td>0.0</td>\n",
              "      <td>60130.453</td>\n",
              "      <td>38</td>\n",
              "      <td>0.0</td>\n",
              "      <td>0.0</td>\n",
              "      <td>0.0</td>\n",
              "      <td>0.0</td>\n",
              "      <td>0.0</td>\n",
              "      <td>0.0</td>\n",
              "    </tr>\n",
              "    <tr>\n",
              "      <th>4</th>\n",
              "      <td>1124</td>\n",
              "      <td>352.7113</td>\n",
              "      <td>-63.8237</td>\n",
              "      <td>1</td>\n",
              "      <td>0.193</td>\n",
              "      <td>0.241</td>\n",
              "      <td>0.018</td>\n",
              "      <td>40.417</td>\n",
              "      <td>0.024</td>\n",
              "      <td>90</td>\n",
              "      <td>...</td>\n",
              "      <td>0.0</td>\n",
              "      <td>0.0</td>\n",
              "      <td>60452.641</td>\n",
              "      <td>1</td>\n",
              "      <td>0.0</td>\n",
              "      <td>0.0</td>\n",
              "      <td>0.0</td>\n",
              "      <td>0.0</td>\n",
              "      <td>0.0</td>\n",
              "      <td>0.0</td>\n",
              "    </tr>\n",
              "  </tbody>\n",
              "</table>\n",
              "<p>5 rows × 26 columns</p>\n",
              "</div>"
            ],
            "text/plain": [
              "   object_id        ra     decl  ddf_bool  hostgal_specz  hostgal_photoz  \\\n",
              "0        615  349.0461 -61.9438         1          0.000           0.000   \n",
              "1        713   53.0859 -27.7844         1          1.818           1.627   \n",
              "2        730   33.5742  -6.5796         1          0.232           0.226   \n",
              "3        745    0.1899 -45.5867         1          0.304           0.281   \n",
              "4       1124  352.7113 -63.8237         1          0.193           0.241   \n",
              "\n",
              "   hostgal_photoz_err  distmod  mwebv  target  ...  true_rv  true_av  \\\n",
              "0               0.000   -9.000  0.017      92  ...      0.0      0.0   \n",
              "1               0.255   45.406  0.007      88  ...      0.0      0.0   \n",
              "2               0.016   40.256  0.021      42  ...      0.0      0.0   \n",
              "3               1.152   40.795  0.007      90  ...      0.0      0.0   \n",
              "4               0.018   40.417  0.024      90  ...      0.0      0.0   \n",
              "\n",
              "   true_peakmjd  libid_cadence  tflux_u  tflux_g  tflux_r  tflux_i  tflux_z  \\\n",
              "0     59570.000             69    484.7   3286.7   3214.1   3039.7   2854.5   \n",
              "1     59570.000             34    108.7    117.7    119.9    149.6    147.9   \n",
              "2     60444.379              9      0.0      0.0      0.0      0.0      0.0   \n",
              "3     60130.453             38      0.0      0.0      0.0      0.0      0.0   \n",
              "4     60452.641              1      0.0      0.0      0.0      0.0      0.0   \n",
              "\n",
              "   tflux_y  \n",
              "0   2837.0  \n",
              "1    150.5  \n",
              "2      0.0  \n",
              "3      0.0  \n",
              "4      0.0  \n",
              "\n",
              "[5 rows x 26 columns]"
            ]
          },
          "metadata": {
            "tags": []
          },
          "execution_count": 49
        }
      ]
    },
    {
      "cell_type": "code",
      "source": [
        "#finally, merging the features and metadatafeatures gave me allfeatures as I showed it above\n",
        "allfeatures = features.merge(metadata...\n"
      ],
      "metadata": {
        "id": "aHf15pjivC9r"
      },
      "execution_count": null,
      "outputs": []
    },
    {
      "cell_type": "markdown",
      "metadata": {
        "id": "lpM3iE2HlVYq"
      },
      "source": [
        "* Deliverable: what is the shape of your final feature space?"
      ]
    },
    {
      "cell_type": "code",
      "metadata": {
        "ExecuteTime": {
          "end_time": "2020-04-05T15:52:47.165508Z",
          "start_time": "2020-04-05T15:52:47.162316Z"
        },
        "id": "rwQfgVzLlVYq",
        "outputId": "9bf5d13e-752b-4ba3-c635-94dfaa7efe74"
      },
      "source": [
        "print(\"My feature space is {} features (columns)\".format(...)"
      ],
      "execution_count": null,
      "outputs": [
        {
          "output_type": "stream",
          "text": [
            "My feature space is 75 features (columns)\n"
          ],
          "name": "stdout"
        }
      ]
    },
    {
      "cell_type": "markdown",
      "metadata": {
        "id": "EIHmx_fdlVYq"
      },
      "source": [
        "# Task IV: Create your train and test set out of the feature matrix and preprocess them with the appropriately (remember that based on the model you choose you may need to scale, normalize, standardize, or whiten your data) - 2 points\n",
        "\n",
        "the kaggle challenges provide training and test data, but here create your own training/test from the data that you read in (the training set from kaggle)"
      ]
    },
    {
      "cell_type": "markdown",
      "metadata": {
        "id": "DzVf3GUTlVYs"
      },
      "source": [
        "make sure you deal with missing data\n",
        "\n",
        "split train-test set"
      ]
    },
    {
      "cell_type": "code",
      "metadata": {
        "ExecuteTime": {
          "end_time": "2020-04-05T15:45:40.974740Z",
          "start_time": "2020-04-05T15:45:40.949498Z"
        },
        "id": "79FFUfbllVYs"
      },
      "source": [
        "\n",
        "from sklearn import preprocessing\n",
        "\n"
      ],
      "execution_count": null,
      "outputs": []
    },
    {
      "cell_type": "markdown",
      "metadata": {
        "id": "SSeJlaasuuK1"
      },
      "source": [
        "#  PART II: Classifying:\n",
        "\n",
        "\n",
        "\n",
        "\n"
      ]
    },
    {
      "cell_type": "markdown",
      "source": [
        "\n",
        "# TASK V Easy classification task: \n"
      ],
      "metadata": {
        "id": "MBJp6a2Tw_Ev"
      }
    },
    {
      "cell_type": "markdown",
      "source": [
        "### TASK V.I Build a model and fit it to the data\n",
        "\n",
        "use as target variable **ddf_bool** - this is the kind of survey, i.e. the kind of observing strategy that is implemented. DDF stands for Deep Drilling Field and the observations are much more dense in time. This classification should be achievable.\n"
      ],
      "metadata": {
        "id": "dFtrS7xdxzBu"
      }
    },
    {
      "cell_type": "markdown",
      "source": [
        "\n",
        "### TASK V.II Deliverable I:\n",
        "measure model accuracy and comment : what does the number obtained mean?"
      ],
      "metadata": {
        "id": "wulN-FrTx0Zq"
      }
    },
    {
      "cell_type": "markdown",
      "source": [
        "\n",
        "### TASK V.III Deliverable II: visualize the model result\n",
        "Either ROC or Classification matrix (check the higgs boson notebook https://github.com/fedhere/DSPS_FBianco/tree/master/HW8)\n",
        "\n"
      ],
      "metadata": {
        "id": "Y3r0WQd5x1MH"
      }
    },
    {
      "cell_type": "markdown",
      "source": [
        "## TASK VI Harder classification task - mandatory for 661 EC for 461:\n"
      ],
      "metadata": {
        "id": "pD1_wHtXxFCm"
      }
    },
    {
      "cell_type": "markdown",
      "source": [
        "### TASK VI.I Build a model and fit it to the data\n",
        "Use an apprioriate classification method given your features dataset to classify objects predicting the \"target\" according to the **target** variable of the in the mtadata dataframe for both DDF and normal survey separately\n",
        "\n"
      ],
      "metadata": {
        "id": "jq25p2iXx60t"
      }
    },
    {
      "cell_type": "markdown",
      "source": [
        "\n",
        "### TASK VI.II Deliverable I: \n",
        "measure model accuracy and comment : what does the number obtained mean?"
      ],
      "metadata": {
        "id": "1G1vENtEx-oW"
      }
    },
    {
      "cell_type": "markdown",
      "source": [
        "\n",
        "\n",
        "### TASK VI.III Deliverable II: Visualize model result\n",
        "Either ROC or Classification matrix "
      ],
      "metadata": {
        "id": "oihGnSjIyAaq"
      }
    },
    {
      "cell_type": "markdown",
      "metadata": {
        "id": "NcQBOthllVYs"
      },
      "source": [
        "\n",
        "# EC: try to visualize the features. This is a high dimensional parameter space. you can for example try 2D t-SNE projection of your feature space and visualize it. \n",
        "If you are lucky, this will be a pretty plot!\n",
        "a great model to **Visualize** structure in data is  t-SNE. Any other option you come up with is ok! You can choose to use the code below or to not to, there will be no penalty."
      ]
    },
    {
      "cell_type": "code",
      "metadata": {
        "ExecuteTime": {
          "end_time": "2020-04-05T15:45:51.118637Z",
          "start_time": "2020-04-05T15:45:51.012856Z"
        },
        "id": "Q3naBUQXlVYt"
      },
      "source": [
        "from sklearn.manifold import TSNE"
      ],
      "execution_count": null,
      "outputs": []
    },
    {
      "cell_type": "code",
      "metadata": {
        "ExecuteTime": {
          "end_time": "2020-04-05T20:46:58.855689Z",
          "start_time": "2020-04-05T20:46:04.164240Z"
        },
        "id": "BxFMOQLQlVYt",
        "outputId": "c2cda830-b1f5-4f62-9986-338ddd356ef4"
      },
      "source": [
        "X_embedded = TSNE(n_components=2, random_state=345).fit_transform(X_scaled)\n",
        "X_embedded.shape\n",
        "pl.figure(figsize=(5,5))\n",
        "pl.scatter(X_embedded[:,0], X_embedded[:,1])\n",
        "pl.axis('off')\n",
        "pl.show()\n",
        "print(\"Figure: the 2D projection of the ~70-dimensional feature space we created by extracting features from the time series. \" + \n",
        "      \"The separation of the objects in the t-distribution based stocastic neighbourhood embedding (t-SNE) is promising: \" + \n",
        "      \"t-SNE is an embedding (a transformation to a different coordinate space) which is designed to preserve Eucledian\" + \n",
        "      \"pairwise distances existing in the higher dimensional parameter space. \" + \n",
        "      \"How many clusters can you see in this embedding?\" + \n",
        "      \"A note: since the t_SNE produces a projection of the feature space on an ideal set of coordinates, \" + \n",
        "      \"this is the only cxase in which you are allowed not to label your axes!\")\n"
      ],
      "execution_count": null,
      "outputs": [
        {
          "output_type": "display_data",
          "data": {
            "image/png": "[encoded data removed]",
            "text/plain": [
              "<Figure size 360x360 with 1 Axes>"
            ]
          },
          "metadata": {
            "tags": [],
            "needs_background": "light"
          }
        },
        {
          "output_type": "stream",
          "text": [
            "Figure: the 2D projection of the 79-dimensional feature space we created by extracting features from the time series. The separation of the objects in the t-distribution based stocastic neighbourhood embedding (t-SNE) is promising: t-SNE is an embedding (a transformation to a different coordinate space) which is designed to preserve Eucledianpairwise distances existing in the higher dimensional parameter space. How many clusters can you see in this embedding?A note: since the t_SNE produces a projection of the feature space on an ideal set of coordinates, this is the only cxase in which you are allowed not to label your axes!\n"
          ],
          "name": "stdout"
        }
      ]
    },
    {
      "cell_type": "markdown",
      "metadata": {
        "id": "zm0_7RWilVYt"
      },
      "source": [
        "We have to figure out if the clusters map to the target variable tho. So I will redo the plot colorcoded by target variable"
      ]
    },
    {
      "cell_type": "code",
      "metadata": {
        "id": "ljemoE1xr1OM"
      },
      "source": [
        "norm_obj= Normalize(vmin=y.min(), vmax=y.max())\n",
        "len([c for c in pl.cm.RdBu_r(norm_obj(y))]), X_embedded.shape\n",
        "pl.figure(figsize=(5,5))\n",
        "pl.axis('off')\n",
        "pl.scatter(X_embedded[:,0], X_embedded[:,1],  \n",
        "           color=[c for c in pl.cm.viridis(norm_obj(y))], alpha=0.5);\n"
      ],
      "execution_count": null,
      "outputs": []
    },
    {
      "cell_type": "markdown",
      "metadata": {
        "id": "ZRqFIkGolVYu"
      },
      "source": [
        "write a caption if you do use the code above to make figures"
      ]
    },
    {
      "cell_type": "markdown",
      "metadata": {
        "id": "A4Plz2hnlVYu"
      },
      "source": [
        "Does this map better on other features in the metadata?"
      ]
    },
    {
      "cell_type": "code",
      "metadata": {
        "ExecuteTime": {
          "end_time": "2020-04-05T20:48:46.533014Z",
          "start_time": "2020-04-05T20:47:25.735756Z"
        },
        "scrolled": false,
        "id": "YiD0_9-nlVYu"
      },
      "source": [
        "for col in metadata.columns:\n",
        "    v = metadata[col].astype(float)\n",
        "    pl.figure(figsize=(5,5))\n",
        "    pl.title(col)\n",
        "    pl.scatter(X_embedded[:,0], X_embedded[:,1],  color=[pl.cm.RdBu_r(Normalize(vmin=v.min(), vmax=v.max())(c))\n",
        "                                                         for c in v])\n",
        "\n",
        "    pl.show()"
      ],
      "execution_count": null,
      "outputs": []
    },
    {
      "cell_type": "code",
      "metadata": {
        "id": "i3zI3mqclVYu"
      },
      "source": [
        " "
      ],
      "execution_count": null,
      "outputs": []
    }
  ]
}
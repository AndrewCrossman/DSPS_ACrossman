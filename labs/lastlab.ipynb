{
  "nbformat": 4,
  "nbformat_minor": 0,
  "metadata": {
    "colab": {
      "name": "lastlab.ipynb",
      "provenance": [],
      "authorship_tag": "ABX9TyNNslEd7dvzq49cMsVkinjH",
      "include_colab_link": true
    },
    "kernelspec": {
      "name": "python3",
      "display_name": "Python 3"
    },
    "language_info": {
      "name": "python"
    },
    "accelerator": "GPU"
  },
  "cells": [
    {
      "cell_type": "markdown",
      "metadata": {
        "id": "view-in-github",
        "colab_type": "text"
      },
      "source": [
        "<a href=\"https://colab.research.google.com/github/AndrewCrossman/DSPS_ACrossman/blob/main/labs/lastlab.ipynb\" target=\"_parent\"><img src=\"https://colab.research.google.com/assets/colab-badge.svg\" alt=\"Open In Colab\"/></a>"
      ]
    },
    {
      "cell_type": "code",
      "execution_count": 5,
      "metadata": {
        "id": "-gNBoPQh9MpR"
      },
      "outputs": [],
      "source": [
        "import tensorflow as tf\n",
        "import numpy as np\n",
        "import scipy \n",
        "from scipy import io\n",
        "from scipy.interpolate import griddata\n",
        "import pylab as plt"
      ]
    },
    {
      "cell_type": "code",
      "source": [
        "!wget https://github.com/maziarraissi/PINNs/raw/master/appendix/Data/burgers_shock.mat"
      ],
      "metadata": {
        "colab": {
          "base_uri": "https://localhost:8080/"
        },
        "id": "oXWDcWmm_XL3",
        "outputId": "31e70aad-a57b-4d26-9170-18707771284f"
      },
      "execution_count": 6,
      "outputs": [
        {
          "output_type": "stream",
          "name": "stdout",
          "text": [
            "--2021-12-10 20:16:32--  https://github.com/maziarraissi/PINNs/raw/master/appendix/Data/burgers_shock.mat\n",
            "Resolving github.com (github.com)... 140.82.113.4\n",
            "Connecting to github.com (github.com)|140.82.113.4|:443... connected.\n",
            "HTTP request sent, awaiting response... 302 Found\n",
            "Location: https://raw.githubusercontent.com/maziarraissi/PINNs/master/appendix/Data/burgers_shock.mat [following]\n",
            "--2021-12-10 20:16:32--  https://raw.githubusercontent.com/maziarraissi/PINNs/master/appendix/Data/burgers_shock.mat\n",
            "Resolving raw.githubusercontent.com (raw.githubusercontent.com)... 185.199.110.133, 185.199.108.133, 185.199.111.133, ...\n",
            "Connecting to raw.githubusercontent.com (raw.githubusercontent.com)|185.199.110.133|:443... connected.\n",
            "HTTP request sent, awaiting response... 200 OK\n",
            "Length: 207944 (203K) [application/octet-stream]\n",
            "Saving to: ‘burgers_shock.mat’\n",
            "\n",
            "burgers_shock.mat   100%[===================>] 203.07K  --.-KB/s    in 0.02s   \n",
            "\n",
            "2021-12-10 20:16:32 (8.07 MB/s) - ‘burgers_shock.mat’ saved [207944/207944]\n",
            "\n"
          ]
        }
      ]
    },
    {
      "cell_type": "code",
      "source": [
        "data = scipy.io.loadmat('burgers_shock.mat')\n",
        "data.keys()\n",
        "t = data['t'].flatten()\n",
        "x = data['x'].flatten()\n",
        "Z = np.real(data['usol'])\n",
        "print(t.shape, x.shape, Z.shape)\n",
        "ax = plt.figure(figsize=(5,5)).add_subplot(111)\n",
        "plt.imshow(Z[::-1],extent=[0,1,-1,1])\n",
        "ax.set_xlabel(\"t\")\n",
        "ax.set_ylabel(\"x\");\n",
        "plt.axes().set_aspect(0.3)\n",
        "plt.colorbar();"
      ],
      "metadata": {
        "colab": {
          "base_uri": "https://localhost:8080/",
          "height": 375
        },
        "id": "zgKYZZpP_YZc",
        "outputId": "3dca82d7-bf4e-4b8b-d2b5-becc74e37a2c"
      },
      "execution_count": 11,
      "outputs": [
        {
          "output_type": "stream",
          "name": "stdout",
          "text": [
            "(100,) (256,) (256, 100)\n"
          ]
        },
        {
          "output_type": "stream",
          "name": "stderr",
          "text": [
            "/usr/local/lib/python3.7/dist-packages/ipykernel_launcher.py:11: MatplotlibDeprecationWarning: Adding an axes using the same arguments as a previous axes currently reuses the earlier instance.  In a future version, a new instance will always be created and returned.  Meanwhile, this warning can be suppressed, and the future behavior ensured, by passing a unique label to each axes instance.\n",
            "  # This is added back by InteractiveShellApp.init_path()\n"
          ]
        },
        {
          "output_type": "display_data",
          "data": {
            "image/png": "[encoded data removed]",
            "text/plain": [
              "<Figure size 360x360 with 2 Axes>"
            ]
          },
          "metadata": {
            "needs_background": "light"
          }
        }
      ]
    },
    {
      "cell_type": "code",
      "source": [
        "tf.random.set_seed(123)"
      ],
      "metadata": {
        "id": "6-KEsj_O__4-"
      },
      "execution_count": 14,
      "outputs": []
    },
    {
      "cell_type": "code",
      "source": [
        "pi = tf.constant(np.pi, dtype='float32')"
      ],
      "metadata": {
        "id": "PrenqsfgAGLk"
      },
      "execution_count": 15,
      "outputs": []
    },
    {
      "cell_type": "code",
      "source": [
        "def fun_u_0(x):\n",
        "  return -tf.sin(x * pi)\n",
        "\n",
        "def fun_u_b(t,x):\n",
        "  return tf.zero((t.shape[0], 1), dtype=\"float32\")\n",
        "\n",
        "def fun_res(u, u_t, u_x, u_xx):\n",
        "  return tf.abs(U_t + u*u_x - .01/pi * u_xx)"
      ],
      "metadata": {
        "id": "aYBYah2EAUMJ"
      },
      "execution_count": 17,
      "outputs": []
    },
    {
      "cell_type": "code",
      "source": [
        "n_b = 50\n",
        "n_0 = 50\n",
        "n_r = 10000\n",
        "#boundaries\n",
        "tmin = 0.\n",
        "tmax = 1.\n",
        "xmin = -1.\n",
        "xmax = 1."
      ],
      "metadata": {
        "id": "U82vs-1tBVyE"
      },
      "execution_count": 18,
      "outputs": []
    },
    {
      "cell_type": "code",
      "source": [
        "t_0 = tf.ones((n_0, 1), dtype=\"float32\") * tmin\n",
        "x_0 = tf.random.uniform((n_0, 1), xmin, xmax, dtype=\"float32\")\n",
        "X_0 = tf.concat([t_0, x_0], axis=1)\n",
        "X_0"
      ],
      "metadata": {
        "colab": {
          "base_uri": "https://localhost:8080/"
        },
        "id": "nj_Yjd13Brpu",
        "outputId": "5ee0a38f-b8a8-4616-95f3-84ee64f7fcff"
      },
      "execution_count": 19,
      "outputs": [
        {
          "output_type": "execute_result",
          "data": {
            "text/plain": [
              "<tf.Tensor: shape=(50, 2), dtype=float32, numpy=\n",
              "array([[ 0.        , -0.7476938 ],\n",
              "       [ 0.        ,  0.14550257],\n",
              "       [ 0.        , -0.4013734 ],\n",
              "       [ 0.        ,  0.09236717],\n",
              "       [ 0.        ,  0.44103146],\n",
              "       [ 0.        ,  0.5779066 ],\n",
              "       [ 0.        , -0.3846376 ],\n",
              "       [ 0.        , -0.03657794],\n",
              "       [ 0.        ,  0.30755043],\n",
              "       [ 0.        , -0.7580149 ],\n",
              "       [ 0.        , -0.27416515],\n",
              "       [ 0.        , -0.5102    ],\n",
              "       [ 0.        , -0.54608774],\n",
              "       [ 0.        ,  0.04020071],\n",
              "       [ 0.        ,  0.7369325 ],\n",
              "       [ 0.        , -0.42762113],\n",
              "       [ 0.        , -0.01630592],\n",
              "       [ 0.        ,  0.34997678],\n",
              "       [ 0.        , -0.11965895],\n",
              "       [ 0.        , -0.02140164],\n",
              "       [ 0.        ,  0.6112704 ],\n",
              "       [ 0.        ,  0.7948568 ],\n",
              "       [ 0.        ,  0.27323198],\n",
              "       [ 0.        ,  0.00240111],\n",
              "       [ 0.        , -0.03221846],\n",
              "       [ 0.        ,  0.50451255],\n",
              "       [ 0.        ,  0.6129718 ],\n",
              "       [ 0.        , -0.01937318],\n",
              "       [ 0.        , -0.1647644 ],\n",
              "       [ 0.        ,  0.8395014 ],\n",
              "       [ 0.        , -0.3914554 ],\n",
              "       [ 0.        ,  0.82424116],\n",
              "       [ 0.        ,  0.29723597],\n",
              "       [ 0.        , -0.3024578 ],\n",
              "       [ 0.        ,  0.31695724],\n",
              "       [ 0.        ,  0.67566276],\n",
              "       [ 0.        ,  0.60861087],\n",
              "       [ 0.        , -0.283741  ],\n",
              "       [ 0.        , -0.20146179],\n",
              "       [ 0.        , -0.02896094],\n",
              "       [ 0.        , -0.8350589 ],\n",
              "       [ 0.        , -0.15774798],\n",
              "       [ 0.        , -0.993639  ],\n",
              "       [ 0.        ,  0.97617245],\n",
              "       [ 0.        ,  0.13871336],\n",
              "       [ 0.        , -0.69429827],\n",
              "       [ 0.        ,  0.17361665],\n",
              "       [ 0.        ,  0.9912002 ],\n",
              "       [ 0.        , -0.99849653],\n",
              "       [ 0.        ,  0.10774136]], dtype=float32)>"
            ]
          },
          "metadata": {},
          "execution_count": 19
        }
      ]
    },
    {
      "cell_type": "code",
      "source": [
        "plt.plot(x_0, u_0, '.')"
      ],
      "metadata": {
        "colab": {
          "base_uri": "https://localhost:8080/",
          "height": 165
        },
        "id": "IK3zTVRFBuf3",
        "outputId": "e968d6cf-3ef9-4dfd-caca-7fdb7652578d"
      },
      "execution_count": 21,
      "outputs": [
        {
          "output_type": "error",
          "ename": "NameError",
          "evalue": "ignored",
          "traceback": [
            "\u001b[0;31m---------------------------------------------------------------------------\u001b[0m",
            "\u001b[0;31mNameError\u001b[0m                                 Traceback (most recent call last)",
            "\u001b[0;32m<ipython-input-21-9a0374c6c34f>\u001b[0m in \u001b[0;36m<module>\u001b[0;34m()\u001b[0m\n\u001b[0;32m----> 1\u001b[0;31m \u001b[0mplt\u001b[0m\u001b[0;34m.\u001b[0m\u001b[0mplot\u001b[0m\u001b[0;34m(\u001b[0m\u001b[0mx_0\u001b[0m\u001b[0;34m,\u001b[0m \u001b[0mu_0\u001b[0m\u001b[0;34m,\u001b[0m \u001b[0;34m'.'\u001b[0m\u001b[0;34m)\u001b[0m\u001b[0;34m\u001b[0m\u001b[0;34m\u001b[0m\u001b[0m\n\u001b[0m",
            "\u001b[0;31mNameError\u001b[0m: name 'u_0' is not defined"
          ]
        }
      ]
    },
    {
      "cell_type": "code",
      "source": [
        "plt.scatter(t_0, x_0, c=u_0, marker='o')\n",
        "plt.xlabel(\"t\")\n",
        "plt.ylabel(\"x\");"
      ],
      "metadata": {
        "colab": {
          "base_uri": "https://localhost:8080/",
          "height": 200
        },
        "id": "gnEIXe2VCF4h",
        "outputId": "07924483-24c1-44a0-aaeb-0be018f8746a"
      },
      "execution_count": 23,
      "outputs": [
        {
          "output_type": "error",
          "ename": "NameError",
          "evalue": "ignored",
          "traceback": [
            "\u001b[0;31m---------------------------------------------------------------------------\u001b[0m",
            "\u001b[0;31mNameError\u001b[0m                                 Traceback (most recent call last)",
            "\u001b[0;32m<ipython-input-23-0f21a999a8bb>\u001b[0m in \u001b[0;36m<module>\u001b[0;34m()\u001b[0m\n\u001b[0;32m----> 1\u001b[0;31m \u001b[0mplt\u001b[0m\u001b[0;34m.\u001b[0m\u001b[0mscatter\u001b[0m\u001b[0;34m(\u001b[0m\u001b[0mt_0\u001b[0m\u001b[0;34m,\u001b[0m \u001b[0mx_0\u001b[0m\u001b[0;34m,\u001b[0m \u001b[0mc\u001b[0m\u001b[0;34m=\u001b[0m\u001b[0mu_0\u001b[0m\u001b[0;34m,\u001b[0m \u001b[0mmarker\u001b[0m\u001b[0;34m=\u001b[0m\u001b[0;34m'o'\u001b[0m\u001b[0;34m)\u001b[0m\u001b[0;34m\u001b[0m\u001b[0;34m\u001b[0m\u001b[0m\n\u001b[0m\u001b[1;32m      2\u001b[0m \u001b[0mplt\u001b[0m\u001b[0;34m.\u001b[0m\u001b[0mxlabel\u001b[0m\u001b[0;34m(\u001b[0m\u001b[0;34m\"t\"\u001b[0m\u001b[0;34m)\u001b[0m\u001b[0;34m\u001b[0m\u001b[0;34m\u001b[0m\u001b[0m\n\u001b[1;32m      3\u001b[0m \u001b[0mplt\u001b[0m\u001b[0;34m.\u001b[0m\u001b[0mylabel\u001b[0m\u001b[0;34m(\u001b[0m\u001b[0;34m\"x\"\u001b[0m\u001b[0;34m)\u001b[0m\u001b[0;34m;\u001b[0m\u001b[0;34m\u001b[0m\u001b[0;34m\u001b[0m\u001b[0m\n",
            "\u001b[0;31mNameError\u001b[0m: name 'u_0' is not defined"
          ]
        }
      ]
    },
    {
      "cell_type": "code",
      "source": [
        "t_b = tf.random.uniform((n_b, 1), 0,1, dtype=\"float32\")"
      ],
      "metadata": {
        "id": "L2lwcKldCPIe"
      },
      "execution_count": 27,
      "outputs": []
    },
    {
      "cell_type": "code",
      "source": [
        "plt.scatter(t_0, x_0, marker='o')\n",
        "plt.xlabel(\"t\")\n",
        "plt.ylabel(\"x\");\n",
        "t_b = tf.random.uniform((n_b, 1), tmin, tmax, dtype=\"float32\")\n",
        "x_b = xmin + (xmax - xmin) * tf.keras.backend.random_bernoulli((n_b, 1), 0.5, dtype=\"float32\")\n",
        "X_b = tf.concat([t_b, x_b], axis=1)\n",
        "X_b"
      ],
      "metadata": {
        "colab": {
          "base_uri": "https://localhost:8080/",
          "height": 1000
        },
        "id": "vAaAP8YdChtu",
        "outputId": "ce907e35-ea8c-410c-ba54-6a6abf0da06c"
      },
      "execution_count": 30,
      "outputs": [
        {
          "output_type": "execute_result",
          "data": {
            "text/plain": [
              "<tf.Tensor: shape=(50, 2), dtype=float32, numpy=\n",
              "array([[ 0.48962688,  1.        ],\n",
              "       [ 0.5857923 , -1.        ],\n",
              "       [ 0.36451697,  1.        ],\n",
              "       [ 0.6550509 , -1.        ],\n",
              "       [ 0.9075084 , -1.        ],\n",
              "       [ 0.37557673,  1.        ],\n",
              "       [ 0.6882372 ,  1.        ],\n",
              "       [ 0.25384045,  1.        ],\n",
              "       [ 0.49978244, -1.        ],\n",
              "       [ 0.5126076 , -1.        ],\n",
              "       [ 0.7279091 , -1.        ],\n",
              "       [ 0.58709204,  1.        ],\n",
              "       [ 0.9021536 ,  1.        ],\n",
              "       [ 0.5414995 , -1.        ],\n",
              "       [ 0.19642162, -1.        ],\n",
              "       [ 0.48716152,  1.        ],\n",
              "       [ 0.53051543, -1.        ],\n",
              "       [ 0.18828416, -1.        ],\n",
              "       [ 0.08821416,  1.        ],\n",
              "       [ 0.9517412 , -1.        ],\n",
              "       [ 0.8610064 ,  1.        ],\n",
              "       [ 0.30999136, -1.        ],\n",
              "       [ 0.29496896, -1.        ],\n",
              "       [ 0.9713614 ,  1.        ],\n",
              "       [ 0.11506426, -1.        ],\n",
              "       [ 0.6156452 , -1.        ],\n",
              "       [ 0.07070684,  1.        ],\n",
              "       [ 0.5894662 , -1.        ],\n",
              "       [ 0.67997193, -1.        ],\n",
              "       [ 0.3566662 ,  1.        ],\n",
              "       [ 0.06775165, -1.        ],\n",
              "       [ 0.39543378,  1.        ],\n",
              "       [ 0.15745914, -1.        ],\n",
              "       [ 0.02828848,  1.        ],\n",
              "       [ 0.0177182 , -1.        ],\n",
              "       [ 0.82267654, -1.        ],\n",
              "       [ 0.6525562 , -1.        ],\n",
              "       [ 0.40753174,  1.        ],\n",
              "       [ 0.2967404 , -1.        ],\n",
              "       [ 0.7396951 ,  1.        ],\n",
              "       [ 0.2978605 , -1.        ],\n",
              "       [ 0.6257639 ,  1.        ],\n",
              "       [ 0.2010107 ,  1.        ],\n",
              "       [ 0.7105304 ,  1.        ],\n",
              "       [ 0.7134371 , -1.        ],\n",
              "       [ 0.69556856, -1.        ],\n",
              "       [ 0.69403684,  1.        ],\n",
              "       [ 0.4508797 ,  1.        ],\n",
              "       [ 0.67701876, -1.        ],\n",
              "       [ 0.23518848, -1.        ]], dtype=float32)>"
            ]
          },
          "metadata": {},
          "execution_count": 30
        },
        {
          "output_type": "display_data",
          "data": {
            "image/png": "[encoded data removed]",
            "text/plain": [
              "<Figure size 432x288 with 1 Axes>"
            ]
          },
          "metadata": {
            "needs_background": "light"
          }
        }
      ]
    },
    {
      "cell_type": "code",
      "source": [
        ""
      ],
      "metadata": {
        "id": "n317k9xuCxIu"
      },
      "execution_count": null,
      "outputs": []
    },
    {
      "cell_type": "code",
      "source": [
        ""
      ],
      "metadata": {
        "id": "6Xwv92TACxE1"
      },
      "execution_count": null,
      "outputs": []
    }
  ]
}
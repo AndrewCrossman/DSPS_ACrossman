{
  "nbformat": 4,
  "nbformat_minor": 0,
  "metadata": {
    "kernelspec": {
      "display_name": "Python 3",
      "language": "python",
      "name": "python3"
    },
    "language_info": {
      "codemirror_mode": {
        "name": "ipython",
        "version": 3
      },
      "file_extension": ".py",
      "mimetype": "text/x-python",
      "name": "python",
      "nbconvert_exporter": "python",
      "pygments_lexer": "ipython3",
      "version": "3.7.3"
    },
    "latex_envs": {
      "LaTeX_envs_menu_present": true,
      "autoclose": false,
      "autocomplete": true,
      "bibliofile": "biblio.bib",
      "cite_by": "apalike",
      "current_citInitial": 1,
      "eqLabelWithNumbers": true,
      "eqNumInitial": 1,
      "hotkeys": {
        "equation": "Ctrl-E",
        "itemize": "Ctrl-I"
      },
      "labels_anchors": false,
      "latex_user_defs": false,
      "report_style_numbering": false,
      "user_envs_cfg": false
    },
    "nbTranslate": {
      "displayLangs": [
        "*"
      ],
      "hotkey": "alt-t",
      "langInMainMenu": true,
      "sourceLang": "en",
      "targetLang": "fr",
      "useGoogleTranslate": true
    },
    "toc": {
      "base_numbering": 1,
      "nav_menu": {},
      "number_sections": true,
      "sideBar": true,
      "skip_h1_title": false,
      "title_cell": "Table of Contents",
      "title_sidebar": "Contents",
      "toc_cell": false,
      "toc_position": {},
      "toc_section_display": true,
      "toc_window_display": false
    },
    "colab": {
      "name": "Starting_kmeans.ipynb",
      "provenance": [],
      "collapsed_sections": [],
      "include_colab_link": true
    }
  },
  "cells": [
    {
      "cell_type": "markdown",
      "metadata": {
        "id": "view-in-github",
        "colab_type": "text"
      },
      "source": [
        "<a href=\"https://colab.research.google.com/github/AndrewCrossman/DSPS_ACrossman/blob/main/labs/Starting_kmeans.ipynb\" target=\"_parent\"><img src=\"https://colab.research.google.com/assets/colab-badge.svg\" alt=\"Open In Colab\"/></a>"
      ]
    },
    {
      "cell_type": "code",
      "metadata": {
        "ExecuteTime": {
          "end_time": "2020-04-02T19:04:38.621959Z",
          "start_time": "2020-04-02T19:04:38.615833Z"
        },
        "id": "3OhC4MQOVSKa",
        "colab": {
          "base_uri": "https://localhost:8080/"
        },
        "outputId": "8b999c21-806c-49b3-9aff-bc3b26377ec6"
      },
      "source": [
        "import numpy as np\n",
        "import pylab as pl\n",
        "import sklearn.cluster\n",
        "import time\n",
        "import os\n",
        "import urllib\n",
        "%pylab inline\n",
        "pl.style.use('ggplot')\n"
      ],
      "execution_count": 1,
      "outputs": [
        {
          "output_type": "stream",
          "name": "stdout",
          "text": [
            "Populating the interactive namespace from numpy and matplotlib\n"
          ]
        }
      ]
    },
    {
      "cell_type": "markdown",
      "metadata": {
        "id": "QqW-tBPSVSKe"
      },
      "source": [
        "## generating random data:\n",
        "## 2 gaussian distributions, differnt means, different stsndard deviations\n"
      ]
    },
    {
      "cell_type": "code",
      "metadata": {
        "ExecuteTime": {
          "end_time": "2020-04-02T19:09:54.533795Z",
          "start_time": "2020-04-02T19:09:54.382867Z"
        },
        "id": "jkJtOg6XVSKf",
        "colab": {
          "base_uri": "https://localhost:8080/",
          "height": 609
        },
        "outputId": "04e1683d-0583-4560-f7e4-6548eb955c33"
      },
      "source": [
        "\n",
        "pl.figure(figsize = (10,10))\n",
        "# seed for reporducibility\n",
        "np.random.seed(1999)\n",
        "#k1s, k1m = np.random.rand()*5, random.rand()*10 \n",
        "##k2s, k2m = np.random.rand()*2.5, random.rand()*10\n",
        "#\n",
        "k1m, k2m, k1s, k2s = 9.8, 6.5, 1.1, 1.4\n",
        "k1 = (k1s * np.random.randn(2, 100) + k1m).T\n",
        "k2 = (k2s * np.random.randn(2, 100) + k2m).T\n",
        "print (\"{:.2} {:.2} {:.2} {:.2} \".format(k1m, k2m, k1s, k2s))\n",
        "pl.plot(k1[:,0], k1[:,1], 'o')\n",
        "pl.plot(k2[:,0], k2[:,1], 'o');\n",
        "\n"
      ],
      "execution_count": 2,
      "outputs": [
        {
          "output_type": "stream",
          "name": "stdout",
          "text": [
            "9.8 6.5 1.1 1.4 \n"
          ]
        },
        {
          "output_type": "display_data",
          "data": {
            "image/png": "[encoded data removed]",
            "text/plain": [
              "<Figure size 720x720 with 1 Axes>"
            ]
          },
          "metadata": {
            "needs_background": "light"
          }
        }
      ]
    },
    {
      "cell_type": "markdown",
      "metadata": {
        "id": "vKJlJQfYVSKi"
      },
      "source": [
        "## choose 2 random starting points: random locations within the distribution\n"
      ]
    },
    {
      "cell_type": "code",
      "metadata": {
        "id": "audn66beDp7Q"
      },
      "source": [
        "def L2(centers,):"
      ],
      "execution_count": null,
      "outputs": []
    },
    {
      "cell_type": "code",
      "metadata": {
        "id": "C4PN8xjXhsqN"
      },
      "source": [
        "c0 = centers[0]\n",
        "c0 = np.reshape(co, (2,1))\n",
        "\n",
        "c1 = centers[1]\n",
        "c1 = np.reshape(c1, (2,1))"
      ],
      "execution_count": null,
      "outputs": []
    },
    {
      "cell_type": "code",
      "metadata": {
        "id": "SS1BdjQnh6Zt"
      },
      "source": [
        "dist0 = L2(c0, k_arr.T)\n",
        "dist1 = L2(c1, k_arr_T)"
      ],
      "execution_count": null,
      "outputs": []
    },
    {
      "cell_type": "code",
      "metadata": {
        "id": "ZXV6dng5iCX0"
      },
      "source": [
        "ind = (dist0 > dist1)"
      ],
      "execution_count": null,
      "outputs": []
    },
    {
      "cell_type": "code",
      "metadata": {
        "id": "fwg4HhVhiG8W"
      },
      "source": [
        "# closer to center 1\n",
        "k_arr[ind]"
      ],
      "execution_count": null,
      "outputs": []
    },
    {
      "cell_type": "code",
      "metadata": {
        "id": "hVk8Uwu4iUJY"
      },
      "source": [
        "grp1 = k_arr[ind]\n",
        "grp2 = k_arr[-ind]"
      ],
      "execution_count": null,
      "outputs": []
    },
    {
      "cell_type": "code",
      "metadata": {
        "id": "axAn24jmiUD9"
      },
      "source": [
        "pl.plot(grp1[:0], grp1[:1], \".\")\n",
        "pl.plot(grp2[:0], grp2[:1], \".\")\n",
        "mean1 = grp1.mean(axis=0)\n",
        "mean2 = grp2.mean(axis=0)\n",
        "pl.pl0t(mean1[0], mean1[1])\n",
        "pl.plot(mean2[0], mean2[1])"
      ],
      "execution_count": null,
      "outputs": []
    },
    {
      "cell_type": "code",
      "metadata": {
        "id": "DgQlIjVpjP5a"
      },
      "source": [
        "while np.abs(mean1 - center[0]) >1e-5"
      ],
      "execution_count": null,
      "outputs": []
    }
  ]
}
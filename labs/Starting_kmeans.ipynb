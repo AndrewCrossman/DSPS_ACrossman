{
  "nbformat": 4,
  "nbformat_minor": 0,
  "metadata": {
    "kernelspec": {
      "display_name": "Python 3",
      "language": "python",
      "name": "python3"
    },
    "language_info": {
      "codemirror_mode": {
        "name": "ipython",
        "version": 3
      },
      "file_extension": ".py",
      "mimetype": "text/x-python",
      "name": "python",
      "nbconvert_exporter": "python",
      "pygments_lexer": "ipython3",
      "version": "3.7.3"
    },
    "latex_envs": {
      "LaTeX_envs_menu_present": true,
      "autoclose": false,
      "autocomplete": true,
      "bibliofile": "biblio.bib",
      "cite_by": "apalike",
      "current_citInitial": 1,
      "eqLabelWithNumbers": true,
      "eqNumInitial": 1,
      "hotkeys": {
        "equation": "Ctrl-E",
        "itemize": "Ctrl-I"
      },
      "labels_anchors": false,
      "latex_user_defs": false,
      "report_style_numbering": false,
      "user_envs_cfg": false
    },
    "nbTranslate": {
      "displayLangs": [
        "*"
      ],
      "hotkey": "alt-t",
      "langInMainMenu": true,
      "sourceLang": "en",
      "targetLang": "fr",
      "useGoogleTranslate": true
    },
    "toc": {
      "base_numbering": 1,
      "nav_menu": {},
      "number_sections": true,
      "sideBar": true,
      "skip_h1_title": false,
      "title_cell": "Table of Contents",
      "title_sidebar": "Contents",
      "toc_cell": false,
      "toc_position": {},
      "toc_section_display": true,
      "toc_window_display": false
    },
    "colab": {
      "name": "Starting_kmeans.ipynb",
      "provenance": [],
      "collapsed_sections": [],
      "include_colab_link": true
    }
  },
  "cells": [
    {
      "cell_type": "markdown",
      "metadata": {
        "id": "view-in-github",
        "colab_type": "text"
      },
      "source": [
        "<a href=\"https://colab.research.google.com/github/AndrewCrossman/DSPS_ACrossman/blob/main/labs/Starting_kmeans.ipynb\" target=\"_parent\"><img src=\"https://colab.research.google.com/assets/colab-badge.svg\" alt=\"Open In Colab\"/></a>"
      ]
    },
    {
      "cell_type": "code",
      "metadata": {
        "ExecuteTime": {
          "end_time": "2020-04-02T19:04:38.621959Z",
          "start_time": "2020-04-02T19:04:38.615833Z"
        },
        "id": "3OhC4MQOVSKa",
        "colab": {
          "base_uri": "https://localhost:8080/"
        },
        "outputId": "1b0bb333-3b22-43e0-9520-38b0f9284971"
      },
      "source": [
        "import numpy as np\n",
        "import pylab as pl\n",
        "import sklearn.cluster\n",
        "import time\n",
        "import os\n",
        "import urllib\n",
        "%pylab inline\n",
        "pl.style.use('ggplot')\n"
      ],
      "execution_count": null,
      "outputs": [
        {
          "output_type": "stream",
          "name": "stdout",
          "text": [
            "Populating the interactive namespace from numpy and matplotlib\n"
          ]
        }
      ]
    },
    {
      "cell_type": "markdown",
      "metadata": {
        "id": "QqW-tBPSVSKe"
      },
      "source": [
        "## generating random data:\n",
        "## 2 gaussian distributions, differnt means, different stsndard deviations\n"
      ]
    },
    {
      "cell_type": "code",
      "metadata": {
        "ExecuteTime": {
          "end_time": "2020-04-02T19:09:54.533795Z",
          "start_time": "2020-04-02T19:09:54.382867Z"
        },
        "id": "jkJtOg6XVSKf",
        "colab": {
          "base_uri": "https://localhost:8080/",
          "height": 608
        },
        "outputId": "bc74c216-7b80-4755-b0b2-4d582d428bc7"
      },
      "source": [
        "\n",
        "pl.figure(figsize = (10,10))\n",
        "# seed for reporducibility\n",
        "np.random.seed(1999)\n",
        "#k1s, k1m = np.random.rand()*5, random.rand()*10 \n",
        "##k2s, k2m = np.random.rand()*2.5, random.rand()*10\n",
        "#\n",
        "k1m, k2m, k1s, k2s = 9.8, 6.5, 1.1, 1.4\n",
        "k1 = (k1s * np.random.randn(2, 100) + k1m).T\n",
        "k2 = (k2s * np.random.randn(2, 100) + k2m).T\n",
        "print (\"{:.2} {:.2} {:.2} {:.2} \".format(k1m, k2m, k1s, k2s))\n",
        "pl.plot(k1[:,0], k1[:,1], 'o')\n",
        "pl.plot(k2[:,0], k2[:,1], 'o');\n",
        "\n"
      ],
      "execution_count": null,
      "outputs": [
        {
          "output_type": "stream",
          "name": "stdout",
          "text": [
            "9.8 6.5 1.1 1.4 \n"
          ]
        },
        {
          "output_type": "display_data",
          "data": {
            "image/png": "[encoded data removed]",
            "text/plain": [
              "<Figure size 720x720 with 1 Axes>"
            ]
          },
          "metadata": {}
        }
      ]
    },
    {
      "cell_type": "markdown",
      "metadata": {
        "id": "vKJlJQfYVSKi"
      },
      "source": [
        "## choose 2 random starting points: random locations within the distribution\n"
      ]
    },
    {
      "cell_type": "code",
      "metadata": {
        "id": "audn66beDp7Q"
      },
      "source": [
        ""
      ],
      "execution_count": null,
      "outputs": []
    }
  ]
}
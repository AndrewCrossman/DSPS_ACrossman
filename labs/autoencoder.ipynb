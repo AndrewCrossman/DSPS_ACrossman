{
  "nbformat": 4,
  "nbformat_minor": 0,
  "metadata": {
    "colab": {
      "name": "autoencoder.ipynb",
      "provenance": [],
      "authorship_tag": "ABX9TyO3qvm2tlqVdPo7lhC62nGE",
      "include_colab_link": true
    },
    "kernelspec": {
      "name": "python3",
      "display_name": "Python 3"
    },
    "language_info": {
      "name": "python"
    }
  },
  "cells": [
    {
      "cell_type": "markdown",
      "metadata": {
        "id": "view-in-github",
        "colab_type": "text"
      },
      "source": [
        "<a href=\"https://colab.research.google.com/github/AndrewCrossman/DSPS_ACrossman/blob/main/labs/autoencoder.ipynb\" target=\"_parent\"><img src=\"https://colab.research.google.com/assets/colab-badge.svg\" alt=\"Open In Colab\"/></a>"
      ]
    },
    {
      "cell_type": "code",
      "metadata": {
        "id": "3QD4pfd-XVC1"
      },
      "source": [
        "import keras\n",
        "import numpy as np\n",
        "import pylab as plt"
      ],
      "execution_count": 96,
      "outputs": []
    },
    {
      "cell_type": "code",
      "metadata": {
        "id": "l7soez-bXZHG"
      },
      "source": [
        "from keras.datasets import mnist\n",
        "from tensorflow.keras import layers\n",
        "from keras.models import Sequential"
      ],
      "execution_count": 74,
      "outputs": []
    },
    {
      "cell_type": "code",
      "metadata": {
        "id": "Eani9ESMXglW"
      },
      "source": [
        "# make sure top use GPU on homework\n",
        "# also include y trains and ytest in homework\n",
        "(x_train, _), (x_test, _) = mnist.load_data()\n"
      ],
      "execution_count": 75,
      "outputs": []
    },
    {
      "cell_type": "code",
      "metadata": {
        "colab": {
          "base_uri": "https://localhost:8080/"
        },
        "id": "KC0mEN8bXgiG",
        "outputId": "d66a84f2-db04-4db2-bdd1-9e965c4ff7ee"
      },
      "source": [
        "x_train.shape"
      ],
      "execution_count": 76,
      "outputs": [
        {
          "output_type": "execute_result",
          "data": {
            "text/plain": [
              "(60000, 28, 28)"
            ]
          },
          "metadata": {},
          "execution_count": 76
        }
      ]
    },
    {
      "cell_type": "code",
      "metadata": {
        "id": "BYCkrYACXgbj"
      },
      "source": [
        "nimg, img_row, img_col = x_train.shape"
      ],
      "execution_count": 77,
      "outputs": []
    },
    {
      "cell_type": "code",
      "metadata": {
        "colab": {
          "base_uri": "https://localhost:8080/",
          "height": 265
        },
        "id": "tHhhCF_qXgQh",
        "outputId": "144d73e3-7549-4edd-b2fb-57f036fedfcb"
      },
      "source": [
        "plt.imshow(x_train[0]);"
      ],
      "execution_count": 78,
      "outputs": [
        {
          "output_type": "display_data",
          "data": {
            "image/png": "[encoded data removed]",
            "text/plain": [
              "<Figure size 432x288 with 1 Axes>"
            ]
          },
          "metadata": {
            "needs_background": "light"
          }
        }
      ]
    },
    {
      "cell_type": "code",
      "metadata": {
        "colab": {
          "base_uri": "https://localhost:8080/"
        },
        "id": "mHTxDlifY4AM",
        "outputId": "1f024bcd-8a3f-4388-b79d-9601408f206a"
      },
      "source": [
        "# color is between 0-255\n",
        "x_train[0].max()"
      ],
      "execution_count": 79,
      "outputs": [
        {
          "output_type": "execute_result",
          "data": {
            "text/plain": [
              "255"
            ]
          },
          "metadata": {},
          "execution_count": 79
        }
      ]
    },
    {
      "cell_type": "code",
      "metadata": {
        "colab": {
          "base_uri": "https://localhost:8080/"
        },
        "id": "3NgeFTsSZISO",
        "outputId": "138f8d82-67d8-47ef-d52c-277771af37c0"
      },
      "source": [
        "# divide everything by 255 to avoid using massive numbers in data set (i.e. we are normalizing)\n",
        "x_train.dtype"
      ],
      "execution_count": 80,
      "outputs": [
        {
          "output_type": "execute_result",
          "data": {
            "text/plain": [
              "dtype('uint8')"
            ]
          },
          "metadata": {},
          "execution_count": 80
        }
      ]
    },
    {
      "cell_type": "code",
      "metadata": {
        "id": "c201e6srZM9L"
      },
      "source": [
        "x_train = (x_train.astype(float)/255)"
      ],
      "execution_count": 81,
      "outputs": []
    },
    {
      "cell_type": "code",
      "metadata": {
        "id": "1amTQHNFZhr4"
      },
      "source": [
        "# every pixel is a parameter, so the network has 784 parameters (784 = 28*28)\n",
        "x_train = x_train.reshape(nimg, img_row*img_col)\n",
        "x_test = x_test.reshape(x_test.shape[0], img_row*img_col)\n",
        "y_train = x_train.copy()\n",
        "y_test = x_test.copy()"
      ],
      "execution_count": 87,
      "outputs": []
    },
    {
      "cell_type": "code",
      "metadata": {
        "id": "DPYMAJjk3R4b",
        "outputId": "d96c3eff-00c2-4526-a021-b455b2b2b4c8",
        "colab": {
          "base_uri": "https://localhost:8080/"
        }
      },
      "source": [
        "x_train.shape"
      ],
      "execution_count": 88,
      "outputs": [
        {
          "output_type": "execute_result",
          "data": {
            "text/plain": [
              "(60000, 784)"
            ]
          },
          "metadata": {},
          "execution_count": 88
        }
      ]
    },
    {
      "cell_type": "code",
      "metadata": {
        "id": "tc9MMqHWZi0_"
      },
      "source": [
        "# Building a variational autoencoder network. Does unsupervised work on data set\n",
        "# Autoencoder goes from large to small in term of layer inputs. \n",
        "# Encoder outputs a lower dimensional representation z of the data x\n",
        "# Decoder learns how to reconstruct x given z"
      ],
      "execution_count": 89,
      "outputs": []
    },
    {
      "cell_type": "code",
      "metadata": {
        "id": "FvIlg51bZisk"
      },
      "source": [
        "model_digits = Sequential()"
      ],
      "execution_count": 90,
      "outputs": []
    },
    {
      "cell_type": "code",
      "metadata": {
        "id": "mRaZmttvcVF-"
      },
      "source": [
        "# Encoder Porttion\n",
        "model_digits.add(layers.Dense(128, activation=\"relu\", input_dim=img_col*img_row))\n",
        "model_digits.add(layers.Dense(64, activation=\"relu\"))\n",
        "# Decoder Portion\n",
        "model_digits.add(layers.Dense(128, activation=\"relu\"))\n",
        "model_digits.add(layers.Dense(img_row*img_col, activation=\"linear\"))"
      ],
      "execution_count": 91,
      "outputs": []
    },
    {
      "cell_type": "code",
      "metadata": {
        "id": "PGD_x-hadX3K"
      },
      "source": [
        "model_digits.compile(optimizer=\"adadelta\", loss=\"mean_squared_error\")"
      ],
      "execution_count": 92,
      "outputs": []
    },
    {
      "cell_type": "code",
      "metadata": {
        "colab": {
          "base_uri": "https://localhost:8080/"
        },
        "id": "6P7OZ-yWdpOi",
        "outputId": "97540e1a-8316-41d2-bc2d-d2ea8917b0eb"
      },
      "source": [
        "model_digits.summary()"
      ],
      "execution_count": 93,
      "outputs": [
        {
          "output_type": "stream",
          "name": "stdout",
          "text": [
            "Model: \"sequential_3\"\n",
            "_________________________________________________________________\n",
            " Layer (type)                Output Shape              Param #   \n",
            "=================================================================\n",
            " dense_16 (Dense)            (None, 128)               100480    \n",
            "                                                                 \n",
            " dense_17 (Dense)            (None, 64)                8256      \n",
            "                                                                 \n",
            " dense_18 (Dense)            (None, 128)               8320      \n",
            "                                                                 \n",
            " dense_19 (Dense)            (None, 784)               101136    \n",
            "                                                                 \n",
            "=================================================================\n",
            "Total params: 218,192\n",
            "Trainable params: 218,192\n",
            "Non-trainable params: 0\n",
            "_________________________________________________________________\n"
          ]
        }
      ]
    },
    {
      "cell_type": "code",
      "metadata": {
        "colab": {
          "base_uri": "https://localhost:8080/"
        },
        "id": "d_lPPEykdyAZ",
        "outputId": "37dd61a4-d0f3-471c-85c5-b6831c54da47"
      },
      "source": [
        "# normally x_train, y_train\n",
        "# normalize and reshape x_test\n",
        "history = model_digits.fit(x_train, y_train, validation_data=(x_test, y_test), epochs=20, batch_size=100, verbose=1)"
      ],
      "execution_count": 99,
      "outputs": [
        {
          "output_type": "stream",
          "name": "stdout",
          "text": [
            "Epoch 1/20\n",
            "600/600 [==============================] - 3s 6ms/step - loss: 0.1085 - val_loss: 7368.5327\n",
            "Epoch 2/20\n",
            "600/600 [==============================] - 3s 6ms/step - loss: 0.1082 - val_loss: 7356.5903\n",
            "Epoch 3/20\n",
            "600/600 [==============================] - 3s 6ms/step - loss: 0.1079 - val_loss: 7344.7920\n",
            "Epoch 4/20\n",
            "600/600 [==============================] - 3s 6ms/step - loss: 0.1076 - val_loss: 7333.0815\n",
            "Epoch 5/20\n",
            "600/600 [==============================] - 3s 6ms/step - loss: 0.1073 - val_loss: 7321.4170\n",
            "Epoch 6/20\n",
            "600/600 [==============================] - 3s 6ms/step - loss: 0.1070 - val_loss: 7309.7407\n",
            "Epoch 7/20\n",
            "600/600 [==============================] - 3s 6ms/step - loss: 0.1067 - val_loss: 7298.0151\n",
            "Epoch 8/20\n",
            "600/600 [==============================] - 3s 5ms/step - loss: 0.1064 - val_loss: 7286.2070\n",
            "Epoch 9/20\n",
            "600/600 [==============================] - 3s 6ms/step - loss: 0.1062 - val_loss: 7274.2690\n",
            "Epoch 10/20\n",
            "600/600 [==============================] - 3s 6ms/step - loss: 0.1059 - val_loss: 7262.1743\n",
            "Epoch 11/20\n",
            "600/600 [==============================] - 3s 5ms/step - loss: 0.1056 - val_loss: 7249.8857\n",
            "Epoch 12/20\n",
            "600/600 [==============================] - 3s 5ms/step - loss: 0.1053 - val_loss: 7237.3599\n",
            "Epoch 13/20\n",
            "600/600 [==============================] - 3s 6ms/step - loss: 0.1050 - val_loss: 7224.5688\n",
            "Epoch 14/20\n",
            "600/600 [==============================] - 4s 6ms/step - loss: 0.1047 - val_loss: 7211.4800\n",
            "Epoch 15/20\n",
            "600/600 [==============================] - 3s 6ms/step - loss: 0.1044 - val_loss: 7198.0625\n",
            "Epoch 16/20\n",
            "600/600 [==============================] - 3s 6ms/step - loss: 0.1041 - val_loss: 7184.2832\n",
            "Epoch 17/20\n",
            "600/600 [==============================] - 3s 6ms/step - loss: 0.1038 - val_loss: 7170.1025\n",
            "Epoch 18/20\n",
            "600/600 [==============================] - 3s 6ms/step - loss: 0.1034 - val_loss: 7155.4927\n",
            "Epoch 19/20\n",
            "600/600 [==============================] - 3s 6ms/step - loss: 0.1031 - val_loss: 7140.4170\n",
            "Epoch 20/20\n",
            "600/600 [==============================] - 3s 6ms/step - loss: 0.1028 - val_loss: 7124.8481\n"
          ]
        }
      ]
    },
    {
      "cell_type": "markdown",
      "metadata": {
        "id": "7-HfqRCZ0o-d"
      },
      "source": [
        "# Always look at the loss"
      ]
    },
    {
      "cell_type": "code",
      "metadata": {
        "id": "pgy-8nwy78rv",
        "outputId": "a80f5bb1-1f0b-49c2-e92e-68eb1d2b31d9",
        "colab": {
          "base_uri": "https://localhost:8080/"
        }
      },
      "source": [
        "history.history['loss']"
      ],
      "execution_count": 100,
      "outputs": [
        {
          "output_type": "execute_result",
          "data": {
            "text/plain": [
              "[0.10849915444850922,\n",
              " 0.10819927603006363,\n",
              " 0.10790297389030457,\n",
              " 0.10760927200317383,\n",
              " 0.10731767117977142,\n",
              " 0.10702714323997498,\n",
              " 0.10673721879720688,\n",
              " 0.1064472645521164,\n",
              " 0.10615690797567368,\n",
              " 0.10586544126272202,\n",
              " 0.10557249933481216,\n",
              " 0.10527762770652771,\n",
              " 0.10498019307851791,\n",
              " 0.1046799048781395,\n",
              " 0.10437624156475067,\n",
              " 0.104068823158741,\n",
              " 0.10375717282295227,\n",
              " 0.10344094038009644,\n",
              " 0.10311977565288544,\n",
              " 0.10279331356287003]"
            ]
          },
          "metadata": {},
          "execution_count": 100
        }
      ]
    },
    {
      "cell_type": "code",
      "metadata": {
        "id": "MzXDSs2g0skw",
        "outputId": "7d8a833c-b41e-4cd9-9ad4-8a1eab82a5e7",
        "colab": {
          "base_uri": "https://localhost:8080/",
          "height": 279
        }
      },
      "source": [
        "plt.plot(np.array(history.history['loss']), label='training')\n",
        "#plt.plot(np.array(history.history['val_loss']), label='validation')\n",
        "plt.ylabel('loss')\n",
        "plt.xlabel('iteration')\n",
        "plt.legend();"
      ],
      "execution_count": 104,
      "outputs": [
        {
          "output_type": "display_data",
          "data": {
            "image/png": "[encoded data removed]",
            "text/plain": [
              "<Figure size 432x288 with 1 Axes>"
            ]
          },
          "metadata": {
            "needs_background": "light"
          }
        }
      ]
    },
    {
      "cell_type": "code",
      "metadata": {
        "id": "KtgcYDgbzp5K"
      },
      "source": [
        "def compareinout(i, outim, testimg, initialshape=(28,28)):\n",
        "  fig = pl.figure(figsize(10,5))\n",
        "  ax = fig.add_subplot(121) \n",
        "  ax.imshow(testimg[i].reshape(initialshape) , cmap=\"bone\")\n",
        "  ax.get_xaxis().set_visible(False)\n",
        "  ax.get_yaxis().set_visible(False)\n",
        "  ax = fig.add_subplot(122) \n",
        "  ax.imshow(outim[i].reshape(initialshape) , cmap=\"bone\")\n",
        "  ax.get_xaxis().set_visible(False)\n",
        "  ax.get_yaxis().set_visible(False)"
      ],
      "execution_count": 98,
      "outputs": []
    }
  ]
}
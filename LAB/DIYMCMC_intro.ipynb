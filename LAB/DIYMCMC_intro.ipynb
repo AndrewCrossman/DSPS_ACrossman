{
  "nbformat": 4,
  "nbformat_minor": 0,
  "metadata": {
    "kernelspec": {
      "display_name": "Python 3",
      "language": "python",
      "name": "python3"
    },
    "language_info": {
      "codemirror_mode": {
        "name": "ipython",
        "version": 2
      },
      "file_extension": ".py",
      "mimetype": "text/x-python",
      "name": "python",
      "nbconvert_exporter": "python",
      "pygments_lexer": "ipython2",
      "version": "2.7.12"
    },
    "toc": {
      "colors": {
        "hover_highlight": "#DAA520",
        "running_highlight": "#FF0000",
        "selected_highlight": "#FFD700"
      },
      "moveMenuLeft": true,
      "nav_menu": {
        "height": "100px",
        "width": "253px"
      },
      "navigate_menu": true,
      "number_sections": true,
      "sideBar": true,
      "threshold": 4,
      "toc_cell": true,
      "toc_section_display": "block",
      "toc_window_display": true
    },
    "colab": {
      "name": "DIYMCMC_intro.ipynb",
      "provenance": [],
      "include_colab_link": true
    }
  },
  "cells": [
    {
      "cell_type": "markdown",
      "metadata": {
        "id": "view-in-github",
        "colab_type": "text"
      },
      "source": [
        "<a href=\"https://colab.research.google.com/github/AndrewCrossman/DSPS_ACrossman/blob/main/LAB/DIYMCMC_intro.ipynb\" target=\"_parent\"><img src=\"https://colab.research.google.com/assets/colab-badge.svg\" alt=\"Open In Colab\"/></a>"
      ]
    },
    {
      "cell_type": "code",
      "metadata": {
        "id": "5q2f8E_HM7Z3"
      },
      "source": [
        ""
      ],
      "execution_count": null,
      "outputs": []
    },
    {
      "cell_type": "code",
      "metadata": {
        "id": "735S3TmncW7i"
      },
      "source": [
        ""
      ],
      "execution_count": null,
      "outputs": []
    },
    {
      "cell_type": "markdown",
      "metadata": {
        "toc": "true",
        "id": "tVh3qrQkaQIb"
      },
      "source": [
        "# Table of Contents\n",
        " <p><div class=\"lev1 toc-item\"><a href=\"#Simple-line-fit-with-MCMC\" data-toc-modified-id=\"Simple-line-fit-with-MCMC-1\"><span class=\"toc-item-num\">1&nbsp;&nbsp;</span>Simple line fit with MCMC</a></div><div class=\"lev1 toc-item\"><a href=\"#Model:-a-line-mx-+-b\" data-toc-modified-id=\"Model:-a-line-mx-+-b-2\"><span class=\"toc-item-num\">2&nbsp;&nbsp;</span>Model: a line <em>mx + b</em></a></div><div class=\"lev1 toc-item\"><a href=\"#prior\" data-toc-modified-id=\"prior-3\"><span class=\"toc-item-num\">3&nbsp;&nbsp;</span>prior</a></div><div class=\"lev1 toc-item\"><a href=\"#likelihood\" data-toc-modified-id=\"likelihood-4\"><span class=\"toc-item-num\">4&nbsp;&nbsp;</span>likelihood</a></div><div class=\"lev1 toc-item\"><a href=\"#DYI-Metropolis-Hasting\" data-toc-modified-id=\"DYI-Metropolis-Hasting-5\"><span class=\"toc-item-num\">5&nbsp;&nbsp;</span>DYI Metropolis Hasting</a></div><div class=\"lev2 toc-item\"><a href=\"#Run-the-code-with-different-chain-lengths-to-see-how-the-MCMC-explores-the-parameter-space\" data-toc-modified-id=\"Run-the-code-with-different-chain-lengths-to-see-how-the-MCMC-explores-the-parameter-space-51\"><span class=\"toc-item-num\">5.1&nbsp;&nbsp;</span>Run the code with different chain lengths to see how the MCMC explores the parameter space</a></div><div class=\"lev1 toc-item\"><a href=\"#Affine-Invariant-MCMC-sample-(with-emcee)\" data-toc-modified-id=\"Affine-Invariant-MCMC-sample-(with-emcee)-6\"><span class=\"toc-item-num\">6&nbsp;&nbsp;</span>Affine Invariant MCMC sample (with emcee)</a></div><div class=\"lev1 toc-item\"><a href=\"#Comparison-with-analytical-solution\" data-toc-modified-id=\"Comparison-with-analytical-solution-7\"><span class=\"toc-item-num\">7&nbsp;&nbsp;</span>Comparison with analytical solution</a></div><div class=\"lev1 toc-item\"><a href=\"#Test-convergence-by-looking-at-the-autocorrelation\" data-toc-modified-id=\"Test-convergence-by-looking-at-the-autocorrelation-8\"><span class=\"toc-item-num\">8&nbsp;&nbsp;</span>Test convergence by looking at the autocorrelation</a></div><div class=\"lev1 toc-item\"><a href=\"#Increase-the-steps-in-the-chain\" data-toc-modified-id=\"Increase-the-steps-in-the-chain-9\"><span class=\"toc-item-num\">9&nbsp;&nbsp;</span>Increase the steps in the chain</a></div>"
      ]
    },
    {
      "cell_type": "markdown",
      "metadata": {
        "run_control": {
          "frozen": false,
          "read_only": false
        },
        "id": "8ZtOWEHKaQIf"
      },
      "source": [
        "# Simple line fit with MCMC"
      ]
    },
    {
      "cell_type": "code",
      "metadata": {
        "colab": {
          "base_uri": "https://localhost:8080/"
        },
        "id": "I83WhXCIaZXF",
        "outputId": "5a6fc342-9212-412a-a12a-412bd4c7cd89"
      },
      "source": [
        "!pip install corner"
      ],
      "execution_count": null,
      "outputs": [
        {
          "output_type": "stream",
          "name": "stdout",
          "text": [
            "Requirement already satisfied: corner in /usr/local/lib/python3.7/dist-packages (2.2.1)\n",
            "Requirement already satisfied: matplotlib>=2.1 in /usr/local/lib/python3.7/dist-packages (from corner) (3.2.2)\n",
            "Requirement already satisfied: pyparsing!=2.0.4,!=2.1.2,!=2.1.6,>=2.0.1 in /usr/local/lib/python3.7/dist-packages (from matplotlib>=2.1->corner) (2.4.7)\n",
            "Requirement already satisfied: python-dateutil>=2.1 in /usr/local/lib/python3.7/dist-packages (from matplotlib>=2.1->corner) (2.8.2)\n",
            "Requirement already satisfied: kiwisolver>=1.0.1 in /usr/local/lib/python3.7/dist-packages (from matplotlib>=2.1->corner) (1.3.2)\n",
            "Requirement already satisfied: numpy>=1.11 in /usr/local/lib/python3.7/dist-packages (from matplotlib>=2.1->corner) (1.19.5)\n",
            "Requirement already satisfied: cycler>=0.10 in /usr/local/lib/python3.7/dist-packages (from matplotlib>=2.1->corner) (0.10.0)\n",
            "Requirement already satisfied: six in /usr/local/lib/python3.7/dist-packages (from cycler>=0.10->matplotlib>=2.1->corner) (1.15.0)\n"
          ]
        }
      ]
    },
    {
      "cell_type": "code",
      "metadata": {
        "colab": {
          "base_uri": "https://localhost:8080/"
        },
        "id": "1GJX4DouabQp",
        "outputId": "6e5bdbdc-cc6d-470a-f9a3-f1b5242f4f17"
      },
      "source": [
        "!pip install emcee"
      ],
      "execution_count": null,
      "outputs": [
        {
          "output_type": "stream",
          "name": "stdout",
          "text": [
            "Requirement already satisfied: emcee in /usr/local/lib/python3.7/dist-packages (3.1.1)\n",
            "Requirement already satisfied: numpy in /usr/local/lib/python3.7/dist-packages (from emcee) (1.19.5)\n"
          ]
        }
      ]
    },
    {
      "cell_type": "code",
      "metadata": {
        "ExecuteTime": {
          "end_time": "2017-06-19T12:56:39.948168",
          "start_time": "2017-06-19T12:56:39.929286"
        },
        "run_control": {
          "frozen": false,
          "read_only": false
        },
        "colab": {
          "base_uri": "https://localhost:8080/"
        },
        "id": "FiOJwAkFaQIf",
        "outputId": "5e126808-c90c-48f1-a430-c90baa3ed33b"
      },
      "source": [
        "from __future__ import print_function, division\n",
        "import pylab as pl\n",
        "import  corner\n",
        "import emcee\n",
        "import scipy\n",
        "from scipy.stats import norm \n",
        "\n",
        "%pylab inline\n",
        "\n",
        "pl.rcParams['figure.figsize']= (10,10)\n",
        "pl.rcParams['font.size'] = 18"
      ],
      "execution_count": null,
      "outputs": [
        {
          "output_type": "stream",
          "name": "stdout",
          "text": [
            "Populating the interactive namespace from numpy and matplotlib\n"
          ]
        },
        {
          "output_type": "stream",
          "name": "stderr",
          "text": [
            "/usr/local/lib/python3.7/dist-packages/IPython/core/magics/pylab.py:161: UserWarning: pylab import has clobbered these variables: ['ndim', 'axes', 'norm', 'cov', 'acorr']\n",
            "`%matplotlib` prevents importing * from pylab and numpy\n",
            "  \"\\n`%matplotlib` prevents importing * from pylab and numpy\"\n"
          ]
        }
      ]
    },
    {
      "cell_type": "markdown",
      "metadata": {
        "id": "P_OGhtLqaQIh"
      },
      "source": [
        "# Model: a line *mx + b*"
      ]
    },
    {
      "cell_type": "code",
      "metadata": {
        "ExecuteTime": {
          "end_time": "2017-06-19T12:57:26.844800",
          "start_time": "2017-06-19T12:57:26.840803"
        },
        "collapsed": true,
        "run_control": {
          "frozen": false,
          "read_only": false
        },
        "id": "2heOPol-aQIi"
      },
      "source": [
        "def line(m, b, x):\n",
        "    return m * x + b"
      ],
      "execution_count": null,
      "outputs": []
    },
    {
      "cell_type": "code",
      "metadata": {
        "ExecuteTime": {
          "end_time": "2017-06-19T12:58:46.238850",
          "start_time": "2017-06-19T12:58:45.619913"
        },
        "run_control": {
          "frozen": false,
          "read_only": false
        },
        "colab": {
          "base_uri": "https://localhost:8080/",
          "height": 387
        },
        "id": "YzDvVKOvaQIi",
        "outputId": "4ebb909e-1e58-48e3-ebdd-ec49bb9d447c"
      },
      "source": [
        "# Choose the \"true\" parameters.\n",
        "m_true = 1.8\n",
        "b_true = 2.3\n",
        "\n",
        "# Generate some synthetic data from the model.\n",
        "N = 20\n",
        "np.random.seed(123)\n",
        "x = np.sort(np.random.rand(N) * 20)\n",
        "y = line(m_true, b_true, x)\n",
        "yerr = np.sqrt(y) + np.random.randn(N) \n",
        "y += yerr * np.random.randn(N) \n",
        "\n",
        "ax = pl.figure(figsize=(10,5)).add_subplot(111)\n",
        "ax.set_ylabel('y')\n",
        "ax.set_xlabel('x')\n",
        "ax.errorbar(x, y, yerr=yerr, fmt='k.')\n",
        "ax.plot(pl.xlim(), line(m_true, b_true,  np.array(pl.xlim())), 'k-', alpha=0.8, lw=2)\n",
        "\n",
        "pl.show()\n",
        "print (\"Figure 1: a line generative model and the data it generates with Poisson errors augmented by Gaussian errors\")"
      ],
      "execution_count": null,
      "outputs": [
        {
          "output_type": "display_data",
          "data": {
            "image/png": "[encoded data removed]",
            "text/plain": [
              "<Figure size 720x360 with 1 Axes>"
            ]
          },
          "metadata": {
            "needs_background": "light"
          }
        },
        {
          "output_type": "stream",
          "name": "stdout",
          "text": [
            "Figure 1: a line generative model and the data it generates with Poisson errors augmented by Gaussian errors\n"
          ]
        }
      ]
    },
    {
      "cell_type": "code",
      "metadata": {
        "id": "eJo_2Aa80F8T"
      },
      "source": [
        ""
      ],
      "execution_count": null,
      "outputs": []
    },
    {
      "cell_type": "markdown",
      "metadata": {
        "run_control": {
          "frozen": false,
          "read_only": false
        },
        "id": "JBSek7BAaQIj"
      },
      "source": [
        "To get \n",
        "\n",
        "$P(\\theta \\mid D,f)$\n",
        "\n",
        "from Bayes theorem\n",
        "\n",
        "$P(\\theta \\mid D,f)\\quad \\propto { { \\quad P(D\\mid \\theta ,f)\\, P(\\theta ,f) } } $\n",
        "\n",
        "I need $ { { \\quad P(D\\mid \\theta ,f)\\, P(\\theta ,f) } } $ \n",
        "\n",
        "NEXT STEP: define Prior $ P(\\theta ,f)$ and Likelihood $\\quad P(D\\mid \\theta ,f)$"
      ]
    },
    {
      "cell_type": "markdown",
      "metadata": {
        "run_control": {
          "frozen": false,
          "read_only": false
        },
        "id": "teXYxIfMaQIk"
      },
      "source": [
        "# prior"
      ]
    },
    {
      "cell_type": "code",
      "metadata": {
        "ExecuteTime": {
          "end_time": "2017-06-19T12:59:12.030865",
          "start_time": "2017-06-19T12:59:12.021760"
        },
        "collapsed": true,
        "run_control": {
          "frozen": false,
          "read_only": false
        },
        "id": "Szci8CtVaQIk"
      },
      "source": [
        "# what do I know about my model? e.g. the slope should be between 0 and 90 degree\n",
        "def lnprior(theta):\n",
        "    m, b = theta\n",
        "    if -10 < b < 10 and 0 < m < 10 :\n",
        "        return 0.0\n",
        "    return -np.inf"
      ],
      "execution_count": null,
      "outputs": []
    },
    {
      "cell_type": "markdown",
      "metadata": {
        "run_control": {
          "frozen": false,
          "read_only": false
        },
        "id": "4MdYxLUOaQIl"
      },
      "source": [
        "# likelihood"
      ]
    },
    {
      "cell_type": "code",
      "metadata": {
        "ExecuteTime": {
          "end_time": "2017-06-19T12:59:15.863473",
          "start_time": "2017-06-19T12:59:15.853571"
        },
        "collapsed": true,
        "run_control": {
          "frozen": false,
          "read_only": false
        },
        "id": "Gd5id4mxaQIl"
      },
      "source": [
        "#remember the chi square: \n",
        "# Sum((model - data)/error)^2 is a quantity that follows a chi square distribution with N=number of degreed of freedom. \n",
        "# Divide it by the number of degreed  of freedom as Chisq = (Sum((model - data)/error)^2)/DOF\n",
        "# If it is ~1 that is a good model. \n",
        "# >1 bad model\n",
        "# <1 your errors must be underestimated (model too good to be true!)\n",
        "\n",
        "def lnlike(theta, x, y, yerr):\n",
        "    m, b = theta\n",
        "    return -0.5*(np.sum((line(m, b, x) - y)**2 / (yerr**2)))"
      ],
      "execution_count": null,
      "outputs": []
    },
    {
      "cell_type": "markdown",
      "metadata": {
        "run_control": {
          "frozen": false,
          "read_only": false
        },
        "id": "qSPV9S33aQIm"
      },
      "source": [
        "# DYI Metropolis Hasting "
      ]
    },
    {
      "cell_type": "code",
      "metadata": {
        "colab": {
          "base_uri": "https://localhost:8080/"
        },
        "id": "bgU1HbUh1vcr",
        "outputId": "ecc8a22e-739c-4ff4-e7ec-6e9c1c4267d8"
      },
      "source": [
        "np.random.seed(666)\n",
        "theta_current = (m_true, b_true) + np.random.randn(2)\n",
        "print(\"theta_0 = \", theta_current)\n",
        "walk = [theta_current]\n",
        "\n",
        "proposal_width = (0.2, 0.2) \n",
        "proposal = scipy.stats.norm(theta_current, proposal_width).rvs()\n",
        "print(\"theta_1 = \", proposal)\n",
        "\n",
        "\n",
        "post_current =  lnlike(theta_current, x, y, yerr) + lnprior(theta_current)\n",
        "print(post_current)\n",
        "post_proposal =  lnlike(proposal, x, y, yerr) + lnprior(proposal)\n",
        "print(post_proposal)\n"
      ],
      "execution_count": null,
      "outputs": [
        {
          "output_type": "stream",
          "name": "stdout",
          "text": [
            "theta_0 =  [2.62418808 2.779966  ]\n",
            "theta_1 =  [2.85888169 2.96177562]\n",
            "-52.80280241581931\n",
            "-84.1863619955718\n"
          ]
        }
      ]
    },
    {
      "cell_type": "code",
      "metadata": {
        "ExecuteTime": {
          "end_time": "2017-06-19T12:59:31.261232",
          "start_time": "2017-06-19T12:59:31.240050"
        },
        "run_control": {
          "frozen": false,
          "read_only": false
        },
        "colab": {
          "base_uri": "https://localhost:8080/"
        },
        "id": "p00EzkFxaQIm",
        "outputId": "c0b97be6-c15b-4319-d671-9e41788560a7"
      },
      "source": [
        "np.random.seed(666)\n",
        "\n",
        "theta_current = (m_true, b_true) + np.random.randn(2)\n",
        "\n",
        "# we start the walk here\n",
        "walk = [theta_current]\n",
        "\n",
        "# proposed perturbation of the current position - gaussian with width 0.5\n",
        "proposal_width = (0.2, 0.2) \n",
        "proposal = scipy.stats.norm(theta_current, proposal_width).rvs()\n",
        "\n",
        "# current values  of the pieces of Bayes theorem\n",
        "ln_current = lnlike(theta_current, x, y, yerr)\n",
        "prior_current = lnprior(theta_current)\n",
        "\n",
        "# values  of the pieces of Bayes theorem at the proposed position\n",
        "ln_proposal  = lnlike(proposal, x, y, yerr)\n",
        "prior_proposal = lnprior(proposal)\n",
        "\n",
        "# put them together\n",
        "p_current = np.exp(ln_current + prior_current)\n",
        "p_proposal = np.exp(ln_proposal + prior_proposal)\n",
        "print(\"p current {:.2g}\".format(p_current))\n",
        "print(\"p new {:.2g}\".format(p_proposal))\n"
      ],
      "execution_count": null,
      "outputs": [
        {
          "output_type": "stream",
          "name": "stdout",
          "text": [
            "p current 1.2e-23\n",
            "p new 2.7e-37\n"
          ]
        }
      ]
    },
    {
      "cell_type": "markdown",
      "metadata": {
        "id": "8mejlpWpaQIm"
      },
      "source": [
        "## Run the code with different chain lengths to see how the MCMC explores the parameter space\n",
        "The simple algorithm coded below runs an MCMC with a single chain. The length of the chain is controlled by the parameter N\n"
      ]
    },
    {
      "cell_type": "code",
      "metadata": {
        "ExecuteTime": {
          "end_time": "2017-06-19T13:08:25.111573",
          "start_time": "2017-06-19T13:08:07.134126"
        },
        "run_control": {
          "frozen": false,
          "read_only": false
        },
        "colab": {
          "base_uri": "https://localhost:8080/"
        },
        "id": "HkOB7glsaQIm",
        "outputId": "d43bc04f-84f8-4676-f440-2daf5a2a48b4"
      },
      "source": [
        "N = 10000 #number of steps in my chain\n",
        "\n",
        "# move along the walk N = 100, 1000 steps\n",
        "np.random.seed(666)\n",
        "\n",
        "theta_current = (m_true, b_true) + np.random.randn(2)\n",
        "\n",
        "# we start the walk here\n",
        "walk = [theta_current]\n",
        "\n",
        "# propoed perturbation of the current position - gaussian with width 0.5\n",
        "proposal_width = (0.2, 0.2) \n",
        "\n",
        "# current values  of the pieces of Bayes theorem\n",
        "ln_current = lnlike(theta_current, x, y, yerr)\n",
        "prior_current = lnprior(theta_current)\n",
        "\n",
        "p_current = np.exp(ln_current + prior_current)\n",
        "\n",
        "for i in range(N):\n",
        "    \n",
        "    # calculate the proposal and the prior  and likelihood there\n",
        "    proposal = scipy.stats.norm(theta_current, proposal_width).rvs()\n",
        "    ln_proposal  = lnlike(proposal, x, y, yerr)\n",
        "    prior_proposal = lnprior(proposal)\n",
        "    p_proposal = np.exp(ln_proposal + prior_proposal)\n",
        "    \n",
        "    # update for sure if it is a better location\n",
        "    if p_proposal > p_current:\n",
        "        #print (\"right away\")\n",
        "        theta_current, ln_current, prior_current, p_current = \\\n",
        "        proposal, ln_proposal, prior_proposal, p_proposal\n",
        "        walk.append(proposal)\n",
        "        \n",
        "    #update with a probability equal to the posteriors ratio if the location is worse\n",
        "    else:\n",
        "        p_accept = (p_proposal / p_current)\n",
        "        \n",
        "        #use a stocastic draw to accept with probability P\n",
        "        if np.random.rand() < p_accept:\n",
        "            #print (\"later on away\")\n",
        "\n",
        "            theta_current, ln_current, prior_current, p_current = proposal, ln_proposal, prior_proposal, p_proposal\n",
        "            walk.append(proposal)\n",
        "m_mcmc = np.percentile(np.array(walk)[:,0], [50, 16, 84])\n",
        "b_mcmc = np.percentile(np.array(walk)[:,1], [50, 16, 84])\n",
        "mcmcRes = np.concatenate([m_mcmc, b_mcmc])\n",
        "print (\"MCMC result:\\nslope\\t\\t{0:+.2f} ({1:.2f}, {2:.2f})\\nintercept\\t{3:.2f} ({4:.2f}, {5:.2f})\".format(*mcmcRes))"
      ],
      "execution_count": null,
      "outputs": [
        {
          "output_type": "stream",
          "name": "stdout",
          "text": [
            "MCMC result:\n",
            "slope\t\t+2.26 (2.07, 2.44)\n",
            "intercept\t-1.17 (-2.82, 0.49)\n"
          ]
        }
      ]
    },
    {
      "cell_type": "code",
      "metadata": {
        "ExecuteTime": {
          "end_time": "2017-06-19T13:08:26.943019",
          "start_time": "2017-06-19T13:08:25.120702"
        },
        "run_control": {
          "frozen": false,
          "read_only": false
        },
        "scrolled": false,
        "colab": {
          "base_uri": "https://localhost:8080/",
          "height": 1000
        },
        "id": "90itQyhSaQIn",
        "outputId": "982fe0fb-7ed2-47d2-ca4e-c1f017085bbf"
      },
      "source": [
        "# look at the sampled posterior  space\n",
        "pl.figure(figsize=(10,5))\n",
        "pl.plot(np.array(walk)[:,0],'k-', label=\"slope\")\n",
        "pl.legend()\n",
        "pl.show()\n",
        "print (\"Fig 2:  slope MCMC chain\")\n",
        "\n",
        "pl.figure(figsize=(10,5))\n",
        "pl.plot(np.array(walk)[:,1], 'k-', label=\"intercept\")\n",
        "pl.legend()\n",
        "pl.show()\n",
        "print (\"Fig 3:  intercept MCMC chain\")\n",
        "\n",
        "pl.figure()\n",
        "pl.hist(np.array(walk)[:,0], alpha=0.5, label=\"slope\")\n",
        "\n",
        "pl.hist(np.array(walk)[:,1], alpha=0.5, label=\"intercept\")\n",
        "pl.legend()\n",
        "pl.show()\n",
        "print (\"Fig 4:  slope and intercept MCMC posterior distributions\")\n"
      ],
      "execution_count": null,
      "outputs": [
        {
          "output_type": "display_data",
          "data": {
            "image/png": "[encoded data removed]",
            "text/plain": [
              "<Figure size 720x360 with 1 Axes>"
            ]
          },
          "metadata": {
            "needs_background": "light"
          }
        },
        {
          "output_type": "stream",
          "name": "stdout",
          "text": [
            "Fig 2:  slope MCMC chain\n"
          ]
        },
        {
          "output_type": "display_data",
          "data": {
            "image/png": "[encoded data removed]",
            "text/plain": [
              "<Figure size 720x360 with 1 Axes>"
            ]
          },
          "metadata": {
            "needs_background": "light"
          }
        },
        {
          "output_type": "stream",
          "name": "stdout",
          "text": [
            "Fig 3:  intercept MCMC chain\n"
          ]
        },
        {
          "output_type": "display_data",
          "data": {
            "image/png": "[encoded data removed]",
            "text/plain": [
              "<Figure size 720x720 with 1 Axes>"
            ]
          },
          "metadata": {
            "needs_background": "light"
          }
        },
        {
          "output_type": "stream",
          "name": "stdout",
          "text": [
            "Fig 4:  slope and intercept MCMC posterior distributions\n"
          ]
        }
      ]
    },
    {
      "cell_type": "code",
      "metadata": {
        "colab": {
          "base_uri": "https://localhost:8080/"
        },
        "id": "RxWWMQG24IL5",
        "outputId": "8445e42b-2a45-476f-b294-474440e4e802"
      },
      "source": [
        "walk"
      ],
      "execution_count": null,
      "outputs": [
        {
          "output_type": "execute_result",
          "data": {
            "text/plain": [
              "[array([2.62418808, 2.779966  ]),\n",
              " array([2.61711574, 2.74008359]),\n",
              " array([2.3312013 , 2.74777751]),\n",
              " array([2.17701579, 2.87035665]),\n",
              " array([1.96408157, 3.07718709]),\n",
              " array([1.78769722, 3.32784117]),\n",
              " array([1.79330056, 3.40955261]),\n",
              " array([1.75403934, 3.71318163]),\n",
              " array([1.82358192, 3.83524322]),\n",
              " array([1.73333377, 3.51775391]),\n",
              " array([1.84643883, 3.58093341]),\n",
              " array([1.68472291, 3.78720622]),\n",
              " array([1.78722475, 3.74065421]),\n",
              " array([1.77459341, 3.90818941]),\n",
              " array([1.82787676, 3.78636631]),\n",
              " array([1.61171391, 4.10032796]),\n",
              " array([1.73358955, 4.21839825]),\n",
              " array([1.60660028, 4.59097616]),\n",
              " array([1.72986622, 4.4951718 ]),\n",
              " array([1.90659176, 4.09675308]),\n",
              " array([1.81574619, 4.05525341]),\n",
              " array([1.7545857 , 4.18923775]),\n",
              " array([1.76344542, 3.87211978]),\n",
              " array([1.72179058, 3.73879926]),\n",
              " array([1.84450234, 3.70234112]),\n",
              " array([1.90733402, 3.8780755 ]),\n",
              " array([1.93977781, 3.91021191]),\n",
              " array([1.84214394, 3.96137873]),\n",
              " array([1.85800154, 4.22449645]),\n",
              " array([1.69919729, 4.29075602]),\n",
              " array([1.74033265, 4.36834763]),\n",
              " array([1.6907646 , 4.03075847]),\n",
              " array([1.8941425 , 3.90563489]),\n",
              " array([1.83748379, 3.9463138 ]),\n",
              " array([1.66421083, 3.92072077]),\n",
              " array([1.68316234, 4.21283635]),\n",
              " array([1.80887998, 3.97388985]),\n",
              " array([1.7149326 , 4.20927144]),\n",
              " array([1.82959726, 4.51029345]),\n",
              " array([1.74362796, 4.22009397]),\n",
              " array([1.77868855, 4.30371951]),\n",
              " array([1.79419716, 4.04740405]),\n",
              " array([1.783204  , 4.03693473]),\n",
              " array([1.68993322, 3.91671748]),\n",
              " array([1.91297207, 3.91570708]),\n",
              " array([1.92821697, 3.8159428 ]),\n",
              " array([1.77136592, 3.61442598]),\n",
              " array([1.86752983, 3.43848277]),\n",
              " array([1.74987829, 3.3188419 ]),\n",
              " array([1.93161805, 3.28505193]),\n",
              " array([2.04487106, 2.7065377 ]),\n",
              " array([2.03016072, 2.76303136]),\n",
              " array([1.88281535, 2.83576777]),\n",
              " array([1.87643472, 2.81564446]),\n",
              " array([1.99602984, 2.72552327]),\n",
              " array([1.87942054, 2.72943838]),\n",
              " array([1.81519775, 2.56328036]),\n",
              " array([1.92145709, 2.46364684]),\n",
              " array([1.89197754, 2.49665016]),\n",
              " array([1.95405153, 2.13051438]),\n",
              " array([1.83027988, 2.07768962]),\n",
              " array([1.87049549, 1.70549377]),\n",
              " array([1.85466097, 1.60853156]),\n",
              " array([1.87903575, 1.89713509]),\n",
              " array([1.97682715, 1.48629305]),\n",
              " array([2.00521374, 1.32436494]),\n",
              " array([2.20978574, 0.86618455]),\n",
              " array([2.18383237, 1.01515293]),\n",
              " array([1.9844806 , 1.33644014]),\n",
              " array([1.99670183, 1.34944097]),\n",
              " array([2.08306305, 1.32263551]),\n",
              " array([2.04264246, 1.37221208]),\n",
              " array([1.91675869, 1.33865905]),\n",
              " array([1.99770568, 1.67571189]),\n",
              " array([1.92064302, 1.46929462]),\n",
              " array([2.05029763, 1.67947044]),\n",
              " array([1.9979431 , 1.59048127]),\n",
              " array([1.94151121, 1.49101227]),\n",
              " array([1.94423641, 1.47478401]),\n",
              " array([1.99379133, 1.50340761]),\n",
              " array([1.89630097, 1.39577558]),\n",
              " array([1.85233048, 1.02926891]),\n",
              " array([2.00338568, 0.58855448]),\n",
              " array([2.10661218, 0.35244481]),\n",
              " array([2.2278091 , 0.27481785]),\n",
              " array([2.1323462 , 0.23081206]),\n",
              " array([ 2.15388397, -0.01173218]),\n",
              " array([2.29143995, 0.01971501]),\n",
              " array([ 2.08847702, -0.27077557]),\n",
              " array([ 2.14729398, -0.12330714]),\n",
              " array([2.13839944, 0.24820931]),\n",
              " array([1.98339121, 0.31315733]),\n",
              " array([ 2.29674257, -0.19073504]),\n",
              " array([2.18375855, 0.16519766]),\n",
              " array([2.14830961, 0.08610133]),\n",
              " array([2.01481858, 0.37587156]),\n",
              " array([2.14791383, 0.41921672]),\n",
              " array([2.05330209, 0.51559774]),\n",
              " array([2.25131636, 0.42216662]),\n",
              " array([2.15880298, 0.39815079]),\n",
              " array([2.10975776, 0.5556613 ]),\n",
              " array([2.02450054, 0.64537088]),\n",
              " array([1.97452371, 0.55673142]),\n",
              " array([2.06540424, 0.72020029]),\n",
              " array([2.0730273 , 0.56215371]),\n",
              " array([2.13946438, 0.35889138]),\n",
              " array([2.15987994, 0.32189214]),\n",
              " array([2.05532895, 0.35776555]),\n",
              " array([2.21856429, 0.38767023]),\n",
              " array([2.19163478, 0.4942764 ]),\n",
              " array([2.04799165, 0.7597865 ]),\n",
              " array([2.04512985, 0.86093702]),\n",
              " array([2.20788554, 0.98858608]),\n",
              " array([1.94801065, 0.78180548]),\n",
              " array([1.93683993, 1.13559242]),\n",
              " array([2.05937939, 1.29769593]),\n",
              " array([2.14260456, 1.38194859]),\n",
              " array([2.04244644, 1.54329491]),\n",
              " array([2.0408743 , 1.29036184]),\n",
              " array([2.06068198, 1.25669869]),\n",
              " array([2.05705393, 1.49785438]),\n",
              " array([2.01380257, 1.4608999 ]),\n",
              " array([1.91586414, 1.48316451]),\n",
              " array([1.94266482, 1.31045325]),\n",
              " array([1.97787416, 1.35242241]),\n",
              " array([1.86979026, 1.30418003]),\n",
              " array([2.00758102, 1.13052146]),\n",
              " array([1.85786903, 0.99718866]),\n",
              " array([1.96181096, 0.84732419]),\n",
              " array([1.96891265, 1.09213232]),\n",
              " array([2.21751494, 0.9359348 ]),\n",
              " array([2.09449747, 0.74576034]),\n",
              " array([2.07917174, 0.92816035]),\n",
              " array([2.115371  , 1.10881166]),\n",
              " array([2.07578897, 0.93553617]),\n",
              " array([2.06875409, 0.8665109 ]),\n",
              " array([1.93984371, 0.87371726]),\n",
              " array([1.97476533, 0.70787158]),\n",
              " array([2.01861924, 0.86695111]),\n",
              " array([2.14820855, 0.83347001]),\n",
              " array([1.95824901, 1.13117899]),\n",
              " array([1.99834125, 0.93378122]),\n",
              " array([2.21164626, 0.8609848 ]),\n",
              " array([2.06403018, 0.8020714 ]),\n",
              " array([2.07942102, 0.56355366]),\n",
              " array([2.07792884, 0.50494424]),\n",
              " array([2.00608332, 0.56461296]),\n",
              " array([1.98093002, 0.92857323]),\n",
              " array([2.11546274, 0.64184555]),\n",
              " array([2.29773578, 0.21499784]),\n",
              " array([1.9882996 , 0.03070175]),\n",
              " array([2.23946242, 0.18595048]),\n",
              " array([ 2.23295216, -0.16238381]),\n",
              " array([ 1.99551359, -0.0957377 ]),\n",
              " array([ 1.96985185, -0.03482432]),\n",
              " array([2.08468517, 0.2437612 ]),\n",
              " array([2.16882305, 0.35596538]),\n",
              " array([2.20235916, 0.35447867]),\n",
              " array([2.07049629, 0.30727784]),\n",
              " array([1.99374899, 0.03183285]),\n",
              " array([2.08480197, 0.06574766]),\n",
              " array([ 2.03403986, -0.0022478 ]),\n",
              " array([2.24815893, 0.16414659]),\n",
              " array([2.16328986, 0.25262241]),\n",
              " array([2.16289463, 0.26734727]),\n",
              " array([2.17394013, 0.1236332 ]),\n",
              " array([2.20917176, 0.3524736 ]),\n",
              " array([2.14211227, 0.38539999]),\n",
              " array([2.18370903, 0.22972074]),\n",
              " array([ 2.33356107, -0.33568345]),\n",
              " array([ 2.31226911, -0.41299175]),\n",
              " array([ 2.0166555, -0.56725  ]),\n",
              " array([ 2.12058709, -0.55415325]),\n",
              " array([ 2.25788297, -0.4235496 ]),\n",
              " array([ 2.16163435, -0.62853229]),\n",
              " array([ 2.04402245, -0.69862826]),\n",
              " array([ 2.21428241, -1.06006426]),\n",
              " array([ 2.27049345, -1.13350801]),\n",
              " array([ 2.1919647 , -1.14636983]),\n",
              " array([ 2.18171415, -1.4886308 ]),\n",
              " array([ 2.41493684, -1.51866901]),\n",
              " array([ 2.36165517, -1.15230022]),\n",
              " array([ 2.3232656 , -1.33376757]),\n",
              " array([ 2.24881741, -1.44781321]),\n",
              " array([ 2.38935753, -1.56534431]),\n",
              " array([ 2.33384815, -1.21272783]),\n",
              " array([ 2.15740857, -1.30318046]),\n",
              " array([ 2.40446167, -1.21895767]),\n",
              " array([ 2.44133906, -1.21924636]),\n",
              " array([ 2.46097755, -1.27317346]),\n",
              " array([ 2.3246123 , -1.37574109]),\n",
              " array([ 2.30483703, -1.27400479]),\n",
              " array([ 2.25167627, -1.10893956]),\n",
              " array([ 2.25488653, -1.26354676]),\n",
              " array([ 2.23522333, -0.94103879]),\n",
              " array([ 2.24404933, -0.86700979]),\n",
              " array([ 2.38923353, -1.11355389]),\n",
              " array([ 2.32403568, -1.31441656]),\n",
              " array([ 2.28857515, -1.02912813]),\n",
              " array([ 2.31355192, -1.47848095]),\n",
              " array([ 2.16192068, -1.17210208]),\n",
              " array([ 2.14770613, -0.98710544]),\n",
              " array([ 2.36474722, -0.99386451]),\n",
              " array([ 2.2409167 , -1.00643963]),\n",
              " array([ 2.13793024, -1.08495699]),\n",
              " array([ 2.40540507, -0.97650344]),\n",
              " array([ 2.43031171, -1.26630808]),\n",
              " array([ 2.4860337 , -1.78872615]),\n",
              " array([ 2.2979627, -1.8121251]),\n",
              " array([ 2.29310483, -1.51960004]),\n",
              " array([ 2.17534568, -1.44092501]),\n",
              " array([ 2.29779686, -1.62970145]),\n",
              " array([ 2.36997225, -1.48822995]),\n",
              " array([ 2.43537921, -1.60925156]),\n",
              " array([ 2.24427297, -1.66851724]),\n",
              " array([ 2.51536563, -1.86898201]),\n",
              " array([ 2.35058144, -1.86701132]),\n",
              " array([ 2.3262268 , -1.90579486]),\n",
              " array([ 2.35260709, -1.83250007]),\n",
              " array([ 2.36045128, -2.02733339]),\n",
              " array([ 2.24267672, -2.03193088]),\n",
              " array([ 2.29922469, -1.68444465]),\n",
              " array([ 2.27170173, -1.471639  ]),\n",
              " array([ 2.24932711, -1.52119244]),\n",
              " array([ 2.13135317, -1.56478034]),\n",
              " array([ 2.40557293, -1.41909033]),\n",
              " array([ 2.35662733, -1.44913374]),\n",
              " array([ 2.25555498, -1.70632323]),\n",
              " array([ 2.28887716, -1.7785118 ]),\n",
              " array([ 2.34900042, -1.82165118]),\n",
              " array([ 2.28062767, -1.81759896]),\n",
              " array([ 2.33422979, -1.6936215 ]),\n",
              " array([ 2.32594147, -1.43650429]),\n",
              " array([ 2.10092084, -1.23778984]),\n",
              " array([ 2.25261899, -1.63196835]),\n",
              " array([ 2.43291327, -1.80784137]),\n",
              " array([ 2.35331404, -2.09573288]),\n",
              " array([ 2.28605298, -2.11416512]),\n",
              " array([ 2.38936954, -1.69292177]),\n",
              " array([ 2.34636915, -1.5177134 ]),\n",
              " array([ 2.42211392, -1.469927  ]),\n",
              " array([ 2.3493463 , -1.62764583]),\n",
              " array([ 2.40613366, -1.68926078]),\n",
              " array([ 2.34239813, -1.43036271]),\n",
              " array([ 2.07567099, -1.24189333]),\n",
              " array([ 2.0102035 , -1.10738929]),\n",
              " array([ 2.04019944, -1.0938146 ]),\n",
              " array([ 2.09990824, -1.09543116]),\n",
              " array([ 2.23357794, -0.98171967]),\n",
              " array([ 2.20282763, -0.89330426]),\n",
              " array([ 2.32511897, -0.90273681]),\n",
              " array([ 2.31567391, -0.89675598]),\n",
              " array([ 2.27554941, -1.00413014]),\n",
              " array([ 2.30922978, -0.76034744]),\n",
              " array([ 2.15980121, -0.62229796]),\n",
              " array([ 2.26532108, -0.36660561]),\n",
              " array([ 2.18310732, -0.61450787]),\n",
              " array([ 2.27477687, -0.71506332]),\n",
              " array([ 2.29777843, -0.32840548]),\n",
              " array([ 2.23603989, -0.53454748]),\n",
              " array([ 2.19607847, -0.28630761]),\n",
              " array([ 2.24893281, -0.33578126]),\n",
              " array([ 2.28783684, -0.33438135]),\n",
              " array([ 2.17371836, -0.37768413]),\n",
              " array([ 2.11115066, -0.22677381]),\n",
              " array([ 2.08260778, -0.23827179]),\n",
              " array([ 2.1797356 , -0.44815298]),\n",
              " array([ 2.3185987 , -0.43002895]),\n",
              " array([ 2.25293467, -0.31585954]),\n",
              " array([ 2.25707229, -0.53599244]),\n",
              " array([ 2.33377488, -0.69306443]),\n",
              " array([ 2.1888069, -0.5063874]),\n",
              " array([ 2.1338406, -0.5583118]),\n",
              " array([ 2.06450999, -0.13146091]),\n",
              " array([ 2.12725763, -0.39034497]),\n",
              " array([ 2.18343409, -0.21241382]),\n",
              " array([ 2.16509101, -0.42720442]),\n",
              " array([ 2.16149705, -0.42571899]),\n",
              " array([ 2.25021915, -0.56042867]),\n",
              " array([ 2.21989841, -0.62924612]),\n",
              " array([ 2.15692965, -0.7790595 ]),\n",
              " array([ 2.09119487, -0.60900714]),\n",
              " array([ 2.08698356, -0.65093058]),\n",
              " array([ 2.23665751, -0.53439405]),\n",
              " array([ 1.95642853, -0.48155368]),\n",
              " array([ 1.94578187, -0.56602618]),\n",
              " array([ 2.11020813, -0.45455442]),\n",
              " array([ 2.18973988, -0.55343135]),\n",
              " array([ 2.33891023, -0.65065791]),\n",
              " array([ 2.3539372 , -0.22684332]),\n",
              " array([ 2.26069124, -0.03285173]),\n",
              " array([ 2.27148375, -0.1728842 ]),\n",
              " array([ 2.01038365, -0.49198254]),\n",
              " array([ 2.40631638, -0.4440791 ]),\n",
              " array([ 2.15601213, -0.7343758 ]),\n",
              " array([ 2.12898728, -0.61619013]),\n",
              " array([ 2.1720115 , -0.71896062]),\n",
              " array([ 2.37914091, -0.63456673]),\n",
              " array([ 2.37597958, -0.70758878]),\n",
              " array([ 2.43135135, -0.62880171]),\n",
              " array([ 2.21853901, -0.49247439]),\n",
              " array([ 2.0925099 , -0.35383753]),\n",
              " array([ 2.03448015, -0.54354824]),\n",
              " array([ 2.04851252, -0.84896184]),\n",
              " array([ 2.04414592, -0.83782577]),\n",
              " array([ 2.09195389, -1.11497815]),\n",
              " array([ 2.22151341, -1.35679283]),\n",
              " array([ 2.36798259, -1.53783608]),\n",
              " array([ 2.28390071, -1.38206998]),\n",
              " array([ 2.27608657, -1.53418269]),\n",
              " array([ 2.38537003, -1.56806633]),\n",
              " array([ 2.19798671, -1.47259491]),\n",
              " array([ 2.27893824, -1.58476492]),\n",
              " array([ 2.29450708, -1.44050853]),\n",
              " array([ 2.36764402, -1.91734972]),\n",
              " array([ 2.3551479 , -1.93845928]),\n",
              " array([ 2.30477054, -2.1202377 ]),\n",
              " array([ 2.33112035, -2.34246598]),\n",
              " array([ 2.34895401, -2.45760538]),\n",
              " array([ 2.29784781, -2.4298775 ]),\n",
              " array([ 2.3380994 , -2.54704262]),\n",
              " array([ 2.42981078, -2.74533658]),\n",
              " array([ 2.24259876, -2.3174201 ]),\n",
              " array([ 2.22151591, -2.08695271]),\n",
              " array([ 2.36034619, -2.29065993]),\n",
              " array([ 2.38507271, -2.28814087]),\n",
              " array([ 2.43504767, -2.40759266]),\n",
              " array([ 2.33816157, -2.08191277]),\n",
              " array([ 2.28068446, -1.84523464]),\n",
              " array([ 2.31255425, -1.84429104]),\n",
              " array([ 2.36307095, -1.89937379]),\n",
              " array([ 2.38059901, -1.85849573]),\n",
              " array([ 2.18444554, -1.52050094]),\n",
              " array([ 2.19920445, -1.52642335]),\n",
              " array([ 2.33283551, -1.51391757]),\n",
              " array([ 2.31627066, -1.6900406 ]),\n",
              " array([ 2.3257099 , -1.73459373]),\n",
              " array([ 2.35959377, -1.76840835]),\n",
              " array([ 2.50063398, -1.47782017]),\n",
              " array([ 2.40349163, -1.58639126]),\n",
              " array([ 2.23792517, -1.42923695]),\n",
              " array([ 2.16618189, -1.27836688]),\n",
              " array([ 2.21281315, -1.78139281]),\n",
              " array([ 2.22369772, -1.71911774]),\n",
              " array([ 2.22609516, -1.96134337]),\n",
              " array([ 2.14094498, -1.66588382]),\n",
              " array([ 2.40465308, -1.69444724]),\n",
              " array([ 2.33812919, -1.71353033]),\n",
              " array([ 2.26610838, -1.53979247]),\n",
              " array([ 2.4375913 , -1.16261526]),\n",
              " array([ 2.41989984, -1.156956  ]),\n",
              " array([ 2.43508718, -1.12264269]),\n",
              " array([ 2.31295822, -0.99109516]),\n",
              " array([ 2.30131708, -1.09334678]),\n",
              " array([ 2.3536024 , -0.96459574]),\n",
              " array([ 2.16000704, -0.84519227]),\n",
              " array([ 2.26284831, -0.87542659]),\n",
              " array([ 2.33322592, -1.02664145]),\n",
              " array([ 2.38361484, -0.72927562]),\n",
              " array([ 2.31639767, -0.92832666]),\n",
              " array([ 2.26821302, -1.03933745]),\n",
              " array([ 2.19021119, -0.8842224 ]),\n",
              " array([ 2.36187056, -1.09169268]),\n",
              " array([ 2.37211837, -0.99598907]),\n",
              " array([ 2.33276647, -0.69516357]),\n",
              " array([ 2.32742154, -0.55186642]),\n",
              " array([ 2.07832797, -0.30344914]),\n",
              " array([2.25322408, 0.12130353]),\n",
              " array([ 2.09790542, -0.1140044 ]),\n",
              " array([ 2.20676634, -0.17058659]),\n",
              " array([ 2.18672482, -0.32234462]),\n",
              " array([ 2.25827508, -0.51611828]),\n",
              " array([ 2.25201935, -0.47411503]),\n",
              " array([ 2.21502711, -0.37787463]),\n",
              " array([ 2.24054198, -0.32751571]),\n",
              " array([ 2.16971521, -0.36431415]),\n",
              " array([ 2.26439476, -0.6456487 ]),\n",
              " array([ 2.19288119, -0.51048447]),\n",
              " array([ 2.20736624, -0.77036542]),\n",
              " array([ 2.23837119, -0.60716678]),\n",
              " array([ 2.1462057 , -0.91152502]),\n",
              " array([ 2.30397347, -1.07712981]),\n",
              " array([ 2.32176382, -1.08118069]),\n",
              " array([ 2.18458501, -1.20989818]),\n",
              " array([ 2.38837396, -0.97808809]),\n",
              " array([ 2.37836409, -1.02833966]),\n",
              " array([ 2.38615459, -1.08682442]),\n",
              " array([ 2.33207769, -0.8287925 ]),\n",
              " array([ 2.18429228, -1.21612258]),\n",
              " array([ 2.36479031, -1.53013348]),\n",
              " array([ 2.21534449, -1.30155764]),\n",
              " array([ 2.41981368, -1.54408093]),\n",
              " array([ 2.46912811, -1.9550762 ]),\n",
              " array([ 2.42760643, -1.86002035]),\n",
              " array([ 2.25489856, -2.04378041]),\n",
              " array([ 2.44565645, -1.87843777]),\n",
              " array([ 2.34623928, -2.13754017]),\n",
              " array([ 2.40626351, -2.06143927]),\n",
              " array([ 2.3508451 , -1.78544124]),\n",
              " array([ 2.25262082, -1.73335891]),\n",
              " array([ 2.32718949, -1.88915123]),\n",
              " array([ 2.22225875, -1.60507099]),\n",
              " array([ 2.36722207, -1.69190547]),\n",
              " array([ 2.23756784, -1.72623463]),\n",
              " array([ 2.17564473, -1.64461178]),\n",
              " array([ 2.25197472, -1.47817167]),\n",
              " array([ 2.25144029, -1.22151671]),\n",
              " array([ 2.27004223, -1.05698888]),\n",
              " array([ 2.14896566, -1.22776237]),\n",
              " array([ 2.1700571 , -1.27408689]),\n",
              " array([ 2.18774881, -1.22806968]),\n",
              " array([ 2.37035644, -1.64553263]),\n",
              " array([ 2.20603704, -1.21583218]),\n",
              " array([ 2.1501916 , -1.00722539]),\n",
              " array([ 2.22169953, -0.86537797]),\n",
              " array([ 2.21999895, -1.4370246 ]),\n",
              " array([ 2.22012464, -1.50561202]),\n",
              " array([ 2.15130132, -1.44587053]),\n",
              " array([ 2.26596391, -1.40985679]),\n",
              " array([ 2.31830359, -1.46910165]),\n",
              " array([ 2.24644233, -1.0584102 ]),\n",
              " array([ 2.15549998, -0.43669439]),\n",
              " array([ 2.26398004, -0.28092555]),\n",
              " array([ 2.3353467 , -0.54668097]),\n",
              " array([ 2.24002826, -0.36176541]),\n",
              " array([ 2.1834562 , -0.55552024]),\n",
              " array([ 2.26128059, -0.26103033]),\n",
              " array([ 2.28253429, -0.12514953]),\n",
              " array([ 2.29472005, -0.19829062]),\n",
              " array([ 2.29502705, -0.1667502 ]),\n",
              " array([ 2.30113136, -0.16064453]),\n",
              " array([2.16814774, 0.08262655]),\n",
              " array([2.11037193, 0.04952764]),\n",
              " array([ 2.12332700e+00, -1.66359885e-04]),\n",
              " array([ 2.20949583, -0.1672683 ]),\n",
              " array([ 2.40881575, -0.43150591]),\n",
              " array([ 2.17437326, -0.51189361]),\n",
              " array([ 2.14134446, -0.5268274 ]),\n",
              " array([ 2.07662482, -0.55177174]),\n",
              " array([ 2.0777453 , -0.58714533]),\n",
              " array([ 2.2751244, -0.8807129]),\n",
              " array([ 2.14992063, -0.94265249]),\n",
              " array([ 2.22141385, -0.95281231]),\n",
              " array([ 2.24188842, -1.03231563]),\n",
              " array([ 2.10342482, -0.82185485]),\n",
              " array([ 2.19106072, -1.1116541 ]),\n",
              " array([ 2.30734085, -0.74543066]),\n",
              " array([ 2.14164314, -0.97823879]),\n",
              " array([ 2.21638832, -1.06122597]),\n",
              " array([ 2.15690351, -1.1706273 ]),\n",
              " array([ 2.33323932, -0.81135319]),\n",
              " array([ 2.33803114, -0.87760489]),\n",
              " array([ 2.17000416, -0.8246566 ]),\n",
              " array([ 2.21201857, -0.7527598 ]),\n",
              " array([ 2.16338567, -0.8890699 ]),\n",
              " array([ 2.30149455, -0.71563811]),\n",
              " array([ 2.20231699, -0.73879691]),\n",
              " array([ 2.30529568, -0.71852891]),\n",
              " array([ 2.17190865, -0.83256217]),\n",
              " array([ 2.28802094, -0.92491358]),\n",
              " array([ 2.30287424, -0.82171526]),\n",
              " array([ 2.17821765, -0.64042809]),\n",
              " array([ 2.16268131, -0.57756829]),\n",
              " array([ 2.26050187, -0.6264439 ]),\n",
              " array([ 2.23262609, -0.56275219]),\n",
              " array([ 2.16441428, -0.33537698]),\n",
              " array([ 2.11497064, -0.67288343]),\n",
              " array([ 2.18098582, -0.84131053]),\n",
              " array([ 2.09188235, -0.93379664]),\n",
              " array([ 2.2485918 , -1.12448771]),\n",
              " array([ 2.41029262, -1.2300178 ]),\n",
              " array([ 2.21705306, -1.13702197]),\n",
              " array([ 2.09604858, -0.70326011]),\n",
              " array([ 2.12155179, -0.73271007]),\n",
              " array([ 2.26644833, -0.62129328]),\n",
              " array([ 2.14713748, -0.68810405]),\n",
              " array([ 2.30225487, -0.77073885]),\n",
              " array([ 2.25783928, -0.55396807]),\n",
              " array([ 2.02374004, -0.69364208]),\n",
              " array([ 2.32538809, -0.73698796]),\n",
              " array([ 2.12141856, -0.98075181]),\n",
              " array([ 2.18113502, -0.68152042]),\n",
              " array([ 2.15083749, -0.58195565]),\n",
              " array([ 2.21728393, -0.51123893]),\n",
              " array([ 2.21391487, -0.52918697]),\n",
              " array([ 2.20885921, -0.71328125]),\n",
              " array([ 2.34232358, -0.83060988]),\n",
              " array([ 2.43731264, -0.95101105]),\n",
              " array([ 2.39943757, -1.32947785]),\n",
              " array([ 2.353842  , -1.30139557]),\n",
              " array([ 2.30062788, -1.46857666]),\n",
              " array([ 2.30632135, -0.95967074]),\n",
              " array([ 2.18023703, -0.71771585]),\n",
              " array([ 2.16567267, -0.86067132]),\n",
              " array([ 2.13658338, -0.72504536]),\n",
              " array([ 2.16818738, -0.96950773]),\n",
              " array([ 2.12508654, -1.07138828]),\n",
              " array([ 2.29196684, -1.24883555]),\n",
              " array([ 2.14063125, -1.23277857]),\n",
              " array([ 2.1836809 , -0.89760895]),\n",
              " array([ 2.18335103, -0.99379626]),\n",
              " array([ 2.15549892, -1.14125054]),\n",
              " array([ 2.189589  , -1.48809267]),\n",
              " array([ 2.1965086 , -1.45953725]),\n",
              " array([ 2.29687759, -1.41238728]),\n",
              " array([ 2.37534941, -1.48455514]),\n",
              " array([ 2.35906746, -1.28877602]),\n",
              " array([ 2.23733752, -1.24554878]),\n",
              " array([ 2.1778408 , -1.25282183]),\n",
              " array([ 2.22781503, -1.58721047]),\n",
              " array([ 2.26115486, -1.47600442]),\n",
              " array([ 2.32444162, -1.6285346 ]),\n",
              " array([ 2.33011231, -1.45359723]),\n",
              " array([ 2.36207799, -1.41903264]),\n",
              " array([ 2.16724747, -1.45383179]),\n",
              " array([ 2.27929691, -1.49537582]),\n",
              " array([ 2.27005454, -1.73155322]),\n",
              " array([ 2.37917328, -2.0478678 ]),\n",
              " array([ 2.32615534, -1.92795676]),\n",
              " array([ 2.2682248 , -1.79097816]),\n",
              " array([ 2.26068331, -1.38233229]),\n",
              " array([ 2.35150366, -1.36003379]),\n",
              " array([ 2.3113939 , -1.61358568]),\n",
              " array([ 2.29551349, -1.73397791]),\n",
              " array([ 2.19076432, -1.27724187]),\n",
              " array([ 2.1840865 , -1.28046474]),\n",
              " array([ 2.21453683, -1.37581966]),\n",
              " array([ 2.28554166, -1.52680852]),\n",
              " array([ 2.3698627 , -0.97170738]),\n",
              " array([ 2.30318888, -0.96138474]),\n",
              " array([ 2.28488684, -0.80343697]),\n",
              " array([ 2.2012123 , -1.06204053]),\n",
              " array([ 2.22482533, -0.8054742 ]),\n",
              " array([ 2.35071189, -1.12927419]),\n",
              " array([ 2.2401226 , -1.18679953]),\n",
              " array([ 2.1115485 , -1.46711132]),\n",
              " array([ 2.111344  , -1.51138307]),\n",
              " array([ 2.20796598, -1.56841052]),\n",
              " array([ 2.30421541, -1.65569881]),\n",
              " array([ 2.3344908 , -1.53990763]),\n",
              " array([ 2.22734383, -1.63184958]),\n",
              " array([ 2.38885502, -1.45667748]),\n",
              " array([ 2.38737404, -1.71990287]),\n",
              " array([ 2.2745041 , -1.51653119]),\n",
              " array([ 2.31521005, -1.84476025]),\n",
              " array([ 2.27149207, -2.05374201]),\n",
              " array([ 2.39444527, -2.04579342]),\n",
              " array([ 2.37836399, -2.00568278]),\n",
              " array([ 2.13531793, -1.75397216]),\n",
              " array([ 2.26812392, -1.96698201]),\n",
              " array([ 2.26486854, -1.88607071]),\n",
              " array([ 2.41261475, -1.70555311]),\n",
              " array([ 2.21922254, -1.71297461]),\n",
              " array([ 2.20315586, -1.85832116]),\n",
              " array([ 2.22270872, -1.92371773]),\n",
              " array([ 2.21156692, -1.70682071]),\n",
              " array([ 2.226358  , -1.67348863]),\n",
              " array([ 2.3682479 , -1.48397938]),\n",
              " array([ 2.18325948, -1.52407134]),\n",
              " array([ 2.2359085, -1.7319761]),\n",
              " array([ 2.20498021, -1.89368152]),\n",
              " array([ 2.40570737, -1.70370226]),\n",
              " array([ 2.34935567, -1.24195643]),\n",
              " array([ 2.09657146, -1.16339138]),\n",
              " array([ 2.3383859 , -1.33605618]),\n",
              " array([ 2.35413438, -1.51445993]),\n",
              " array([ 2.15478911, -1.39987543]),\n",
              " array([ 2.18832272, -1.59105328]),\n",
              " array([ 2.31835247, -1.52552989]),\n",
              " array([ 2.33700672, -1.38637906]),\n",
              " array([ 2.31776803, -1.3150555 ]),\n",
              " array([ 2.33336653, -1.53460483]),\n",
              " array([ 2.33024509, -1.49460624]),\n",
              " array([ 2.33780811, -1.43553829]),\n",
              " array([ 2.38845986, -1.67724509]),\n",
              " array([ 2.25942323, -1.4978299 ]),\n",
              " array([ 2.29811282, -1.5400278 ]),\n",
              " array([ 2.28057525, -1.46831207]),\n",
              " array([ 2.29711323, -1.35370426]),\n",
              " array([ 2.21215152, -1.51427444]),\n",
              " array([ 2.27671316, -1.54656916]),\n",
              " array([ 2.35110326, -1.83332974]),\n",
              " array([ 2.30524905, -1.8185638 ]),\n",
              " array([ 2.05849779, -1.80545046]),\n",
              " array([ 2.12519483, -1.69274034]),\n",
              " array([ 2.26649566, -1.85071822]),\n",
              " array([ 2.24411971, -2.13817495]),\n",
              " array([ 2.36343431, -2.28095382]),\n",
              " array([ 2.44581826, -2.23763747]),\n",
              " array([ 2.40470172, -2.35078535]),\n",
              " array([ 2.33967928, -2.13992456]),\n",
              " array([ 2.35947361, -2.19752276]),\n",
              " array([ 2.2321537 , -1.92554767]),\n",
              " array([ 2.4509282 , -1.44951013]),\n",
              " array([ 2.43656221, -1.43222484]),\n",
              " array([ 2.22404276, -1.38133297]),\n",
              " array([ 2.26853853, -1.0043471 ]),\n",
              " array([ 2.21337558, -0.87149911]),\n",
              " array([ 2.26953752, -0.89812441]),\n",
              " array([ 2.18527666, -1.10510973]),\n",
              " array([ 2.27723085, -1.0409856 ]),\n",
              " array([ 2.18541937, -0.925346  ]),\n",
              " array([ 2.07805501, -0.75945265]),\n",
              " array([ 2.29073008, -0.57988583]),\n",
              " array([ 2.16384112, -0.58128263]),\n",
              " array([ 2.18752076, -0.59551535]),\n",
              " array([ 2.26270493, -0.66049473]),\n",
              " array([ 2.16748857, -1.03420703]),\n",
              " array([ 2.23133017, -1.35984374]),\n",
              " array([ 2.1487882 , -1.32604948]),\n",
              " array([ 2.17701976, -1.17711504]),\n",
              " array([ 2.39287516, -1.57786054]),\n",
              " array([ 2.29319325, -1.81578416]),\n",
              " array([ 2.38581929, -1.95246285]),\n",
              " array([ 2.38390289, -2.26200051]),\n",
              " array([ 2.26381886, -2.33254127]),\n",
              " array([ 2.32331722, -2.3321656 ]),\n",
              " array([ 2.27912067, -2.19403438]),\n",
              " array([ 2.23690953, -2.00954148]),\n",
              " array([ 2.29326027, -1.87353796]),\n",
              " array([ 2.19267739, -1.55046256]),\n",
              " array([ 2.11948356, -1.48792764]),\n",
              " array([ 2.07275934, -1.47234932]),\n",
              " array([ 2.13555482, -1.79353009]),\n",
              " array([ 2.23797293, -1.97560065]),\n",
              " array([ 2.48511309, -2.66520029]),\n",
              " array([ 2.39290864, -2.71665106]),\n",
              " array([ 2.37067797, -2.68072105]),\n",
              " array([ 2.47421387, -2.63412674]),\n",
              " array([ 2.47034555, -2.65615018]),\n",
              " array([ 2.48180329, -2.64095545]),\n",
              " array([ 2.36595808, -2.62585201]),\n",
              " array([ 2.46856836, -2.41928873]),\n",
              " array([ 2.28638254, -1.95526889]),\n",
              " array([ 2.3393823 , -2.01669916]),\n",
              " array([ 2.38476445, -1.66893662]),\n",
              " array([ 2.43122454, -1.50618811]),\n",
              " array([ 2.39199563, -1.5699139 ]),\n",
              " array([ 2.41022363, -1.76645631]),\n",
              " array([ 2.33938168, -1.60196372]),\n",
              " array([ 2.3108479 , -1.24205042]),\n",
              " array([ 2.44328972, -1.02911857]),\n",
              " array([ 2.18422674, -1.16226531]),\n",
              " array([ 2.37061463, -1.15811241]),\n",
              " array([ 2.29799584, -0.86989102]),\n",
              " array([ 2.1413293 , -0.74564388]),\n",
              " array([ 2.13998984, -0.79496207]),\n",
              " array([ 2.25262651, -0.51650937]),\n",
              " array([ 2.21274599, -0.52267121]),\n",
              " array([ 2.24013217, -0.71696372]),\n",
              " array([ 2.2007805 , -0.75937942]),\n",
              " array([ 2.19313171, -0.63328746]),\n",
              " array([ 2.1685853 , -0.45757693]),\n",
              " array([ 2.23688616, -0.59308794]),\n",
              " array([ 2.2150458 , -0.89316103]),\n",
              " array([ 2.33119976, -0.95516629]),\n",
              " array([ 2.34120979, -0.85876255]),\n",
              " array([ 2.22209937, -0.85549246]),\n",
              " array([ 2.20744039, -0.73196679]),\n",
              " array([ 2.37451114, -0.85671075]),\n",
              " array([ 2.14120454, -0.96634506]),\n",
              " array([ 2.2501213 , -0.93218096]),\n",
              " array([ 2.32838919, -0.92140367]),\n",
              " array([ 2.1950422 , -0.98495685]),\n",
              " array([ 2.31246623, -1.26358157]),\n",
              " array([ 2.23071543, -1.40967722]),\n",
              " array([ 2.31237881, -1.50540434]),\n",
              " array([ 2.3740946 , -1.41742883]),\n",
              " array([ 2.20163042, -1.23951875]),\n",
              " array([ 2.17079688, -1.02841435]),\n",
              " array([ 2.16546223, -1.10869773]),\n",
              " array([ 2.36663003, -1.02554765]),\n",
              " array([ 2.19906317, -1.07244396]),\n",
              " array([ 2.32604148, -0.95912283]),\n",
              " array([ 2.3882908 , -0.91269969]),\n",
              " array([ 2.08574899, -0.46973911]),\n",
              " array([ 2.06760143, -0.48804078]),\n",
              " array([ 2.26604158, -1.06202323]),\n",
              " array([ 2.2922061 , -0.82857765]),\n",
              " array([ 2.23042196, -0.79991344]),\n",
              " array([ 2.39373279, -0.91880172]),\n",
              " array([ 2.38355942, -1.23224281]),\n",
              " array([ 2.29383156, -1.2077529 ]),\n",
              " array([ 2.32252692, -1.21684428]),\n",
              " array([ 2.20436306, -1.11445484]),\n",
              " array([ 2.28765391, -1.16191861]),\n",
              " array([ 2.33232657, -1.64629387]),\n",
              " array([ 2.17043768, -1.51578048]),\n",
              " array([ 2.27145055, -1.63643446]),\n",
              " array([ 2.27596824, -1.58189904]),\n",
              " array([ 2.30318429, -1.41926937]),\n",
              " array([ 2.24505449, -1.54310287]),\n",
              " array([ 2.14793421, -1.48927274]),\n",
              " array([ 2.33480502, -1.47978837]),\n",
              " array([ 2.208359  , -1.74427307]),\n",
              " array([ 2.24895718, -1.50101135]),\n",
              " array([ 2.29259861, -1.50428514]),\n",
              " array([ 2.37758598, -1.51532235]),\n",
              " array([ 2.24971244, -1.48337143]),\n",
              " array([ 2.33087178, -1.6725432 ]),\n",
              " array([ 2.25022183, -1.67499188]),\n",
              " array([ 2.17966453, -1.6452834 ]),\n",
              " array([ 2.28139161, -1.48705514]),\n",
              " array([ 2.37140627, -1.20771951]),\n",
              " array([ 2.4430983 , -1.25432398]),\n",
              " array([ 2.37245133, -0.92153307]),\n",
              " array([ 2.1016358 , -0.58570558]),\n",
              " array([ 2.27732466, -0.57774748]),\n",
              " array([ 2.22703089, -0.82440669]),\n",
              " array([ 2.28756202, -0.98762644]),\n",
              " array([ 2.33231352, -1.43964179]),\n",
              " array([ 2.30636016, -1.76796826]),\n",
              " array([ 2.35433241, -1.5823458 ]),\n",
              " array([ 2.29455951, -1.85847855]),\n",
              " array([ 2.33792773, -1.72340669]),\n",
              " array([ 2.43461871, -1.56339158]),\n",
              " array([ 2.27980986, -1.58987308]),\n",
              " array([ 2.27243652, -1.71723746]),\n",
              " array([ 2.18971908, -1.88070422]),\n",
              " array([ 2.38724214, -1.89799636]),\n",
              " array([ 2.40248818, -1.95758981]),\n",
              " array([ 2.3356963 , -1.75683643]),\n",
              " array([ 2.33568398, -1.80957599]),\n",
              " array([ 2.23939013, -1.66684319]),\n",
              " array([ 2.50596938, -1.61273422]),\n",
              " array([ 2.38575641, -1.44536788]),\n",
              " array([ 2.31903957, -1.72391343]),\n",
              " array([ 2.26102072, -1.88655555]),\n",
              " array([ 2.42524492, -1.70604669]),\n",
              " array([ 2.43619   , -2.07917947]),\n",
              " array([ 2.31016829, -1.96755274]),\n",
              " array([ 2.16806412, -1.91622062]),\n",
              " array([ 2.47723525, -2.27440957]),\n",
              " array([ 2.33314047, -1.91994236]),\n",
              " array([ 2.31859513, -1.83378881]),\n",
              " array([ 2.44832993, -2.07267293]),\n",
              " array([ 2.21145588, -2.16482178]),\n",
              " array([ 2.32376033, -2.25659793]),\n",
              " array([ 2.4106513 , -2.24526206]),\n",
              " array([ 2.2637236 , -2.03870752]),\n",
              " array([ 2.35995892, -2.24684102]),\n",
              " array([ 2.39230893, -2.26072496]),\n",
              " array([ 2.40484135, -2.65010002]),\n",
              " array([ 2.33401968, -2.59457005]),\n",
              " array([ 2.5023862 , -2.93516196]),\n",
              " array([ 2.49687315, -2.65755788]),\n",
              " array([ 2.3350574 , -2.72415179]),\n",
              " array([ 2.39237395, -2.56204203]),\n",
              " array([ 2.44976791, -2.71516722]),\n",
              " array([ 2.41748983, -2.83254433]),\n",
              " array([ 2.44579254, -3.18912269]),\n",
              " array([ 2.47649794, -3.12492438]),\n",
              " array([ 2.63631135, -3.27885303]),\n",
              " array([ 2.5812732 , -3.04714535]),\n",
              " array([ 2.3226517 , -3.44730253]),\n",
              " array([ 2.26750833, -3.32812451]),\n",
              " array([ 2.39864731, -3.34352323]),\n",
              " array([ 2.31335549, -3.33575861]),\n",
              " array([ 2.33846672, -3.18138609]),\n",
              " array([ 2.64521403, -3.45026679]),\n",
              " array([ 2.35404476, -3.79357119]),\n",
              " array([ 2.66949424, -3.75636032]),\n",
              " array([ 2.44176808, -3.3585747 ]),\n",
              " array([ 2.50349747, -3.47525318]),\n",
              " array([ 2.45528827, -3.78132016]),\n",
              " array([ 2.5994615 , -3.79958473]),\n",
              " array([ 2.53466086, -3.70800085]),\n",
              " array([ 2.53192202, -3.45988675]),\n",
              " array([ 2.50755843, -3.52897187]),\n",
              " array([ 2.51186863, -3.73571759]),\n",
              " array([ 2.55327451, -3.79383965]),\n",
              " array([ 2.54148816, -3.85027621]),\n",
              " array([ 2.55768443, -4.00780912]),\n",
              " array([ 2.50271482, -4.10818397]),\n",
              " array([ 2.54418556, -4.00266766]),\n",
              " array([ 2.49028495, -3.82819112]),\n",
              " array([ 2.44331014, -3.81536212]),\n",
              " array([ 2.3411512 , -3.88188102]),\n",
              " array([ 2.54593621, -3.7448698 ]),\n",
              " array([ 2.54106874, -3.87756722]),\n",
              " array([ 2.48328516, -3.94283623]),\n",
              " array([ 2.47680917, -3.90640206]),\n",
              " array([ 2.54766594, -3.68857943]),\n",
              " array([ 2.51849251, -3.69648049]),\n",
              " array([ 2.55690737, -3.77054053]),\n",
              " array([ 2.58752955, -3.68155371]),\n",
              " array([ 2.56134784, -4.00364861]),\n",
              " array([ 2.62330111, -3.85157162]),\n",
              " array([ 2.57131943, -3.88575428]),\n",
              " array([ 2.52124346, -3.92082844]),\n",
              " array([ 2.32993315, -3.64073917]),\n",
              " array([ 2.55943554, -3.43078534]),\n",
              " array([ 2.51474087, -3.58714433]),\n",
              " array([ 2.63370596, -3.55341642]),\n",
              " array([ 2.35738484, -3.49932968]),\n",
              " array([ 2.59774549, -3.55720348]),\n",
              " array([ 2.44758362, -3.28763722]),\n",
              " array([ 2.42103651, -3.40555062]),\n",
              " array([ 2.30963038, -3.57296978]),\n",
              " array([ 2.34774905, -3.63244947]),\n",
              " array([ 2.20998687, -3.50268377]),\n",
              " array([ 2.26108955, -3.35822938]),\n",
              " array([ 2.25038554, -3.07324269]),\n",
              " array([ 2.58735992, -2.69808735]),\n",
              " array([ 2.53363686, -2.9364195 ]),\n",
              " array([ 2.48620223, -3.19543303]),\n",
              " array([ 2.45909751, -3.2946062 ]),\n",
              " array([ 2.44057066, -3.14004695]),\n",
              " array([ 2.60776302, -3.16422417]),\n",
              " array([ 2.49321889, -3.2435786 ]),\n",
              " array([ 2.4908496 , -3.31176386]),\n",
              " array([ 2.35982479, -3.33917932]),\n",
              " array([ 2.43596455, -3.34011272]),\n",
              " array([ 2.3877203 , -3.48923271]),\n",
              " array([ 2.45594677, -3.50866525]),\n",
              " array([ 2.43521332, -3.49259133]),\n",
              " array([ 2.3130298, -3.156617 ]),\n",
              " array([ 2.48922703, -3.02118692]),\n",
              " array([ 2.35452932, -2.91930229]),\n",
              " array([ 2.4546884 , -2.99686088]),\n",
              " array([ 2.40909243, -2.7851351 ]),\n",
              " array([ 2.32436947, -2.69604131]),\n",
              " array([ 2.31817054, -3.0220629 ]),\n",
              " array([ 2.30425372, -2.58375261]),\n",
              " array([ 2.46484135, -2.19125123]),\n",
              " array([ 2.41389841, -2.13759806]),\n",
              " array([ 2.24904979, -2.37040128]),\n",
              " array([ 2.38097298, -2.27195621]),\n",
              " array([ 2.41133236, -2.09363001]),\n",
              " array([ 2.45811939, -2.30524219]),\n",
              " array([ 2.34583753, -2.21285675]),\n",
              " array([ 2.23403728, -2.23540468]),\n",
              " array([ 2.38080359, -2.28820718]),\n",
              " array([ 2.51293307, -2.44078647]),\n",
              " array([ 2.42855062, -2.49250686]),\n",
              " array([ 2.40668833, -2.55388585]),\n",
              " array([ 2.4068606 , -2.35091256]),\n",
              " array([ 2.26757723, -2.47735925]),\n",
              " array([ 2.24276073, -2.34001023]),\n",
              " array([ 2.30397541, -2.4292089 ]),\n",
              " array([ 2.4043228 , -2.30124053]),\n",
              " array([ 2.44343225, -2.69489326]),\n",
              " array([ 2.39990133, -2.80306126]),\n",
              " array([ 2.49828082, -2.59472187]),\n",
              " array([ 2.33523783, -2.68053661]),\n",
              " array([ 2.40648318, -2.64339226]),\n",
              " array([ 2.49591783, -2.70432151]),\n",
              " array([ 2.43555723, -2.28869085]),\n",
              " array([ 2.35300984, -1.63169654]),\n",
              " array([ 2.24105528, -1.67051239]),\n",
              " array([ 2.22140547, -1.74445696]),\n",
              " array([ 2.12009668, -1.59212024]),\n",
              " array([ 2.16805692, -1.67144099]),\n",
              " array([ 2.46170549, -1.86191988]),\n",
              " array([ 2.21547181, -2.1476806 ]),\n",
              " array([ 2.31993244, -2.2779995 ]),\n",
              " array([ 2.39776452, -2.2099345 ]),\n",
              " array([ 2.3149887 , -2.09986684]),\n",
              " array([ 2.30425985, -2.13675432]),\n",
              " array([ 2.35727712, -1.87650308]),\n",
              " array([ 2.21705422, -2.15371735]),\n",
              " array([ 2.18381333, -1.86065425]),\n",
              " array([ 2.20875243, -1.81407949]),\n",
              " array([ 2.36024117, -1.70554578]),\n",
              " array([ 2.24599862, -1.26323141]),\n",
              " array([ 2.30206237, -1.45208194]),\n",
              " array([ 2.25250311, -1.25992834]),\n",
              " array([ 2.34760084, -1.31202122]),\n",
              " array([ 2.39571016, -1.23882965]),\n",
              " array([ 2.30974778, -1.36353276]),\n",
              " array([ 2.37181883, -1.61089711]),\n",
              " array([ 2.24962811, -1.5919742 ]),\n",
              " array([ 2.18718146, -1.3850983 ]),\n",
              " array([ 2.24242099, -1.19305339]),\n",
              " array([ 2.35924902, -1.13744898]),\n",
              " array([ 2.43002964, -1.13166843]),\n",
              " array([ 2.33107187, -1.17378699]),\n",
              " array([ 2.37183586, -1.34591624]),\n",
              " array([ 2.21723172, -1.67729189]),\n",
              " array([ 2.13148483, -1.15730007]),\n",
              " array([ 2.11802116, -1.05389507]),\n",
              " array([ 2.14443385, -1.03315537]),\n",
              " array([ 2.4692913, -1.2102461]),\n",
              " array([ 2.30533427, -1.27571135]),\n",
              " array([ 2.17106799, -1.25645442]),\n",
              " array([ 2.16275019, -0.85859727]),\n",
              " array([ 2.1537795 , -1.30100167]),\n",
              " array([ 2.42918227, -1.2667223 ]),\n",
              " array([ 2.24625309, -1.41726745]),\n",
              " array([ 2.24425094, -1.32075211]),\n",
              " array([ 2.33649864, -1.22583104]),\n",
              " array([ 2.29772843, -1.09453564]),\n",
              " array([ 2.2477935, -0.9974962]),\n",
              " array([ 2.38761628, -1.13565302]),\n",
              " array([ 2.37138267, -1.26964685]),\n",
              " array([ 2.28625687, -1.39960094]),\n",
              " array([ 2.21461583, -1.79794293]),\n",
              " array([ 2.311878 , -1.9784314]),\n",
              " array([ 2.24905142, -2.1385339 ]),\n",
              " array([ 2.33651758, -2.12057927]),\n",
              " array([ 2.31838262, -1.78298901]),\n",
              " array([ 2.38094813, -1.48660963]),\n",
              " array([ 2.39110784, -1.58168522]),\n",
              " array([ 2.26075681, -1.55117437]),\n",
              " array([ 2.26331239, -1.78272447]),\n",
              " array([ 2.31366633, -1.74263634]),\n",
              " array([ 2.33334814, -1.68260467]),\n",
              " array([ 2.34933073, -1.95536085]),\n",
              " array([ 2.43473999, -2.15220294]),\n",
              " array([ 2.46151405, -2.18167097]),\n",
              " array([ 2.44828914, -2.37041405]),\n",
              " array([ 2.27925555, -2.24017094]),\n",
              " array([ 2.37766536, -2.1949194 ]),\n",
              " array([ 2.35653298, -2.32155428]),\n",
              " array([ 2.4258103 , -2.37914562]),\n",
              " array([ 2.343408  , -2.17237587]),\n",
              " array([ 2.41984351, -2.2413235 ]),\n",
              " array([ 2.32984447, -2.2442508 ]),\n",
              " array([ 2.42903618, -2.43957393]),\n",
              " array([ 2.41065863, -2.35405331]),\n",
              " array([ 2.26862253, -2.2925194 ]),\n",
              " array([ 2.37959952, -2.28844994]),\n",
              " array([ 2.33224599, -2.40146785]),\n",
              " array([ 2.51155685, -2.29143029]),\n",
              " array([ 2.46432453, -1.8806078 ]),\n",
              " array([ 2.49673374, -1.93264512]),\n",
              " array([ 2.46422589, -1.70128365]),\n",
              " array([ 2.5125287 , -1.54164749]),\n",
              " array([ 2.40964714, -1.29930199]),\n",
              " array([ 2.49912344, -1.1710111 ]),\n",
              " array([ 2.22506391, -1.13569996]),\n",
              " array([ 2.24572432, -0.88137814]),\n",
              " array([ 2.09838852, -0.78857551]),\n",
              " array([ 2.23134459, -0.75546153]),\n",
              " array([ 2.19765782, -0.80630713]),\n",
              " array([ 2.20871819, -0.80142485]),\n",
              " array([ 2.17182834, -1.16129013]),\n",
              " array([ 2.30594237, -1.74672996]),\n",
              " array([ 2.30173422, -1.74629782]),\n",
              " array([ 2.37415506, -1.72579888]),\n",
              " array([ 2.26887042, -2.06772159]),\n",
              " array([ 2.22389268, -1.90878552]),\n",
              " array([ 2.19270797, -1.71045395]),\n",
              " array([ 2.19862395, -1.33604109]),\n",
              " array([ 2.3037212 , -1.45859353]),\n",
              " array([ 2.36919602, -1.35302268]),\n",
              " array([ 2.33973191, -1.58076713]),\n",
              " array([ 2.34368858, -1.63717963]),\n",
              " array([ 2.29563054, -0.97474964]),\n",
              " array([ 2.17780764, -1.17263933]),\n",
              " array([ 2.29222061, -1.101339  ]),\n",
              " array([ 2.29791779, -1.12834083]),\n",
              " array([ 2.18955291, -0.98463119]),\n",
              " array([ 2.13584718, -0.82500235]),\n",
              " array([ 2.31729122, -0.83644452]),\n",
              " array([ 2.28092758, -0.81438195]),\n",
              " array([ 2.26491224, -0.75100124]),\n",
              " array([ 2.15972875, -0.69366397]),\n",
              " array([ 2.05142695, -0.57896318]),\n",
              " array([ 2.04386401, -0.36420748]),\n",
              " array([ 2.06133407, -0.54356212]),\n",
              " array([ 2.0669435 , -0.34670161]),\n",
              " array([ 2.19760584, -0.29350013]),\n",
              " array([ 2.34330465, -0.2780983 ]),\n",
              " array([ 2.21182704, -0.43098124]),\n",
              " array([ 2.05500618, -0.44504072]),\n",
              " array([ 2.16335409, -0.1548478 ]),\n",
              " array([ 2.1637863, -0.1396845]),\n",
              " array([ 2.2306718, -0.1768117]),\n",
              " array([ 2.27646168, -0.16358006]),\n",
              " array([ 2.24042167, -0.25648056]),\n",
              " array([ 2.15349736, -0.26264991]),\n",
              " array([ 2.21359552, -0.33574358]),\n",
              " array([ 2.09117946, -0.12776753]),\n",
              " array([ 2.19787362, -0.00505792]),\n",
              " array([ 2.10861521, -0.11720745]),\n",
              " array([ 2.1754934 , -0.09924259]),\n",
              " array([ 2.1030276 , -0.25887794]),\n",
              " array([ 2.23215067, -0.557906  ]),\n",
              " array([ 2.0858685 , -0.44289617]),\n",
              " array([ 2.34021863, -1.00959624]),\n",
              " array([ 2.3160939 , -0.87401774]),\n",
              " array([ 2.38120844, -1.09226926]),\n",
              " array([ 2.09360432, -0.77773756]),\n",
              " array([ 2.17809225, -0.52991942]),\n",
              " array([ 2.12082151, -0.70975739]),\n",
              " array([ 2.07623111, -0.988595  ]),\n",
              " array([ 2.12661669, -0.95265498]),\n",
              " array([ 2.07395487, -0.83682967]),\n",
              " array([ 2.34771862, -0.6160195 ]),\n",
              " array([ 2.31413166, -0.27299016]),\n",
              " array([ 2.08366457, -0.1481566 ]),\n",
              " array([2.20219104, 0.10106799]),\n",
              " array([ 2.26511675, -0.08133954]),\n",
              " array([ 2.13585119, -0.16099084]),\n",
              " array([2.14614706, 0.22430822]),\n",
              " array([ 2.11293348, -0.01528614]),\n",
              " array([2.31435844, 0.06232122]),\n",
              " array([2.10016113, 0.20600033]),\n",
              " array([2.13343766e+00, 1.40644212e-03]),\n",
              " ...]"
            ]
          },
          "metadata": {},
          "execution_count": 111
        }
      ]
    },
    {
      "cell_type": "code",
      "metadata": {
        "ExecuteTime": {
          "end_time": "2017-06-19T13:11:53.243063",
          "start_time": "2017-06-19T13:11:52.138785"
        },
        "run_control": {
          "frozen": false,
          "read_only": false
        },
        "colab": {
          "base_uri": "https://localhost:8080/",
          "height": 428
        },
        "id": "oLYIgiqNaQIn",
        "outputId": "ee55c61f-87ad-42f2-c476-a0019ef96c0a"
      },
      "source": [
        "fig = corner.corner(np.array(walk), labels=[\"$m$\",\"$intercept$\"],\n",
        "                   truths=(m_mcmc[0], b_mcmc[0]))\n",
        "pl.show()\n",
        "print (\"Fig 5: posterior joint distribution - generative model truth indicated in blue\")"
      ],
      "execution_count": null,
      "outputs": [
        {
          "output_type": "display_data",
          "data": {
            "image/png": "[encoded data removed]",
            "text/plain": [
              "<Figure size 396x396 with 4 Axes>"
            ]
          },
          "metadata": {
            "needs_background": "light"
          }
        },
        {
          "output_type": "stream",
          "name": "stdout",
          "text": [
            "Fig 5: posterior joint distribution - generative model truth indicated in blue\n"
          ]
        }
      ]
    },
    {
      "cell_type": "code",
      "metadata": {
        "colab": {
          "base_uri": "https://localhost:8080/",
          "height": 387
        },
        "id": "24rOvABucYgx",
        "outputId": "4bbda70b-6d1d-452e-a739-17070f3c56d0"
      },
      "source": [
        "# Choose the \"true\" parameters.\n",
        "m_true = 1.8\n",
        "b_true = 2.3\n",
        "\n",
        "# Generate some synthetic data from the model.\n",
        "N = 20\n",
        "np.random.seed(123)\n",
        "x = np.sort(np.random.rand(N) * 20)\n",
        "y = line(m_true, b_true, x)\n",
        "yerr = np.sqrt(y) + np.random.randn(N) \n",
        "y += yerr * np.random.randn(N) * 2\n",
        "\n",
        "ax = pl.figure(figsize=(10,5)).add_subplot(111)\n",
        "ax.set_ylabel('y')\n",
        "ax.set_xlabel('x')\n",
        "ax.errorbar(x, y, yerr=yerr, fmt='k.')\n",
        "ax.plot(pl.xlim(), line(m_true, b_true,  np.array(pl.xlim())), 'k-', alpha=0.8, lw=2)\n",
        "ax.plot(pl.xlim(), line(m_mcmc[0], b_mcmc[0],  np.array(pl.xlim())), 'r-', alpha=0.8, lw=2)\n",
        "\n",
        "pl.show()\n",
        "print (\"Figure 1: a line generative model and the data it generates with Poisson errors augmented by Gaussian errors\")"
      ],
      "execution_count": null,
      "outputs": [
        {
          "output_type": "display_data",
          "data": {
            "image/png": "[encoded data removed]",
            "text/plain": [
              "<Figure size 720x360 with 1 Axes>"
            ]
          },
          "metadata": {
            "needs_background": "light"
          }
        },
        {
          "output_type": "stream",
          "name": "stdout",
          "text": [
            "Figure 1: a line generative model and the data it generates with Poisson errors augmented by Gaussian errors\n"
          ]
        }
      ]
    },
    {
      "cell_type": "markdown",
      "metadata": {
        "run_control": {
          "frozen": false,
          "read_only": false
        },
        "id": "MP7Crz8xaQIn"
      },
      "source": [
        "# Affine Invariant MCMC sample (with emcee)\n",
        "\n",
        "The emcee package implements Affine Invariant MCMC in python\n",
        "\n",
        "https://emcee.readthedocs.io/en/stable/tutorials/quickstart/"
      ]
    },
    {
      "cell_type": "code",
      "metadata": {
        "ExecuteTime": {
          "end_time": "2017-06-19T13:12:05.520216",
          "start_time": "2017-06-19T13:12:05.513488"
        },
        "collapsed": true,
        "run_control": {
          "frozen": false,
          "read_only": false
        },
        "id": "SgACS5BeaQIo"
      },
      "source": [
        "# ENCEE needs a lnprob function to put together prior and posterior (in log space)\n",
        "def lnprob(theta, x, y, yerr):\n",
        "    lp = lnprior(theta)\n",
        "    if not np.isfinite(lp):\n",
        "        return -np.inf\n",
        "    return lp + lnlike(theta, x, y, yerr)"
      ],
      "execution_count": null,
      "outputs": []
    },
    {
      "cell_type": "code",
      "metadata": {
        "ExecuteTime": {
          "end_time": "2017-06-19T13:17:48.679898",
          "start_time": "2017-06-19T13:17:46.881502"
        },
        "run_control": {
          "frozen": false,
          "read_only": false
        },
        "colab": {
          "base_uri": "https://localhost:8080/"
        },
        "id": "9m-eT2YaaQIo",
        "outputId": "9eac11fd-0103-4ef3-f1e6-3da2aa747f2f"
      },
      "source": [
        "start = np.array([m_true, b_true])\n",
        "ndim, nwalkers, nsteps = start.shape[0], 100, 500\n",
        "pos = [start + 1e-4*np.random.randn(ndim) for i in range(nwalkers)]\n",
        "pos"
      ],
      "execution_count": null,
      "outputs": [
        {
          "output_type": "execute_result",
          "data": {
            "text/plain": [
              "[array([1.80014956, 2.30010694]),\n",
              " array([1.79992273, 2.30007949]),\n",
              " array([1.80003143, 2.29986737]),\n",
              " array([1.80014173, 2.30008072]),\n",
              " array([1.80000455, 2.29997669]),\n",
              " array([1.79988017, 2.30001995]),\n",
              " array([1.80004684, 2.29991688]),\n",
              " array([1.80011622, 2.29989028]),\n",
              " array([1.79978769, 2.30010397]),\n",
              " array([1.79995966, 2.2999874 ]),\n",
              " array([1.79991625, 2.2998394 ]),\n",
              " array([1.80012552, 2.29993111]),\n",
              " array([1.8001661 , 2.30008073]),\n",
              " array([1.79996852, 2.29989141]),\n",
              " array([1.79992675, 2.29987875]),\n",
              " array([1.80020871, 2.30001644]),\n",
              " array([1.80011502, 2.29987326]),\n",
              " array([1.8000181 , 2.30011779]),\n",
              " array([1.7999665 , 2.30010311]),\n",
              " array([1.79989154, 2.29986365]),\n",
              " array([1.80003794, 2.29996208]),\n",
              " array([1.80006421, 2.29980221]),\n",
              " array([1.80007123, 2.30025983]),\n",
              " array([1.79999754, 2.30000341]),\n",
              " array([1.80001795, 2.2998138 ]),\n",
              " array([1.80004261, 2.29983946]),\n",
              " array([1.79995723, 2.30012429]),\n",
              " array([1.79992648, 2.30005012]),\n",
              " array([1.80010127, 2.30002787]),\n",
              " array([1.79986291, 2.29996675]),\n",
              " array([1.80019594, 2.2997975 ]),\n",
              " array([1.79997242, 2.29994479]),\n",
              " array([1.80001207, 2.30007482]),\n",
              " array([1.80016087, 2.29997298]),\n",
              " array([1.80008123, 2.30004997]),\n",
              " array([1.80004743, 2.29994361]),\n",
              " array([1.79990027, 2.29989   ]),\n",
              " array([1.79992436, 2.30003217]),\n",
              " array([1.80007609, 2.30003235]),\n",
              " array([1.7999451, 2.3001806]),\n",
              " array([1.80015189, 2.2999646 ]),\n",
              " array([1.79991766, 2.30001302]),\n",
              " array([1.80012673, 2.30003328]),\n",
              " array([1.80005565, 2.29997879]),\n",
              " array([1.80004563, 2.30015445]),\n",
              " array([1.79997603, 2.30001433]),\n",
              " array([1.80002538, 2.30002837]),\n",
              " array([1.79985881, 2.29981231]),\n",
              " array([1.79989803, 2.30001679]),\n",
              " array([1.80005539, 2.29994693]),\n",
              " array([1.80013773, 2.29998568]),\n",
              " array([1.80000203, 2.2999806 ]),\n",
              " array([1.8000134 , 2.30007045]),\n",
              " array([1.80006657, 2.29991016]),\n",
              " array([1.80015237, 2.2998905 ]),\n",
              " array([1.80000792, 2.29997256]),\n",
              " array([1.7998951 , 2.29999249]),\n",
              " array([1.79992592, 2.30000729]),\n",
              " array([1.80004031, 2.30014719]),\n",
              " array([1.80003074, 2.29993888]),\n",
              " array([1.79996084, 2.300014  ]),\n",
              " array([1.80000935, 2.30014596]),\n",
              " array([1.80013954, 2.29996411]),\n",
              " array([1.79994514, 2.29974429]),\n",
              " array([1.79994511, 2.29990219]),\n",
              " array([1.79996452, 2.30003916]),\n",
              " array([1.80001772, 2.299997  ]),\n",
              " array([1.80001996, 2.29998739]),\n",
              " array([1.8000197 , 2.29967689]),\n",
              " array([1.79997307, 2.29998891]),\n",
              " array([1.79996587, 2.29997821]),\n",
              " array([1.80007033, 2.29994019]),\n",
              " array([1.80022007, 2.30006883]),\n",
              " array([1.79999937, 2.29997933]),\n",
              " array([1.79999135, 2.29990847]),\n",
              " array([1.79999048, 2.30002787]),\n",
              " array([1.80005795, 2.30005797]),\n",
              " array([1.79997251, 2.29985839]),\n",
              " array([1.79993309, 2.30016122]),\n",
              " array([1.80008961, 2.30003696]),\n",
              " array([1.79992387, 2.30000036]),\n",
              " array([1.79987443, 2.29994481]),\n",
              " array([1.79997548, 2.29996384]),\n",
              " array([1.80009566, 2.29985813]),\n",
              " array([1.79991346, 2.29986253]),\n",
              " array([1.79987626, 2.30001241]),\n",
              " array([1.79983996, 2.30007539]),\n",
              " array([1.79997532, 2.30000688]),\n",
              " array([1.80003226, 2.29995658]),\n",
              " array([1.80010325, 2.29998057]),\n",
              " array([1.80005941, 2.29998009]),\n",
              " array([1.80002909, 2.30002797]),\n",
              " array([1.800025  , 2.29990257]),\n",
              " array([1.80004359, 2.2999681 ]),\n",
              " array([1.80006305, 2.29978475]),\n",
              " array([1.79985349, 2.30003634]),\n",
              " array([1.80018629, 2.30008351]),\n",
              " array([1.79993175, 2.29983079]),\n",
              " array([1.80007427, 2.29999194]),\n",
              " array([1.80005907, 2.30001153])]"
            ]
          },
          "metadata": {},
          "execution_count": 115
        }
      ]
    },
    {
      "cell_type": "code",
      "metadata": {
        "colab": {
          "base_uri": "https://localhost:8080/",
          "height": 616
        },
        "id": "4RJ3Ca41dN6B",
        "outputId": "b5b8675f-85f2-4b86-ee18-6c13e3866306"
      },
      "source": [
        "pl.plot(np.array(pos)[:,0], np.array(pos)[:,1], '.')\n",
        "pl.plot(m_true, b_true, 'x')\n",
        "pl.xlabel(\"slopes\")\n",
        "pl.ylabel(\"intercepts\")"
      ],
      "execution_count": null,
      "outputs": [
        {
          "output_type": "execute_result",
          "data": {
            "text/plain": [
              "Text(0, 0.5, 'intercepts')"
            ]
          },
          "metadata": {},
          "execution_count": 116
        },
        {
          "output_type": "display_data",
          "data": {
            "image/png": "[encoded data removed]",
            "text/plain": [
              "<Figure size 720x720 with 1 Axes>"
            ]
          },
          "metadata": {
            "needs_background": "light"
          }
        }
      ]
    },
    {
      "cell_type": "code",
      "metadata": {
        "id": "nucFtpBnda4X"
      },
      "source": [
        "#create the sampler object\n",
        "sampler = emcee.EnsembleSampler(nwalkers, ndim, lnprob, args=(x, y, yerr))\n",
        "#run the sampler model\n",
        "sampler.run_mcmc(pos, nsteps);"
      ],
      "execution_count": null,
      "outputs": []
    },
    {
      "cell_type": "code",
      "metadata": {
        "colab": {
          "base_uri": "https://localhost:8080/"
        },
        "id": "j-xPaimzd60S",
        "outputId": "c1649378-2e84-441a-80c6-fcb9e89c66ae"
      },
      "source": [
        "#this creates 100 chains of 100 steaps each, each exploring 2 variables\n",
        "sampler.chain.shape"
      ],
      "execution_count": null,
      "outputs": [
        {
          "output_type": "execute_result",
          "data": {
            "text/plain": [
              "(100, 500, 2)"
            ]
          },
          "metadata": {},
          "execution_count": 118
        }
      ]
    },
    {
      "cell_type": "code",
      "metadata": {
        "ExecuteTime": {
          "end_time": "2017-06-19T13:19:44.419693",
          "start_time": "2017-06-19T13:19:43.129112"
        },
        "run_control": {
          "frozen": false,
          "read_only": false
        },
        "colab": {
          "base_uri": "https://localhost:8080/",
          "height": 428
        },
        "id": "_wH7y4HaaQIo",
        "outputId": "aed0bafc-9df1-43d6-e773-b7c2d42c978f"
      },
      "source": [
        "#throw away the first 150 points and visualize the location of the chais at each step\n",
        "samples = sampler.chain[:, 150:, :].reshape((-1, ndim))\n",
        "fig = corner.corner(samples, labels=[\"$m$\",\"$intercept$\"],\n",
        "                      truths=[m_true, b_true])\n",
        "pl.show()\n",
        "print (\"Fig 6: EMCEE with {0:d} chains of {0:d} steps  \".format(nwalkers, nsteps) + \n",
        "       \"- generative model truth indicated in blue\")"
      ],
      "execution_count": null,
      "outputs": [
        {
          "output_type": "display_data",
          "data": {
            "image/png": "[encoded data removed]",
            "text/plain": [
              "<Figure size 396x396 with 4 Axes>"
            ]
          },
          "metadata": {
            "needs_background": "light"
          }
        },
        {
          "output_type": "stream",
          "name": "stdout",
          "text": [
            "Fig 6: EMCEE with 100 chains of 100 steps  - generative model truth indicated in blue\n"
          ]
        }
      ]
    },
    {
      "cell_type": "code",
      "metadata": {
        "ExecuteTime": {
          "end_time": "2017-06-19T13:13:42.830295",
          "start_time": "2017-06-19T13:13:42.822268"
        },
        "collapsed": true,
        "run_control": {
          "frozen": false,
          "read_only": false
        },
        "id": "42h_FsqvaQIo"
      },
      "source": [
        "m_mcmc, b_mcmc = map(lambda v: (v[1], v[2]-v[1], v[1]-v[0]),\n",
        "                             zip(*np.percentile(samples, [16, 50, 84],\n",
        "                                                axis=0)))"
      ],
      "execution_count": null,
      "outputs": []
    },
    {
      "cell_type": "code",
      "metadata": {
        "ExecuteTime": {
          "end_time": "2017-06-19T13:14:05.348993",
          "start_time": "2017-06-19T13:14:05.343537"
        },
        "run_control": {
          "frozen": false,
          "read_only": false
        },
        "colab": {
          "base_uri": "https://localhost:8080/"
        },
        "id": "kC8Zc1lDaQIp",
        "outputId": "be0482df-d42b-4611-f779-4ad4b3470218"
      },
      "source": [
        "mcmcRes = np.concatenate([m_mcmc, b_mcmc])\n",
        "print (\"MCMC result:\\nslope\\t\\t{0:+.2f} ({1:.2f}, {2:.2f})\\nintercept\\t{3:.2f} ({4:.2f}, {5:.2f})\".format(*mcmcRes))"
      ],
      "execution_count": null,
      "outputs": [
        {
          "output_type": "stream",
          "name": "stdout",
          "text": [
            "MCMC result:\n",
            "slope\t\t+2.68 (0.20, 0.21)\n",
            "intercept\t-4.18 (1.99, 1.87)\n"
          ]
        }
      ]
    },
    {
      "cell_type": "code",
      "metadata": {
        "ExecuteTime": {
          "end_time": "2017-06-19T13:23:20.440924",
          "start_time": "2017-06-19T13:23:19.941493"
        },
        "run_control": {
          "frozen": false,
          "read_only": false
        },
        "colab": {
          "base_uri": "https://localhost:8080/",
          "height": 404
        },
        "id": "VYdEgztSaQIp",
        "outputId": "51113b30-96d5-45bf-99af-985faa3bac3d"
      },
      "source": [
        "ax = pl.figure(figsize=(10,5)).add_subplot(111)\n",
        "ax.set_ylabel('y')\n",
        "ax.set_xlabel('x')\n",
        "ax.errorbar(x, y, yerr=yerr, fmt='k.')\n",
        "ax.plot(pl.xlim(), line(m_mcmc[0], b_mcmc[0],  np.array(pl.xlim())), \n",
        "        '-', alpha=0.8, lw=2, label=\"generative model\")\n",
        "ax.plot(pl.xlim(), line(m_true, b_true,  np.array(pl.xlim())), \n",
        "        'k-', alpha=0.8, lw=2, label=\"MCMC result\")\n",
        "pl.show()\n",
        "print (\"Figure 7: a line generative model and the data it generates with Poisson errors augmented by Gaussian errors.\\n\" + \n",
        "       \"In blue the model with MCMC best fit parameters, \" + \n",
        "       \"identified as the median of the joint posterior distributions, is indicated\")"
      ],
      "execution_count": null,
      "outputs": [
        {
          "output_type": "display_data",
          "data": {
            "image/png": "[encoded data removed]",
            "text/plain": [
              "<Figure size 720x360 with 1 Axes>"
            ]
          },
          "metadata": {
            "needs_background": "light"
          }
        },
        {
          "output_type": "stream",
          "name": "stdout",
          "text": [
            "Figure 7: a line generative model and the data it generates with Poisson errors augmented by Gaussian errors.\n",
            "In blue the model with MCMC best fit parameters, identified as the median of the joint posterior distributions, is indicated\n"
          ]
        }
      ]
    },
    {
      "cell_type": "code",
      "metadata": {
        "ExecuteTime": {
          "end_time": "2017-06-19T13:23:38.670432",
          "start_time": "2017-06-19T13:23:37.595822"
        },
        "run_control": {
          "frozen": false,
          "read_only": false
        },
        "colab": {
          "base_uri": "https://localhost:8080/",
          "height": 421
        },
        "id": "mdwZ9AcYaQIp",
        "outputId": "8c383433-c31c-42be-b68b-55456760ac7f"
      },
      "source": [
        "ax = pl.figure(figsize=(10,5)).add_subplot(111)\n",
        "ax.set_ylabel('y')\n",
        "ax.set_xlabel('x')\n",
        "ax.errorbar(x, y, yerr=yerr, fmt='k.')\n",
        "ax.plot(pl.xlim(), line(m_mcmc[0], b_mcmc[0],  np.array(pl.xlim())), '-', alpha=0.8, lw=2)\n",
        "ax.plot(pl.xlim(), line(m_true, b_true,  np.array(pl.xlim())), 'k-', \n",
        "        alpha=0.8, lw=2, label=\"generative\")\n",
        "for m, b in samples[np.random.randint(len(samples), size=100)]:\n",
        "    ax.plot(x, m*x+b, color=\"SteelBlue\", alpha=0.05)\n",
        "ax.legend(loc=2)\n",
        "pl.show()\n",
        "print (\"Figure 8: a line generative model and the data it generates with Poisson errors augmented by Gaussian errors.\\n\" + \n",
        "       \"In blue model with the MCMC best fit parameters, \"  + \n",
        "       \"identified as the median of the joint posterior distributions, is indicated.\\n\" + \n",
        "       \"In light blue shades the model with the best parameters for each chain is plotted\")"
      ],
      "execution_count": null,
      "outputs": [
        {
          "output_type": "display_data",
          "data": {
            "image/png": "[encoded data removed]",
            "text/plain": [
              "<Figure size 720x360 with 1 Axes>"
            ]
          },
          "metadata": {
            "needs_background": "light"
          }
        },
        {
          "output_type": "stream",
          "name": "stdout",
          "text": [
            "Figure 8: a line generative model and the data it generates with Poisson errors augmented by Gaussian errors.\n",
            "In blue model with the MCMC best fit parameters, identified as the median of the joint posterior distributions, is indicated.\n",
            "In light blue shades the model with the best parameters for each chain is plotted\n"
          ]
        }
      ]
    }
  ]
}
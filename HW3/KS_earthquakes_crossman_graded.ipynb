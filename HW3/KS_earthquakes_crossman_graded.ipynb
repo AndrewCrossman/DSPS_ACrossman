{
 "cells": [
  {
   "cell_type": "markdown",
   "metadata": {
    "colab_type": "text",
    "id": "view-in-github"
   },
   "source": [
    "<a href=\"https://colab.research.google.com/github/AndrewCrossman/DSPS_ACrossman/blob/main/HW3/KS_earthquakes_crossman.ipynb\" target=\"_parent\"><img src=\"https://colab.research.google.com/assets/colab-badge.svg\" alt=\"Open In Colab\"/></a>"
   ]
  },
  {
   "cell_type": "markdown",
   "metadata": {
    "id": "Uk3iBT7phXry"
   },
   "source": [
    "Created by FedericaBBianco @fedhere for DSPS/MLNPS\n",
    "\n",
    "Amended by Connor Mooney @comooney711, Ben Flaggs @bflaggs, Andrew Crossman @crossman\n",
    "# Kolmogorov Smirnoff test, application to earthquake data"
   ]
  },
  {
   "cell_type": "code",
   "execution_count": 2,
   "metadata": {
    "colab": {
     "base_uri": "https://localhost:8080/"
    },
    "id": "LS78mdVthXrz",
    "outputId": "106aefc3-e8b0-4477-fbbc-22775a412195"
   },
   "outputs": [
    {
     "name": "stdout",
     "output_type": "stream",
     "text": [
      "Populating the interactive namespace from numpy and matplotlib\n"
     ]
    }
   ],
   "source": [
    "#all the imports I needed\n",
    "from __future__ import print_function, division\n",
    "import pandas as pd\n",
    "import pylab as pl\n",
    "import scipy as sp\n",
    "import numpy as np #for table\n",
    "from scipy import stats\n",
    "%pylab inline\n",
    "#pl.style.use(\"https://raw.githubusercontent.com/fedhere/DSPS/master/fbb.mplstyle\")"
   ]
  },
  {
   "cell_type": "markdown",
   "metadata": {
    "id": "SvIJHRyuhXr2"
   },
   "source": [
    "This homework asks you to reproduce the work in [Corral 2018](https://arxiv.org/pdf/0910.0055.pdf) which is well described, but not \"reproducible\". \n",
    "Corral 2018 uses a K-S test to show that at different magnitude scales the time gaps between earthquakes follows the same distribution. If true, this indicates that there is a consistent scaling law. \n",
    "\n",
    "The argument is a little convoluted, but it is a somewhat innovative use of the test. Corall compares the time gap between earthquakes  greater than a certain magnitude threshold with the time gaps between earthquakes above a different threshold, and finds no differences.\n",
    "\n",
    "Remind yourself exactly what the K-S test is about :\n",
    "\n",
    "    1 What is the test's Null Hypothsis that the K-S test tests?\n",
    "    \n",
    "    \n"
   ]
  },
  {
   "cell_type": "markdown",
   "metadata": {
    "id": "y8DJjYrthXr3"
   },
   "source": [
    "**SOLUTION** ```The null hypothesis is that data sets from different stationary periods follow the same distribution.```\n",
    "\n"
   ]
  },
  {
   "cell_type": "markdown",
   "metadata": {},
   "source": [
    "<h1 style=\"color:red\"> &#10004; </h1>\n"
   ]
  },
  {
   "cell_type": "markdown",
   "metadata": {
    "id": "V8T9XH7nhXr3"
   },
   "source": [
    "    2 What is the \"statistic\" or \"pivotal quantity\" that the test uses?\n",
    "    \n"
   ]
  },
  {
   "cell_type": "markdown",
   "metadata": {
    "id": "jSSktfhAhXr4"
   },
   "source": [
    "**SOLUTION** ```The absolute value of the maximum distance between the cumulative distributions for each of the two data sets.```\n",
    "\n",
    "\n"
   ]
  },
  {
   "cell_type": "markdown",
   "metadata": {},
   "source": [
    "<h1 style=\"color:red\"> &#10004; </h1>\n"
   ]
  },
  {
   "cell_type": "markdown",
   "metadata": {
    "id": "IYoQgG1BhXr4"
   },
   "source": [
    "    3 What does the probability distribution of this statistic depend on? \n",
    "    \n",
    "   \n"
   ]
  },
  {
   "cell_type": "markdown",
   "metadata": {
    "id": "ak74uTIrhXr5"
   },
   "source": [
    "**SOLUTION** ```The distribution depends on the inter-event time above a size threshold s.```\n",
    "\n",
    "    "
   ]
  },
  {
   "cell_type": "markdown",
   "metadata": {},
   "source": [
    "<h1 style=\"color:red\"> depend on the size of the samples and distance of the cumulative distributions in cumulative space </h1>\n"
   ]
  },
  {
   "cell_type": "markdown",
   "metadata": {
    "id": "M-h5uhgfhXr6"
   },
   "source": [
    "# Data Retrival"
   ]
  },
  {
   "cell_type": "markdown",
   "metadata": {
    "id": "7TW_8XaNhXr6"
   },
   "source": [
    "The first reason why the paper is not techincally _reproducible_ is that, while a link is provided to retrieve the data, the link is dead. This happens often. Services like [Zenodo](https://zenodo.org/) or journals that serve data provide some insurance against this but unfortunately the standards are not strict. "
   ]
  },
  {
   "cell_type": "markdown",
   "metadata": {
    "id": "Bt6gDmQJhXr7"
   },
   "source": [
    "You can retrieve the data yourself from [this website](http://service.scedc.caltech.edu/eq-catalogs/poly.php). Think about what setting up data like this means for reproducibility. Did the author comply to reproducibility standards?__ Make sure the number of entries in your final dataset is similar to that of the authors. I got 70798, instead of 77000. 10% off, which I deem close enough. You should get something similar. Use the map in the paper to determine the region of interest. Call the file earthquakes_\\<firstinitialLastname\\>.csv and upload it to your github repository. Read it your file, instead of mine as instructed below. If you are getting weird results compare to what I got, go back and check how the files differ."
   ]
  },
  {
   "cell_type": "markdown",
   "metadata": {
    "id": "eCiLW1AuhXr7"
   },
   "source": [
    "# Data Ingestion"
   ]
  },
  {
   "cell_type": "markdown",
   "metadata": {
    "id": "FH0X7d9_hXr8"
   },
   "source": [
    "## read in data"
   ]
  },
  {
   "cell_type": "markdown",
   "metadata": {
    "id": "XbMPVaK-hXr9"
   },
   "source": [
    "I saved the data in a file called \"earthquakes.csv\", where ```csv``` stands for \"comma separated file\". [This file format](https://www.howtogeek.com/348960/what-is-a-csv-file-and-how-do-i-open-it/) requires different entries in a row to be separated by commas alone (no space) and for commas to be used in quote if they are not intended to separate entries. \n",
    "\n",
    "```\n",
    "a,b,c\n",
    "d,e,f\n",
    "g,\"h,2\",i\n",
    "```\n",
    "The data is uploaded on the  github homework repository but to read it in you will need to get the link to the *raw file*: the link to the file earthquakes.csv which is in my GitHub repository https://github.com/fedhere/MLPNS2021/tree/main/HW2_NHRT takes you to an ```html``` page that includes the content of the file, but you want to isolate the content of the file itself: the _raw file_. Pay attention to this: from the next time I will not give you the exact link, I will just point you to the file and you will have to find the link to the raw data from there. (remember to use the \"raw\" link)\n",
    "\n",
    "The data can be read effectively using the _pandas_ python package as ```pandas.read_csv(<file name or URL>)```. \n",
    "\n",
    "However, I did not format the data correctly, according to the csv extension requirement. This happens all the time. Look at the file and use the pandas documentation to figure out how to read it with ```pd.read_csv()```"
   ]
  },
  {
   "cell_type": "code",
   "execution_count": 3,
   "metadata": {
    "id": "hOEZafxahXr9"
   },
   "outputs": [],
   "source": [
    "eqdata = pd.read_csv(\"https://raw.githubusercontent.com/comooney711/\"\n",
    "                    + \"DSPS_CMooney/main/HW3/earthquakes_BFlaggs.csv\", sep=\" \")"
   ]
  },
  {
   "cell_type": "markdown",
   "metadata": {},
   "source": [
    "<h1 style=\"color:red\"> +2pts for getting data</h1>\n"
   ]
  },
  {
   "cell_type": "markdown",
   "metadata": {
    "id": "r0IW9m4vhXr_"
   },
   "source": [
    "running the following lines of code should give you the same result as mine if you used the file I provided (467 students), and qualitatively  similar if you are using your own data (667 students)"
   ]
  },
  {
   "cell_type": "code",
   "execution_count": 4,
   "metadata": {
    "colab": {
     "base_uri": "https://localhost:8080/"
    },
    "id": "uphAqv5ZhXsA",
    "outputId": "2751184d-a56b-45c6-80b7-fee3421e2e72"
   },
   "outputs": [
    {
     "data": {
      "text/plain": [
       "(67543, 34)"
      ]
     },
     "execution_count": 4,
     "metadata": {},
     "output_type": "execute_result"
    }
   ],
   "source": [
    "eqdata.shape"
   ]
  },
  {
   "cell_type": "code",
   "execution_count": 5,
   "metadata": {
    "colab": {
     "base_uri": "https://localhost:8080/",
     "height": 244
    },
    "id": "9CHqm426hXsC",
    "outputId": "bc7ffa71-2d4b-4ee6-bef5-38674b39c768"
   },
   "outputs": [
    {
     "data": {
      "text/html": [
       "<div>\n",
       "<style scoped>\n",
       "    .dataframe tbody tr th:only-of-type {\n",
       "        vertical-align: middle;\n",
       "    }\n",
       "\n",
       "    .dataframe tbody tr th {\n",
       "        vertical-align: top;\n",
       "    }\n",
       "\n",
       "    .dataframe thead th {\n",
       "        text-align: right;\n",
       "    }\n",
       "</style>\n",
       "<table border=\"1\" class=\"dataframe\">\n",
       "  <thead>\n",
       "    <tr style=\"text-align: right;\">\n",
       "      <th></th>\n",
       "      <th>#YYY/MM/DD</th>\n",
       "      <th>HH:mm:SS.ss</th>\n",
       "      <th>ET</th>\n",
       "      <th>GT</th>\n",
       "      <th>MAG</th>\n",
       "      <th>Unnamed: 5</th>\n",
       "      <th>M</th>\n",
       "      <th>Unnamed: 7</th>\n",
       "      <th>Unnamed: 8</th>\n",
       "      <th>Unnamed: 9</th>\n",
       "      <th>...</th>\n",
       "      <th>Q</th>\n",
       "      <th>Unnamed: 25</th>\n",
       "      <th>EVID</th>\n",
       "      <th>Unnamed: 27</th>\n",
       "      <th>Unnamed: 28</th>\n",
       "      <th>Unnamed: 29</th>\n",
       "      <th>Unnamed: 30</th>\n",
       "      <th>Unnamed: 31</th>\n",
       "      <th>NPH</th>\n",
       "      <th>NGRM</th>\n",
       "    </tr>\n",
       "  </thead>\n",
       "  <tbody>\n",
       "    <tr>\n",
       "      <th>0</th>\n",
       "      <td>1984/01/01</td>\n",
       "      <td>01:30:57.52</td>\n",
       "      <td>eq</td>\n",
       "      <td>NaN</td>\n",
       "      <td>l</td>\n",
       "      <td>2.02</td>\n",
       "      <td>c</td>\n",
       "      <td>NaN</td>\n",
       "      <td>NaN</td>\n",
       "      <td>33.246</td>\n",
       "      <td>...</td>\n",
       "      <td>17.0</td>\n",
       "      <td>NaN</td>\n",
       "      <td>NaN</td>\n",
       "      <td>NaN</td>\n",
       "      <td>NaN</td>\n",
       "      <td>NaN</td>\n",
       "      <td>NaN</td>\n",
       "      <td>NaN</td>\n",
       "      <td>NaN</td>\n",
       "      <td>NaN</td>\n",
       "    </tr>\n",
       "    <tr>\n",
       "      <th>1</th>\n",
       "      <td>1984/01/01</td>\n",
       "      <td>05:31:34.16</td>\n",
       "      <td>eq</td>\n",
       "      <td>NaN</td>\n",
       "      <td>l</td>\n",
       "      <td>2.12</td>\n",
       "      <td>c</td>\n",
       "      <td>NaN</td>\n",
       "      <td>NaN</td>\n",
       "      <td>32.945</td>\n",
       "      <td>...</td>\n",
       "      <td>42.0</td>\n",
       "      <td>NaN</td>\n",
       "      <td>NaN</td>\n",
       "      <td>NaN</td>\n",
       "      <td>NaN</td>\n",
       "      <td>NaN</td>\n",
       "      <td>NaN</td>\n",
       "      <td>NaN</td>\n",
       "      <td>NaN</td>\n",
       "      <td>NaN</td>\n",
       "    </tr>\n",
       "    <tr>\n",
       "      <th>2</th>\n",
       "      <td>1984/01/01</td>\n",
       "      <td>06:59:05.14</td>\n",
       "      <td>eq</td>\n",
       "      <td>NaN</td>\n",
       "      <td>l</td>\n",
       "      <td>2.43</td>\n",
       "      <td>c</td>\n",
       "      <td>NaN</td>\n",
       "      <td>NaN</td>\n",
       "      <td>33.343</td>\n",
       "      <td>...</td>\n",
       "      <td>30.0</td>\n",
       "      <td>NaN</td>\n",
       "      <td>NaN</td>\n",
       "      <td>NaN</td>\n",
       "      <td>NaN</td>\n",
       "      <td>NaN</td>\n",
       "      <td>NaN</td>\n",
       "      <td>NaN</td>\n",
       "      <td>NaN</td>\n",
       "      <td>NaN</td>\n",
       "    </tr>\n",
       "    <tr>\n",
       "      <th>3</th>\n",
       "      <td>1984/01/01</td>\n",
       "      <td>11:10:25.29</td>\n",
       "      <td>eq</td>\n",
       "      <td>NaN</td>\n",
       "      <td>l</td>\n",
       "      <td>2.07</td>\n",
       "      <td>c</td>\n",
       "      <td>NaN</td>\n",
       "      <td>NaN</td>\n",
       "      <td>33.668</td>\n",
       "      <td>...</td>\n",
       "      <td>NaN</td>\n",
       "      <td>NaN</td>\n",
       "      <td>NaN</td>\n",
       "      <td>NaN</td>\n",
       "      <td>NaN</td>\n",
       "      <td>NaN</td>\n",
       "      <td>NaN</td>\n",
       "      <td>NaN</td>\n",
       "      <td>NaN</td>\n",
       "      <td>NaN</td>\n",
       "    </tr>\n",
       "    <tr>\n",
       "      <th>4</th>\n",
       "      <td>1984/01/01</td>\n",
       "      <td>13:50:47.62</td>\n",
       "      <td>eq</td>\n",
       "      <td>NaN</td>\n",
       "      <td>l</td>\n",
       "      <td>2.25</td>\n",
       "      <td>c</td>\n",
       "      <td>NaN</td>\n",
       "      <td>NaN</td>\n",
       "      <td>35.944</td>\n",
       "      <td>...</td>\n",
       "      <td>NaN</td>\n",
       "      <td>NaN</td>\n",
       "      <td>NaN</td>\n",
       "      <td>NaN</td>\n",
       "      <td>NaN</td>\n",
       "      <td>NaN</td>\n",
       "      <td>NaN</td>\n",
       "      <td>NaN</td>\n",
       "      <td>NaN</td>\n",
       "      <td>NaN</td>\n",
       "    </tr>\n",
       "  </tbody>\n",
       "</table>\n",
       "<p>5 rows × 34 columns</p>\n",
       "</div>"
      ],
      "text/plain": [
       "   #YYY/MM/DD  HH:mm:SS.ss  ET  GT MAG  Unnamed: 5  M  Unnamed: 7  Unnamed: 8  \\\n",
       "0  1984/01/01  01:30:57.52  eq NaN   l        2.02  c         NaN         NaN   \n",
       "1  1984/01/01  05:31:34.16  eq NaN   l        2.12  c         NaN         NaN   \n",
       "2  1984/01/01  06:59:05.14  eq NaN   l        2.43  c         NaN         NaN   \n",
       "3  1984/01/01  11:10:25.29  eq NaN   l        2.07  c         NaN         NaN   \n",
       "4  1984/01/01  13:50:47.62  eq NaN   l        2.25  c         NaN         NaN   \n",
       "\n",
       "   Unnamed: 9  ...     Q  Unnamed: 25  EVID Unnamed: 27 Unnamed: 28  \\\n",
       "0      33.246  ...  17.0          NaN   NaN         NaN         NaN   \n",
       "1      32.945  ...  42.0          NaN   NaN         NaN         NaN   \n",
       "2      33.343  ...  30.0          NaN   NaN         NaN         NaN   \n",
       "3      33.668  ...   NaN          NaN   NaN         NaN         NaN   \n",
       "4      35.944  ...   NaN          NaN   NaN         NaN         NaN   \n",
       "\n",
       "   Unnamed: 29  Unnamed: 30  Unnamed: 31  NPH  NGRM  \n",
       "0          NaN          NaN          NaN  NaN   NaN  \n",
       "1          NaN          NaN          NaN  NaN   NaN  \n",
       "2          NaN          NaN          NaN  NaN   NaN  \n",
       "3          NaN          NaN          NaN  NaN   NaN  \n",
       "4          NaN          NaN          NaN  NaN   NaN  \n",
       "\n",
       "[5 rows x 34 columns]"
      ]
     },
     "execution_count": 5,
     "metadata": {},
     "output_type": "execute_result"
    }
   ],
   "source": [
    "eqdata.head()"
   ]
  },
  {
   "cell_type": "code",
   "execution_count": 6,
   "metadata": {
    "colab": {
     "base_uri": "https://localhost:8080/",
     "height": 244
    },
    "id": "18OsjSPu86Tf",
    "outputId": "5fcd2908-4324-493e-ee40-c6afd3b61a1c"
   },
   "outputs": [
    {
     "data": {
      "text/html": [
       "<div>\n",
       "<style scoped>\n",
       "    .dataframe tbody tr th:only-of-type {\n",
       "        vertical-align: middle;\n",
       "    }\n",
       "\n",
       "    .dataframe tbody tr th {\n",
       "        vertical-align: top;\n",
       "    }\n",
       "\n",
       "    .dataframe thead th {\n",
       "        text-align: right;\n",
       "    }\n",
       "</style>\n",
       "<table border=\"1\" class=\"dataframe\">\n",
       "  <thead>\n",
       "    <tr style=\"text-align: right;\">\n",
       "      <th></th>\n",
       "      <th>#YYY/MM/DD</th>\n",
       "      <th>HH:mm:SS.ss</th>\n",
       "      <th>ET</th>\n",
       "      <th>GT</th>\n",
       "      <th>MAG</th>\n",
       "      <th>Unnamed: 5</th>\n",
       "      <th>M</th>\n",
       "      <th>Unnamed: 7</th>\n",
       "      <th>Unnamed: 8</th>\n",
       "      <th>Unnamed: 9</th>\n",
       "      <th>...</th>\n",
       "      <th>Q</th>\n",
       "      <th>Unnamed: 25</th>\n",
       "      <th>EVID</th>\n",
       "      <th>Unnamed: 27</th>\n",
       "      <th>Unnamed: 28</th>\n",
       "      <th>Unnamed: 29</th>\n",
       "      <th>Unnamed: 30</th>\n",
       "      <th>Unnamed: 31</th>\n",
       "      <th>NPH</th>\n",
       "      <th>NGRM</th>\n",
       "    </tr>\n",
       "  </thead>\n",
       "  <tbody>\n",
       "    <tr>\n",
       "      <th>67538</th>\n",
       "      <td>2002/12/30</td>\n",
       "      <td>21:51:52.55</td>\n",
       "      <td>eq</td>\n",
       "      <td>NaN</td>\n",
       "      <td>l</td>\n",
       "      <td>2.31</td>\n",
       "      <td>l</td>\n",
       "      <td>NaN</td>\n",
       "      <td>NaN</td>\n",
       "      <td>35.31867</td>\n",
       "      <td>...</td>\n",
       "      <td>NaN</td>\n",
       "      <td>NaN</td>\n",
       "      <td>NaN</td>\n",
       "      <td>NaN</td>\n",
       "      <td>NaN</td>\n",
       "      <td>NaN</td>\n",
       "      <td>NaN</td>\n",
       "      <td>NaN</td>\n",
       "      <td>NaN</td>\n",
       "      <td>NaN</td>\n",
       "    </tr>\n",
       "    <tr>\n",
       "      <th>67539</th>\n",
       "      <td>2002/12/30</td>\n",
       "      <td>23:38:49.79</td>\n",
       "      <td>eq</td>\n",
       "      <td>NaN</td>\n",
       "      <td>l</td>\n",
       "      <td>2.05</td>\n",
       "      <td>l</td>\n",
       "      <td>NaN</td>\n",
       "      <td>NaN</td>\n",
       "      <td>35.31450</td>\n",
       "      <td>...</td>\n",
       "      <td>NaN</td>\n",
       "      <td>NaN</td>\n",
       "      <td>NaN</td>\n",
       "      <td>NaN</td>\n",
       "      <td>NaN</td>\n",
       "      <td>NaN</td>\n",
       "      <td>NaN</td>\n",
       "      <td>NaN</td>\n",
       "      <td>NaN</td>\n",
       "      <td>NaN</td>\n",
       "    </tr>\n",
       "    <tr>\n",
       "      <th>67540</th>\n",
       "      <td>2002/12/31</td>\n",
       "      <td>05:51:00.05</td>\n",
       "      <td>eq</td>\n",
       "      <td>NaN</td>\n",
       "      <td>l</td>\n",
       "      <td>2.36</td>\n",
       "      <td>l</td>\n",
       "      <td>NaN</td>\n",
       "      <td>NaN</td>\n",
       "      <td>35.32367</td>\n",
       "      <td>...</td>\n",
       "      <td>NaN</td>\n",
       "      <td>NaN</td>\n",
       "      <td>NaN</td>\n",
       "      <td>NaN</td>\n",
       "      <td>NaN</td>\n",
       "      <td>NaN</td>\n",
       "      <td>NaN</td>\n",
       "      <td>NaN</td>\n",
       "      <td>NaN</td>\n",
       "      <td>NaN</td>\n",
       "    </tr>\n",
       "    <tr>\n",
       "      <th>67541</th>\n",
       "      <td>2002/12/31</td>\n",
       "      <td>06:15:19.97</td>\n",
       "      <td>eq</td>\n",
       "      <td>NaN</td>\n",
       "      <td>l</td>\n",
       "      <td>2.15</td>\n",
       "      <td>l</td>\n",
       "      <td>NaN</td>\n",
       "      <td>NaN</td>\n",
       "      <td>34.00350</td>\n",
       "      <td>...</td>\n",
       "      <td>NaN</td>\n",
       "      <td>NaN</td>\n",
       "      <td>NaN</td>\n",
       "      <td>NaN</td>\n",
       "      <td>NaN</td>\n",
       "      <td>NaN</td>\n",
       "      <td>NaN</td>\n",
       "      <td>NaN</td>\n",
       "      <td>NaN</td>\n",
       "      <td>NaN</td>\n",
       "    </tr>\n",
       "    <tr>\n",
       "      <th>67542</th>\n",
       "      <td>2002/12/31</td>\n",
       "      <td>21:59:58.92</td>\n",
       "      <td>eq</td>\n",
       "      <td>NaN</td>\n",
       "      <td>l</td>\n",
       "      <td>2.18</td>\n",
       "      <td>l</td>\n",
       "      <td>NaN</td>\n",
       "      <td>NaN</td>\n",
       "      <td>33.18617</td>\n",
       "      <td>...</td>\n",
       "      <td>NaN</td>\n",
       "      <td>NaN</td>\n",
       "      <td>NaN</td>\n",
       "      <td>NaN</td>\n",
       "      <td>NaN</td>\n",
       "      <td>NaN</td>\n",
       "      <td>NaN</td>\n",
       "      <td>NaN</td>\n",
       "      <td>NaN</td>\n",
       "      <td>NaN</td>\n",
       "    </tr>\n",
       "  </tbody>\n",
       "</table>\n",
       "<p>5 rows × 34 columns</p>\n",
       "</div>"
      ],
      "text/plain": [
       "       #YYY/MM/DD  HH:mm:SS.ss  ET  GT MAG  Unnamed: 5  M  Unnamed: 7  \\\n",
       "67538  2002/12/30  21:51:52.55  eq NaN   l        2.31  l         NaN   \n",
       "67539  2002/12/30  23:38:49.79  eq NaN   l        2.05  l         NaN   \n",
       "67540  2002/12/31  05:51:00.05  eq NaN   l        2.36  l         NaN   \n",
       "67541  2002/12/31  06:15:19.97  eq NaN   l        2.15  l         NaN   \n",
       "67542  2002/12/31  21:59:58.92  eq NaN   l        2.18  l         NaN   \n",
       "\n",
       "       Unnamed: 8  Unnamed: 9  ...   Q  Unnamed: 25  EVID Unnamed: 27  \\\n",
       "67538         NaN    35.31867  ... NaN          NaN   NaN         NaN   \n",
       "67539         NaN    35.31450  ... NaN          NaN   NaN         NaN   \n",
       "67540         NaN    35.32367  ... NaN          NaN   NaN         NaN   \n",
       "67541         NaN    34.00350  ... NaN          NaN   NaN         NaN   \n",
       "67542         NaN    33.18617  ... NaN          NaN   NaN         NaN   \n",
       "\n",
       "      Unnamed: 28  Unnamed: 29  Unnamed: 30  Unnamed: 31  NPH  NGRM  \n",
       "67538         NaN          NaN          NaN          NaN  NaN   NaN  \n",
       "67539         NaN          NaN          NaN          NaN  NaN   NaN  \n",
       "67540         NaN          NaN          NaN          NaN  NaN   NaN  \n",
       "67541         NaN          NaN          NaN          NaN  NaN   NaN  \n",
       "67542         NaN          NaN          NaN          NaN  NaN   NaN  \n",
       "\n",
       "[5 rows x 34 columns]"
      ]
     },
     "execution_count": 6,
     "metadata": {},
     "output_type": "execute_result"
    }
   ],
   "source": [
    "eqdata.tail()"
   ]
  },
  {
   "cell_type": "markdown",
   "metadata": {
    "id": "08Ty-hUOhXsG"
   },
   "source": [
    "now that you have a dataframe object you can use methods of the object to \n",
    "modify it. Use the method ```eqdata.rename``` to change the names of the 3 columns that are the only three relevant to us: _date, time, magnitude_"
   ]
  },
  {
   "cell_type": "markdown",
   "metadata": {
    "id": "rueWDuJVhpUd"
   },
   "source": [
    " *SOLUTION:* ``` Here we got only 67542 data entries as opposed to the 77000 the author got. This is a difference of about ~15%```"
   ]
  },
  {
   "cell_type": "markdown",
   "metadata": {
    "id": "dYP53BzDhXsG"
   },
   "source": [
    "## prepare date-time column"
   ]
  },
  {
   "cell_type": "code",
   "execution_count": 7,
   "metadata": {
    "id": "WFIPxVG_hXsH"
   },
   "outputs": [],
   "source": [
    "eqdata = eqdata[['#YYY/MM/DD', 'HH:mm:SS.ss', 'Unnamed: 5']].rename(\n",
    "            {'#YYY/MM/DD':\"date\", 'HH:mm:SS.ss':\"time\", 'Unnamed: 5':\"mag\"},\n",
    "             axis=1)"
   ]
  },
  {
   "cell_type": "code",
   "execution_count": 8,
   "metadata": {
    "colab": {
     "base_uri": "https://localhost:8080/",
     "height": 206
    },
    "id": "vZ-NJ-C2hXsJ",
    "outputId": "8b407cf4-5b26-4049-bb76-13184f43fcb3"
   },
   "outputs": [
    {
     "data": {
      "text/html": [
       "<div>\n",
       "<style scoped>\n",
       "    .dataframe tbody tr th:only-of-type {\n",
       "        vertical-align: middle;\n",
       "    }\n",
       "\n",
       "    .dataframe tbody tr th {\n",
       "        vertical-align: top;\n",
       "    }\n",
       "\n",
       "    .dataframe thead th {\n",
       "        text-align: right;\n",
       "    }\n",
       "</style>\n",
       "<table border=\"1\" class=\"dataframe\">\n",
       "  <thead>\n",
       "    <tr style=\"text-align: right;\">\n",
       "      <th></th>\n",
       "      <th>date</th>\n",
       "      <th>time</th>\n",
       "      <th>mag</th>\n",
       "    </tr>\n",
       "  </thead>\n",
       "  <tbody>\n",
       "    <tr>\n",
       "      <th>0</th>\n",
       "      <td>1984/01/01</td>\n",
       "      <td>01:30:57.52</td>\n",
       "      <td>2.02</td>\n",
       "    </tr>\n",
       "    <tr>\n",
       "      <th>1</th>\n",
       "      <td>1984/01/01</td>\n",
       "      <td>05:31:34.16</td>\n",
       "      <td>2.12</td>\n",
       "    </tr>\n",
       "    <tr>\n",
       "      <th>2</th>\n",
       "      <td>1984/01/01</td>\n",
       "      <td>06:59:05.14</td>\n",
       "      <td>2.43</td>\n",
       "    </tr>\n",
       "    <tr>\n",
       "      <th>3</th>\n",
       "      <td>1984/01/01</td>\n",
       "      <td>11:10:25.29</td>\n",
       "      <td>2.07</td>\n",
       "    </tr>\n",
       "    <tr>\n",
       "      <th>4</th>\n",
       "      <td>1984/01/01</td>\n",
       "      <td>13:50:47.62</td>\n",
       "      <td>2.25</td>\n",
       "    </tr>\n",
       "  </tbody>\n",
       "</table>\n",
       "</div>"
      ],
      "text/plain": [
       "         date         time   mag\n",
       "0  1984/01/01  01:30:57.52  2.02\n",
       "1  1984/01/01  05:31:34.16  2.12\n",
       "2  1984/01/01  06:59:05.14  2.43\n",
       "3  1984/01/01  11:10:25.29  2.07\n",
       "4  1984/01/01  13:50:47.62  2.25"
      ]
     },
     "execution_count": 8,
     "metadata": {},
     "output_type": "execute_result"
    }
   ],
   "source": [
    "eqdata.head()"
   ]
  },
  {
   "cell_type": "code",
   "execution_count": 9,
   "metadata": {
    "colab": {
     "base_uri": "https://localhost:8080/",
     "height": 300
    },
    "id": "BQHplE_shXsL",
    "outputId": "cc869a3c-2da4-42b2-a805-b8a107782c7d"
   },
   "outputs": [
    {
     "data": {
      "text/html": [
       "<div>\n",
       "<style scoped>\n",
       "    .dataframe tbody tr th:only-of-type {\n",
       "        vertical-align: middle;\n",
       "    }\n",
       "\n",
       "    .dataframe tbody tr th {\n",
       "        vertical-align: top;\n",
       "    }\n",
       "\n",
       "    .dataframe thead th {\n",
       "        text-align: right;\n",
       "    }\n",
       "</style>\n",
       "<table border=\"1\" class=\"dataframe\">\n",
       "  <thead>\n",
       "    <tr style=\"text-align: right;\">\n",
       "      <th></th>\n",
       "      <th>mag</th>\n",
       "    </tr>\n",
       "  </thead>\n",
       "  <tbody>\n",
       "    <tr>\n",
       "      <th>count</th>\n",
       "      <td>67543.000000</td>\n",
       "    </tr>\n",
       "    <tr>\n",
       "      <th>mean</th>\n",
       "      <td>2.407589</td>\n",
       "    </tr>\n",
       "    <tr>\n",
       "      <th>std</th>\n",
       "      <td>0.404980</td>\n",
       "    </tr>\n",
       "    <tr>\n",
       "      <th>min</th>\n",
       "      <td>2.000000</td>\n",
       "    </tr>\n",
       "    <tr>\n",
       "      <th>25%</th>\n",
       "      <td>2.120000</td>\n",
       "    </tr>\n",
       "    <tr>\n",
       "      <th>50%</th>\n",
       "      <td>2.290000</td>\n",
       "    </tr>\n",
       "    <tr>\n",
       "      <th>75%</th>\n",
       "      <td>2.570000</td>\n",
       "    </tr>\n",
       "    <tr>\n",
       "      <th>max</th>\n",
       "      <td>7.300000</td>\n",
       "    </tr>\n",
       "  </tbody>\n",
       "</table>\n",
       "</div>"
      ],
      "text/plain": [
       "                mag\n",
       "count  67543.000000\n",
       "mean       2.407589\n",
       "std        0.404980\n",
       "min        2.000000\n",
       "25%        2.120000\n",
       "50%        2.290000\n",
       "75%        2.570000\n",
       "max        7.300000"
      ]
     },
     "execution_count": 9,
     "metadata": {},
     "output_type": "execute_result"
    }
   ],
   "source": [
    "eqdata.describe()"
   ]
  },
  {
   "cell_type": "markdown",
   "metadata": {
    "id": "EMiRblXihXsN"
   },
   "source": [
    "Now you want to combine the columns containing date and time and convert them to a \"datetime\" kind of data object. \n"
   ]
  },
  {
   "cell_type": "markdown",
   "metadata": {
    "id": "ZPOv1TJihXsN"
   },
   "source": [
    "What data type are the _time_ and _date_ columns right now? What type you want them to be to conver them to datetime with ```pd.datetime()```? type 'O' means object, typically a string. "
   ]
  },
  {
   "cell_type": "code",
   "execution_count": 55,
   "metadata": {
    "colab": {
     "base_uri": "https://localhost:8080/"
    },
    "id": "sqfVbxyYhXsO",
    "outputId": "d8461f85-e201-4c46-b11b-581e15de3d6e"
   },
   "outputs": [
    {
     "data": {
      "text/plain": [
       "(dtype('O'), dtype('O'))"
      ]
     },
     "execution_count": 55,
     "metadata": {},
     "output_type": "execute_result"
    }
   ],
   "source": [
    "eqdata.time.dtype, eqdata.date.dtype"
   ]
  },
  {
   "cell_type": "markdown",
   "metadata": {
    "id": "O9qP9mRShXsP"
   },
   "source": [
    "to do this conversion I \n",
    "\n",
    "   1. joined date and time into a single string for each row with a [\"list comprehension\"](https://www.pythonforbeginners.com/basics/list-comprehensions-in-python) (essentially a for loop but more efficient and compact). You do not have to do it with a list comprehension, you can use just a for loop.\n",
    "\n",
    "   2. used pd.datetime() to convert the resulting new dataframe column into a dataframe column containing _datetime_ objects (see lab)\n",
    "\n",
    "   3. but this did not work because of the formatting of some dates, so I had to go back and fix 5 entries. (you are on your own to figure out this one)"
   ]
  },
  {
   "cell_type": "code",
   "execution_count": 10,
   "metadata": {
    "id": "eOUTqBDOhXsQ"
   },
   "outputs": [],
   "source": [
    "eqdata[\"datetime\"] = [eqdata.iloc[i].date + \" \" + eqdata.iloc[i].time\n",
    "                      for i in range(eqdata.shape[0])]"
   ]
  },
  {
   "cell_type": "code",
   "execution_count": 11,
   "metadata": {
    "id": "yp7KJ2KO8Xgr"
   },
   "outputs": [],
   "source": [
    "# Error occors if we don't use this line because there are errors within the \n",
    "# date file itself that denote time as 60 seconds instead of either 0sec of \n",
    "# the next minute or 59.99 of the current minute\n",
    "eqdata[\"datetime\"] = eqdata[\"datetime\"].str.replace(\"60.00\",\"59.99\")\n",
    "\n",
    "# For some reason there was one data point with a time in seconds of 60.99\n",
    "eqdata[\"datetime\"] = eqdata[\"datetime\"].str.replace(\"24:60.99\",\"25:00.99\")"
   ]
  },
  {
   "cell_type": "code",
   "execution_count": 12,
   "metadata": {
    "colab": {
     "base_uri": "https://localhost:8080/",
     "height": 206
    },
    "id": "o9PeG5J5hXsU",
    "outputId": "6eea181c-94de-4374-cfaf-e47b6f1632ed"
   },
   "outputs": [
    {
     "data": {
      "text/html": [
       "<div>\n",
       "<style scoped>\n",
       "    .dataframe tbody tr th:only-of-type {\n",
       "        vertical-align: middle;\n",
       "    }\n",
       "\n",
       "    .dataframe tbody tr th {\n",
       "        vertical-align: top;\n",
       "    }\n",
       "\n",
       "    .dataframe thead th {\n",
       "        text-align: right;\n",
       "    }\n",
       "</style>\n",
       "<table border=\"1\" class=\"dataframe\">\n",
       "  <thead>\n",
       "    <tr style=\"text-align: right;\">\n",
       "      <th></th>\n",
       "      <th>date</th>\n",
       "      <th>time</th>\n",
       "      <th>mag</th>\n",
       "      <th>datetime</th>\n",
       "    </tr>\n",
       "  </thead>\n",
       "  <tbody>\n",
       "    <tr>\n",
       "      <th>0</th>\n",
       "      <td>1984/01/01</td>\n",
       "      <td>01:30:57.52</td>\n",
       "      <td>2.02</td>\n",
       "      <td>1984/01/01 01:30:57.52</td>\n",
       "    </tr>\n",
       "    <tr>\n",
       "      <th>1</th>\n",
       "      <td>1984/01/01</td>\n",
       "      <td>05:31:34.16</td>\n",
       "      <td>2.12</td>\n",
       "      <td>1984/01/01 05:31:34.16</td>\n",
       "    </tr>\n",
       "    <tr>\n",
       "      <th>2</th>\n",
       "      <td>1984/01/01</td>\n",
       "      <td>06:59:05.14</td>\n",
       "      <td>2.43</td>\n",
       "      <td>1984/01/01 06:59:05.14</td>\n",
       "    </tr>\n",
       "    <tr>\n",
       "      <th>3</th>\n",
       "      <td>1984/01/01</td>\n",
       "      <td>11:10:25.29</td>\n",
       "      <td>2.07</td>\n",
       "      <td>1984/01/01 11:10:25.29</td>\n",
       "    </tr>\n",
       "    <tr>\n",
       "      <th>4</th>\n",
       "      <td>1984/01/01</td>\n",
       "      <td>13:50:47.62</td>\n",
       "      <td>2.25</td>\n",
       "      <td>1984/01/01 13:50:47.62</td>\n",
       "    </tr>\n",
       "  </tbody>\n",
       "</table>\n",
       "</div>"
      ],
      "text/plain": [
       "         date         time   mag                datetime\n",
       "0  1984/01/01  01:30:57.52  2.02  1984/01/01 01:30:57.52\n",
       "1  1984/01/01  05:31:34.16  2.12  1984/01/01 05:31:34.16\n",
       "2  1984/01/01  06:59:05.14  2.43  1984/01/01 06:59:05.14\n",
       "3  1984/01/01  11:10:25.29  2.07  1984/01/01 11:10:25.29\n",
       "4  1984/01/01  13:50:47.62  2.25  1984/01/01 13:50:47.62"
      ]
     },
     "execution_count": 12,
     "metadata": {},
     "output_type": "execute_result"
    }
   ],
   "source": [
    "eqdata.head()"
   ]
  },
  {
   "cell_type": "code",
   "execution_count": 13,
   "metadata": {
    "colab": {
     "base_uri": "https://localhost:8080/"
    },
    "id": "4B620SbfKFXm",
    "outputId": "9b3eb713-51cb-4088-ceef-67aeb6fac6f8"
   },
   "outputs": [
    {
     "data": {
      "text/plain": [
       "(dtype('O'), dtype('O'), dtype('float64'), dtype('O'))"
      ]
     },
     "execution_count": 13,
     "metadata": {},
     "output_type": "execute_result"
    }
   ],
   "source": [
    "# Check the data type of each column\n",
    "eqdata.date.dtype, eqdata.time.dtype, eqdata.mag.dtype, eqdata.datetime.dtype"
   ]
  },
  {
   "cell_type": "code",
   "execution_count": 14,
   "metadata": {
    "id": "HRnVvrCtKpiT"
   },
   "outputs": [],
   "source": [
    "# Convers the datetime column of strings to the pandas datetime object\n",
    "eqdata[\"datetime\"] = pd.to_datetime(eqdata[\"datetime\"])"
   ]
  },
  {
   "cell_type": "code",
   "execution_count": 61,
   "metadata": {
    "colab": {
     "base_uri": "https://localhost:8080/"
    },
    "id": "8odP6PWATfvg",
    "outputId": "55a46191-ad32-45cb-c0e5-e8e1478cdb69"
   },
   "outputs": [
    {
     "data": {
      "text/plain": [
       "dtype('<M8[ns]')"
      ]
     },
     "execution_count": 61,
     "metadata": {},
     "output_type": "execute_result"
    }
   ],
   "source": [
    "eqdata.datetime.dtype"
   ]
  },
  {
   "cell_type": "markdown",
   "metadata": {
    "id": "zAmaMzQIhXsW"
   },
   "source": [
    "## select valuable data"
   ]
  },
  {
   "cell_type": "markdown",
   "metadata": {
    "id": "R3kga7VvhXsZ"
   },
   "source": [
    "Following the description in Section 2  of Corral 2018 I removed all data that did not belong to a \"stationary\" period. Third paragraph section 2 of Corral 2018. You can see the cell of code I used to do this [here](https://github.com/fedhere/DSPS/blob/master/HW3/Corral2018_selectStationary.py) at no points cost, cause it was a bit tricky, but I encourage you to try and do it yourself. If you can do it in fewer lines than I did its automatically +5 points (just turning the loop into a list comprehension does not count. That is an obvious way to decrease the number of lines of code; I did not do it simply to enhance readability.)"
   ]
  },
  {
   "cell_type": "code",
   "execution_count": 15,
   "metadata": {
    "id": "tQRj4CAEhXsZ"
   },
   "outputs": [],
   "source": [
    "# create empty container\n",
    "ss = []\n",
    "\n",
    "tstart = [1984, 1990.3, 1994.6, 1996.1, 1997, 1997.75, 1998.25, 2000.55,\n",
    "          2000.9, 2001.6, 2002.5]\n",
    "tstop = [1986.5, 1992.1, 1995.6, 1996.5, 1997.6, 1998.15, 1999.35, 2000.8,\n",
    "         2001.25, 2002, 2003]\n",
    "\n",
    "# loop through all year pairs as year and fraction of year\n",
    "for i in range(len(tstart)):\n",
    "    # for each pair I convert the year to datetime (easy)\n",
    "    # then I convert the fraction of year and convert it to days and convert \n",
    "    # that to a delta-time\n",
    "    # finally I add that deltatime to the year datetime. \n",
    "    ss.append((pd.to_datetime(int(tstart[i]), format=\"%Y\") \n",
    "        + pd.Timedelta('%.f days'%((tstart[i] - int(tstart[i])) * 365.25)),\n",
    "               pd.to_datetime(int(tstop[i]), format=\"%Y\") \n",
    "        + pd.Timedelta('%.f days'%((tstop[i] - int(tstop[i])) * 365.25))))\n",
    "\n"
   ]
  },
  {
   "cell_type": "code",
   "execution_count": 17,
   "metadata": {
    "colab": {
     "base_uri": "https://localhost:8080/"
    },
    "id": "qPmYVGWbhXsb",
    "outputId": "80bfa1fe-3ed4-42ce-fdd4-b469b645e76c"
   },
   "outputs": [
    {
     "name": "stdout",
     "output_type": "stream",
     "text": [
      "the {} timestamp pairs that are the boundaries of good data periodsare:\n"
     ]
    },
    {
     "data": {
      "text/plain": [
       "[(Timestamp('1984-01-01 00:00:00'), Timestamp('1986-07-03 00:00:00')),\n",
       " (Timestamp('1990-04-21 00:00:00'), Timestamp('1992-02-07 00:00:00')),\n",
       " (Timestamp('1994-08-08 00:00:00'), Timestamp('1995-08-08 00:00:00')),\n",
       " (Timestamp('1996-02-07 00:00:00'), Timestamp('1996-07-02 00:00:00')),\n",
       " (Timestamp('1997-01-01 00:00:00'), Timestamp('1997-08-08 00:00:00')),\n",
       " (Timestamp('1997-10-02 00:00:00'), Timestamp('1998-02-25 00:00:00')),\n",
       " (Timestamp('1998-04-02 00:00:00'), Timestamp('1999-05-09 00:00:00')),\n",
       " (Timestamp('2000-07-20 00:00:00'), Timestamp('2000-10-19 00:00:00')),\n",
       " (Timestamp('2000-11-25 00:00:00'), Timestamp('2001-04-02 00:00:00')),\n",
       " (Timestamp('2001-08-08 00:00:00'), Timestamp('2002-01-01 00:00:00')),\n",
       " (Timestamp('2002-07-03 00:00:00'), Timestamp('2003-01-01 00:00:00'))]"
      ]
     },
     "execution_count": 17,
     "metadata": {},
     "output_type": "execute_result"
    }
   ],
   "source": [
    "print (\"the {} timestamp pairs that are the boundaries of good data periods\"\n",
    "       + \"are:\".format(len(ss)))\n",
    "\n",
    "ss"
   ]
  },
  {
   "cell_type": "code",
   "execution_count": 18,
   "metadata": {
    "colab": {
     "base_uri": "https://localhost:8080/"
    },
    "id": "zGSQWE0rX8I6",
    "outputId": "fb6e97de-e4a5-4548-bba4-a17dced2b433"
   },
   "outputs": [
    {
     "data": {
      "text/plain": [
       "0         True\n",
       "1         True\n",
       "2         True\n",
       "3         True\n",
       "4         True\n",
       "         ...  \n",
       "67538    False\n",
       "67539    False\n",
       "67540    False\n",
       "67541    False\n",
       "67542    False\n",
       "Name: datetime, Length: 67543, dtype: bool"
      ]
     },
     "execution_count": 18,
     "metadata": {},
     "output_type": "execute_result"
    }
   ],
   "source": [
    "# boolean loop that finds all of the dates between ss[0][0] and ss[0][1]\n",
    "(eqdata.datetime >= ss[0][0]) & (eqdata.datetime <= ss[0][1])"
   ]
  },
  {
   "cell_type": "markdown",
   "metadata": {
    "id": "-470BeBahXsd"
   },
   "source": [
    "The following cell of code shows you the array of bool values (True/False) which I create to use as an index to the input array: when used as an index, a technique called \"broadcasting\" in python, will select only elements of the original array where the index array value is True. something like \n",
    "Try:\n",
    "\n"
   ]
  },
  {
   "cell_type": "code",
   "execution_count": 65,
   "metadata": {
    "colab": {
     "base_uri": "https://localhost:8080/"
    },
    "id": "9wCXH-gfhXsf",
    "outputId": "b5aed838-131d-4d54-fa30-985f6355af12"
   },
   "outputs": [
    {
     "data": {
      "text/plain": [
       "(array([0, 1, 2]), array([0, 2]))"
      ]
     },
     "execution_count": 65,
     "metadata": {},
     "output_type": "execute_result"
    }
   ],
   "source": [
    "# make two arrays of the same length, one with booleans the other with data\n",
    "# comma separate the two and only the data corresponding to the same index\n",
    "# as true in the boolean array will remain\n",
    "a = np.array([0, 1, 2])\n",
    "a, a[[True, False, True]]\n"
   ]
  },
  {
   "cell_type": "markdown",
   "metadata": {
    "id": "jvZBr-_JhXsi"
   },
   "source": [
    "For each of the 11 valid periods I create a condition \n",
    "``` datetime >= period_start AND datetime <= period_end ``` where AND is a product of booleans: True * False = False.\n",
    "\n",
    "I want to take all chinks of data that satisfy this condition for any of the 11 chunks of time so that is a logical OR operator, or a sum of Booleans: True + False = True \n",
    "\n",
    "This is because ```True``` really corresponds to \"not 0\" and False to \"0\". So ```\"not 0\" * 0 = 0``` and ```\"not 0\" + 0 = not 0```\n",
    "    "
   ]
  },
  {
   "cell_type": "code",
   "execution_count": 19,
   "metadata": {
    "id": "JGuY1EtzhXsj"
   },
   "outputs": [],
   "source": [
    "gooddates =( ((eqdata.datetime >= ss[0][0]) & (eqdata.datetime <= ss[0][1])) |\\\n",
    "        # data between start and end of second time period\n",
    "        ((eqdata.datetime >=ss [1][0]) & (eqdata.datetime <= ss[1][1])) |\\\n",
    "        ((eqdata.datetime >=ss [2][0]) & (eqdata.datetime <= ss[2][1])) |\\\n",
    "        ((eqdata.datetime >=ss [3][0]) & (eqdata.datetime <= ss[3][1])) |\\\n",
    "        ((eqdata.datetime >=ss [4][0]) & (eqdata.datetime <= ss[4][1])) |\\\n",
    "        ((eqdata.datetime >=ss [5][0]) & (eqdata.datetime <= ss[5][1])) |\\\n",
    "        ((eqdata.datetime >=ss [6][0]) & (eqdata.datetime <= ss[6][1])) |\\\n",
    "        ((eqdata.datetime >=ss [7][0]) & (eqdata.datetime <= ss[7][1])) |\\\n",
    "        ((eqdata.datetime >=ss [8][0]) & (eqdata.datetime <= ss[8][1])) |\\\n",
    "        ((eqdata.datetime >=ss [9][0]) & (eqdata.datetime <= ss[9][1])) |\\\n",
    "        # data between start and end of last time period\n",
    "        ((eqdata.datetime >=ss [10][0]) & (eqdata.datetime <= ss[10][1])\\\n",
    "        ).values )"
   ]
  },
  {
   "cell_type": "code",
   "execution_count": 20,
   "metadata": {
    "colab": {
     "base_uri": "https://localhost:8080/"
    },
    "id": "WHyQm6CqhXsl",
    "outputId": "1dc5f4c5-4dce-46e1-f20d-ceb69d0f32a5"
   },
   "outputs": [
    {
     "name": "stdout",
     "output_type": "stream",
     "text": [
      "there are 15182 earthquakes falling in the selected stationary periods\n"
     ]
    }
   ],
   "source": [
    "print ( \"there are {} earthquakes falling in the selected stationary periods\".\n",
    "       format(gooddates.sum()) )"
   ]
  },
  {
   "cell_type": "code",
   "execution_count": 21,
   "metadata": {
    "colab": {
     "base_uri": "https://localhost:8080/",
     "height": 300
    },
    "id": "DZqekuQFn_cM",
    "outputId": "86920995-e5ef-4cd8-bf7b-e5b3c3a5d5b6"
   },
   "outputs": [
    {
     "data": {
      "text/html": [
       "<div>\n",
       "<style scoped>\n",
       "    .dataframe tbody tr th:only-of-type {\n",
       "        vertical-align: middle;\n",
       "    }\n",
       "\n",
       "    .dataframe tbody tr th {\n",
       "        vertical-align: top;\n",
       "    }\n",
       "\n",
       "    .dataframe thead th {\n",
       "        text-align: right;\n",
       "    }\n",
       "</style>\n",
       "<table border=\"1\" class=\"dataframe\">\n",
       "  <thead>\n",
       "    <tr style=\"text-align: right;\">\n",
       "      <th></th>\n",
       "      <th>mag</th>\n",
       "    </tr>\n",
       "  </thead>\n",
       "  <tbody>\n",
       "    <tr>\n",
       "      <th>count</th>\n",
       "      <td>15182.000000</td>\n",
       "    </tr>\n",
       "    <tr>\n",
       "      <th>mean</th>\n",
       "      <td>2.362527</td>\n",
       "    </tr>\n",
       "    <tr>\n",
       "      <th>std</th>\n",
       "      <td>0.372127</td>\n",
       "    </tr>\n",
       "    <tr>\n",
       "      <th>min</th>\n",
       "      <td>2.000000</td>\n",
       "    </tr>\n",
       "    <tr>\n",
       "      <th>25%</th>\n",
       "      <td>2.100000</td>\n",
       "    </tr>\n",
       "    <tr>\n",
       "      <th>50%</th>\n",
       "      <td>2.250000</td>\n",
       "    </tr>\n",
       "    <tr>\n",
       "      <th>75%</th>\n",
       "      <td>2.500000</td>\n",
       "    </tr>\n",
       "    <tr>\n",
       "      <th>max</th>\n",
       "      <td>5.800000</td>\n",
       "    </tr>\n",
       "  </tbody>\n",
       "</table>\n",
       "</div>"
      ],
      "text/plain": [
       "                mag\n",
       "count  15182.000000\n",
       "mean       2.362527\n",
       "std        0.372127\n",
       "min        2.000000\n",
       "25%        2.100000\n",
       "50%        2.250000\n",
       "75%        2.500000\n",
       "max        5.800000"
      ]
     },
     "execution_count": 21,
     "metadata": {},
     "output_type": "execute_result"
    }
   ],
   "source": [
    "# trims down eqdata to just include the earthquakes between the stationary\n",
    "# periods as indexed in the gooddates array\n",
    "eqdata = eqdata[gooddates]\n",
    "eqdata.describe()"
   ]
  },
  {
   "cell_type": "markdown",
   "metadata": {
    "id": "P3MKC5tyhXsp"
   },
   "source": [
    "Now what you really want is the _time interval between earthquakes_ for all events greater than some magnitude m, while all you have are the date and time of the events.: \n",
    "\n",
    "You can remove earthquakes smaller than magnitude 2 by, again, broadcasting. How would that look like?"
   ]
  },
  {
   "cell_type": "code",
   "execution_count": 22,
   "metadata": {
    "colab": {
     "base_uri": "https://localhost:8080/",
     "height": 300
    },
    "id": "GF-7Xw9AhXsq",
    "outputId": "37becd81-e1bf-43b1-dacf-afe92607ba40"
   },
   "outputs": [
    {
     "data": {
      "text/html": [
       "<div>\n",
       "<style scoped>\n",
       "    .dataframe tbody tr th:only-of-type {\n",
       "        vertical-align: middle;\n",
       "    }\n",
       "\n",
       "    .dataframe tbody tr th {\n",
       "        vertical-align: top;\n",
       "    }\n",
       "\n",
       "    .dataframe thead th {\n",
       "        text-align: right;\n",
       "    }\n",
       "</style>\n",
       "<table border=\"1\" class=\"dataframe\">\n",
       "  <thead>\n",
       "    <tr style=\"text-align: right;\">\n",
       "      <th></th>\n",
       "      <th>mag</th>\n",
       "    </tr>\n",
       "  </thead>\n",
       "  <tbody>\n",
       "    <tr>\n",
       "      <th>count</th>\n",
       "      <td>15182.000000</td>\n",
       "    </tr>\n",
       "    <tr>\n",
       "      <th>mean</th>\n",
       "      <td>2.362527</td>\n",
       "    </tr>\n",
       "    <tr>\n",
       "      <th>std</th>\n",
       "      <td>0.372127</td>\n",
       "    </tr>\n",
       "    <tr>\n",
       "      <th>min</th>\n",
       "      <td>2.000000</td>\n",
       "    </tr>\n",
       "    <tr>\n",
       "      <th>25%</th>\n",
       "      <td>2.100000</td>\n",
       "    </tr>\n",
       "    <tr>\n",
       "      <th>50%</th>\n",
       "      <td>2.250000</td>\n",
       "    </tr>\n",
       "    <tr>\n",
       "      <th>75%</th>\n",
       "      <td>2.500000</td>\n",
       "    </tr>\n",
       "    <tr>\n",
       "      <th>max</th>\n",
       "      <td>5.800000</td>\n",
       "    </tr>\n",
       "  </tbody>\n",
       "</table>\n",
       "</div>"
      ],
      "text/plain": [
       "                mag\n",
       "count  15182.000000\n",
       "mean       2.362527\n",
       "std        0.372127\n",
       "min        2.000000\n",
       "25%        2.100000\n",
       "50%        2.250000\n",
       "75%        2.500000\n",
       "max        5.800000"
      ]
     },
     "execution_count": 22,
     "metadata": {},
     "output_type": "execute_result"
    }
   ],
   "source": [
    "# Finds the magnitudes greater than 2 and stores the relevatn info in tempdata\n",
    "tempdata = eqdata[ eqdata.mag >= 2 ]\n",
    "tempdata.describe()"
   ]
  },
  {
   "cell_type": "markdown",
   "metadata": {
    "id": "Ah6LgDvVhXsu"
   },
   "source": [
    "You can get the time between consecutive earthquakes with the method ```diff()``` of numpy arrays (in a pandas series you can get the data as a numpy array with the attribute .values: ```seried.values```). \n"
   ]
  },
  {
   "cell_type": "code",
   "execution_count": 24,
   "metadata": {
    "id": "RCJozUPPhXsu"
   },
   "outputs": [],
   "source": [
    "eqdata[\"tgaps\"] = eqdata.datetime.diff()"
   ]
  },
  {
   "cell_type": "code",
   "execution_count": 25,
   "metadata": {
    "colab": {
     "base_uri": "https://localhost:8080/"
    },
    "id": "a6f-j9ThoMUC",
    "outputId": "e85ce85c-aa91-436f-8005-c83f041e6ac4"
   },
   "outputs": [
    {
     "data": {
      "text/plain": [
       "(15182, 5)"
      ]
     },
     "execution_count": 25,
     "metadata": {},
     "output_type": "execute_result"
    }
   ],
   "source": [
    "eqdata.shape"
   ]
  },
  {
   "cell_type": "code",
   "execution_count": 72,
   "metadata": {
    "colab": {
     "base_uri": "https://localhost:8080/",
     "height": 206
    },
    "id": "BavypriTXcUV",
    "outputId": "816c49cb-0486-4484-c49e-743eba1d8aad"
   },
   "outputs": [
    {
     "data": {
      "text/html": [
       "<div>\n",
       "<style scoped>\n",
       "    .dataframe tbody tr th:only-of-type {\n",
       "        vertical-align: middle;\n",
       "    }\n",
       "\n",
       "    .dataframe tbody tr th {\n",
       "        vertical-align: top;\n",
       "    }\n",
       "\n",
       "    .dataframe thead th {\n",
       "        text-align: right;\n",
       "    }\n",
       "</style>\n",
       "<table border=\"1\" class=\"dataframe\">\n",
       "  <thead>\n",
       "    <tr style=\"text-align: right;\">\n",
       "      <th></th>\n",
       "      <th>date</th>\n",
       "      <th>time</th>\n",
       "      <th>mag</th>\n",
       "      <th>datetime</th>\n",
       "      <th>tgaps</th>\n",
       "    </tr>\n",
       "  </thead>\n",
       "  <tbody>\n",
       "    <tr>\n",
       "      <th>0</th>\n",
       "      <td>1984/01/01</td>\n",
       "      <td>01:30:57.52</td>\n",
       "      <td>2.02</td>\n",
       "      <td>1984-01-01 01:30:57.520</td>\n",
       "      <td>NaT</td>\n",
       "    </tr>\n",
       "    <tr>\n",
       "      <th>1</th>\n",
       "      <td>1984/01/01</td>\n",
       "      <td>05:31:34.16</td>\n",
       "      <td>2.12</td>\n",
       "      <td>1984-01-01 05:31:34.160</td>\n",
       "      <td>0 days 04:00:36.640000</td>\n",
       "    </tr>\n",
       "    <tr>\n",
       "      <th>2</th>\n",
       "      <td>1984/01/01</td>\n",
       "      <td>06:59:05.14</td>\n",
       "      <td>2.43</td>\n",
       "      <td>1984-01-01 06:59:05.140</td>\n",
       "      <td>0 days 01:27:30.980000</td>\n",
       "    </tr>\n",
       "    <tr>\n",
       "      <th>3</th>\n",
       "      <td>1984/01/01</td>\n",
       "      <td>11:10:25.29</td>\n",
       "      <td>2.07</td>\n",
       "      <td>1984-01-01 11:10:25.290</td>\n",
       "      <td>0 days 04:11:20.150000</td>\n",
       "    </tr>\n",
       "    <tr>\n",
       "      <th>4</th>\n",
       "      <td>1984/01/01</td>\n",
       "      <td>13:50:47.62</td>\n",
       "      <td>2.25</td>\n",
       "      <td>1984-01-01 13:50:47.620</td>\n",
       "      <td>0 days 02:40:22.330000</td>\n",
       "    </tr>\n",
       "  </tbody>\n",
       "</table>\n",
       "</div>"
      ],
      "text/plain": [
       "         date         time   mag                datetime                  tgaps\n",
       "0  1984/01/01  01:30:57.52  2.02 1984-01-01 01:30:57.520                    NaT\n",
       "1  1984/01/01  05:31:34.16  2.12 1984-01-01 05:31:34.160 0 days 04:00:36.640000\n",
       "2  1984/01/01  06:59:05.14  2.43 1984-01-01 06:59:05.140 0 days 01:27:30.980000\n",
       "3  1984/01/01  11:10:25.29  2.07 1984-01-01 11:10:25.290 0 days 04:11:20.150000\n",
       "4  1984/01/01  13:50:47.62  2.25 1984-01-01 13:50:47.620 0 days 02:40:22.330000"
      ]
     },
     "execution_count": 72,
     "metadata": {},
     "output_type": "execute_result"
    }
   ],
   "source": [
    "eqdata.head()"
   ]
  },
  {
   "cell_type": "code",
   "execution_count": 73,
   "metadata": {
    "colab": {
     "base_uri": "https://localhost:8080/",
     "height": 300
    },
    "id": "pC2aJCuVXfM3",
    "outputId": "5c5e9af4-b1a1-4e56-dce6-b7d0be2fbdb4"
   },
   "outputs": [
    {
     "data": {
      "text/html": [
       "<div>\n",
       "<style scoped>\n",
       "    .dataframe tbody tr th:only-of-type {\n",
       "        vertical-align: middle;\n",
       "    }\n",
       "\n",
       "    .dataframe tbody tr th {\n",
       "        vertical-align: top;\n",
       "    }\n",
       "\n",
       "    .dataframe thead th {\n",
       "        text-align: right;\n",
       "    }\n",
       "</style>\n",
       "<table border=\"1\" class=\"dataframe\">\n",
       "  <thead>\n",
       "    <tr style=\"text-align: right;\">\n",
       "      <th></th>\n",
       "      <th>mag</th>\n",
       "      <th>tgaps</th>\n",
       "    </tr>\n",
       "  </thead>\n",
       "  <tbody>\n",
       "    <tr>\n",
       "      <th>count</th>\n",
       "      <td>15182.000000</td>\n",
       "      <td>15181</td>\n",
       "    </tr>\n",
       "    <tr>\n",
       "      <th>mean</th>\n",
       "      <td>2.362527</td>\n",
       "      <td>0 days 10:58:16.959449311</td>\n",
       "    </tr>\n",
       "    <tr>\n",
       "      <th>std</th>\n",
       "      <td>0.372127</td>\n",
       "      <td>14 days 05:43:53.070440070</td>\n",
       "    </tr>\n",
       "    <tr>\n",
       "      <th>min</th>\n",
       "      <td>2.000000</td>\n",
       "      <td>0 days 00:00:00.170000</td>\n",
       "    </tr>\n",
       "    <tr>\n",
       "      <th>25%</th>\n",
       "      <td>2.100000</td>\n",
       "      <td>0 days 00:54:00.770000</td>\n",
       "    </tr>\n",
       "    <tr>\n",
       "      <th>50%</th>\n",
       "      <td>2.250000</td>\n",
       "      <td>0 days 03:04:41.570000</td>\n",
       "    </tr>\n",
       "    <tr>\n",
       "      <th>75%</th>\n",
       "      <td>2.500000</td>\n",
       "      <td>0 days 07:20:20.650000</td>\n",
       "    </tr>\n",
       "    <tr>\n",
       "      <th>max</th>\n",
       "      <td>5.800000</td>\n",
       "      <td>1388 days 11:06:10.750000</td>\n",
       "    </tr>\n",
       "  </tbody>\n",
       "</table>\n",
       "</div>"
      ],
      "text/plain": [
       "                mag                       tgaps\n",
       "count  15182.000000                       15181\n",
       "mean       2.362527   0 days 10:58:16.959449311\n",
       "std        0.372127  14 days 05:43:53.070440070\n",
       "min        2.000000      0 days 00:00:00.170000\n",
       "25%        2.100000      0 days 00:54:00.770000\n",
       "50%        2.250000      0 days 03:04:41.570000\n",
       "75%        2.500000      0 days 07:20:20.650000\n",
       "max        5.800000   1388 days 11:06:10.750000"
      ]
     },
     "execution_count": 73,
     "metadata": {},
     "output_type": "execute_result"
    }
   ],
   "source": [
    "eqdata.describe()"
   ]
  },
  {
   "cell_type": "markdown",
   "metadata": {
    "id": "wWmOXVyKhO9W"
   },
   "source": [
    "Note that the first entry will be NaT which is Not a Time (corresponding to nan for numerical variables) or maybe a negative number (depends on your exact operations above). You should remove it"
   ]
  },
  {
   "cell_type": "code",
   "execution_count": 26,
   "metadata": {
    "id": "zqOLrvyc0_dL"
   },
   "outputs": [],
   "source": [
    "eqGoodData = eqdata.iloc[1:]"
   ]
  },
  {
   "cell_type": "code",
   "execution_count": 27,
   "metadata": {
    "colab": {
     "base_uri": "https://localhost:8080/"
    },
    "id": "nTpoMMAV_ciY",
    "outputId": "9b92b3ce-a2ac-457f-e520-ed375ab53fb9"
   },
   "outputs": [
    {
     "name": "stderr",
     "output_type": "stream",
     "text": [
      "/Users/home/miniconda3/lib/python3.6/site-packages/ipykernel_launcher.py:2: SettingWithCopyWarning: \n",
      "A value is trying to be set on a copy of a slice from a DataFrame.\n",
      "Try using .loc[row_indexer,col_indexer] = value instead\n",
      "\n",
      "See the caveats in the documentation: https://pandas.pydata.org/pandas-docs/stable/user_guide/indexing.html#returning-a-view-versus-a-copy\n",
      "  \n"
     ]
    }
   ],
   "source": [
    "# Convert the tgaps data to nanoseconds with a data type of float\n",
    "eqGoodData[\"tgaps\"] = ( eqGoodData[\"tgaps\"].dt.total_seconds() ) * (10**9)"
   ]
  },
  {
   "cell_type": "markdown",
   "metadata": {
    "id": "M2VH6Q4xhXsw"
   },
   "source": [
    "# data exploration\n",
    "At this point you should wonder if this is the final dataset that you want to use and if anything is weird or suspicious about it. Visualize the distribution. A good way to visualize distributions is a histogram which you can prodice with pl.hist() or as a method of your dataframe series as ```df[SeriesName].plot(kind=\"hist\")```. Produce a plot like the one below (label the axis! and describe it with a caption!). To get the logarithmic y axis you can se ```logy=True```, for example. in your ```df[SeriesName].plot``` call."
   ]
  },
  {
   "cell_type": "code",
   "execution_count": 29,
   "metadata": {
    "colab": {
     "base_uri": "https://localhost:8080/",
     "height": 985
    },
    "id": "iDiscxU4XDwg",
    "outputId": "d5c3ad7d-86d3-4627-fc7f-b7c0c26e1c26"
   },
   "outputs": [
    {
     "data": {
      "image/png": "[encoded data removed]",
      "text/plain": [
       "<Figure size 504x504 with 1 Axes>"
      ]
     },
     "metadata": {
      "needs_background": "light"
     },
     "output_type": "display_data"
    },
    {
     "data": {
      "image/png": "[encoded data removed]",
      "text/plain": [
       "<Figure size 504x504 with 1 Axes>"
      ]
     },
     "metadata": {
      "needs_background": "light"
     },
     "output_type": "display_data"
    }
   ],
   "source": [
    "ax1 = eqGoodData[\"mag\"].plot(kind=\"hist\", figsize=(7, 7), logy=True);\n",
    "ax1.set_xlabel(\"Magnitude\", fontsize=18);\n",
    "ax1.set_ylabel(\"Frequency\", fontsize=18);\n",
    "ax1.set_title(\"Magnitudes Histogram\", fontsize=18);\n",
    "pl.show()\n",
    "\n",
    "ax2 = eqGoodData[\"tgaps\"].plot(kind=\"hist\", figsize=(7, 7), logy=True);\n",
    "ax2.set_xlabel(\"Time Gaps\", fontsize=18);\n",
    "ax2.set_ylabel(\"Frequency\", fontsize=18);\n",
    "ax2.set_title(\"Time Gaps Histogram\", fontsize=18);\n",
    "pl.show()"
   ]
  },
  {
   "cell_type": "markdown",
   "metadata": {
    "id": "Y53Sq-sbss0b"
   },
   "source": [
    "**CAPTIONS 1:** ```Figure 1 shows that the as the magnitude of the earthquake increases, its frequency decreases logarthimically (i.e. the greater the magnitude of the earthquake the fewer occurrences that occur).```"
   ]
  },
  {
   "cell_type": "markdown",
   "metadata": {
    "id": "zdlWDIgwuCHg"
   },
   "source": [
    "**CAPTIONS 2:** ```Figure 2 shows that the time gaps in between eathquakes are overwhelming short (several thousand compared to only a few 10s for the higher order timescales).```"
   ]
  },
  {
   "cell_type": "markdown",
   "metadata": {
    "id": "nuPhJkrozh91"
   },
   "source": [
    "The thing that worries me is that by removing some sections of the data to use only stationary periods we created some artificially large gaps: gaps of order ~month. How many nanoseconds in a month? remove all gaps that are larger than about a month and see how the distribution looks (make another histogram)."
   ]
  },
  {
   "cell_type": "code",
   "execution_count": 30,
   "metadata": {
    "colab": {
     "base_uri": "https://localhost:8080/",
     "height": 486
    },
    "id": "0zuGOkWhzhDu",
    "outputId": "3dcbb338-0809-432d-d13d-e08de90f87a0"
   },
   "outputs": [
    {
     "data": {
      "image/png": "[encoded data removed]",
      "text/plain": [
       "<Figure size 504x504 with 1 Axes>"
      ]
     },
     "metadata": {
      "needs_background": "light"
     },
     "output_type": "display_data"
    }
   ],
   "source": [
    "eqGoodData =  eqGoodData[eqGoodData[\"tgaps\"] < 2.6297E+15]\n",
    "eqGoodData.describe()\n",
    "\n",
    "ax3 = eqGoodData[\"tgaps\"].plot(kind=\"hist\", figsize=(7, 7), logy=True);\n",
    "ax3.set_xlabel(\"Time Gaps\", fontsize=18);\n",
    "ax3.set_ylabel(\"Frequency\", fontsize=18);\n",
    "ax3.set_title(\"Time Gaps Histogram\", fontsize=18);\n",
    "pl.show()"
   ]
  },
  {
   "cell_type": "markdown",
   "metadata": {
    "id": "-h3Ze4sWuwen"
   },
   "source": [
    "**CAPTIONS 3:** ```Figure 3 shows that after the timegaps greater than a month have been removed the remaining timegaps follow a logarithmiclly decreasing distribution. The histogram indicates that most timegaps are quite short (less than half a month apart).```"
   ]
  },
  {
   "cell_type": "markdown",
   "metadata": {
    "id": "gn-HuVevYOo7"
   },
   "source": [
    "# data analysis"
   ]
  },
  {
   "cell_type": "markdown",
   "metadata": {
    "id": "Q2xYwKRB2sx9"
   },
   "source": [
    "### important: the paper does not do it but I want you to formally choose a threshold before you do this test. Choose a p-value (=$\\alpha$ thresold: call your variable ```alpha```) of 3-$\\sigma$."
   ]
  },
  {
   "cell_type": "markdown",
   "metadata": {
    "id": "pt5MAQEZhXsz"
   },
   "source": [
    "Follow the instructions (algorithm) in **Section 3 paragraph 3** and compare your results with the results in table 1 with a threshold  of = 0.01 and 0.001\n",
    "\n",
    "Do it for all 5 magnitude thresholds as indicated in the paper (and in Table 1).\n",
    "\n",
    "Note that the x axis in plot Fig 1 is in _log space_. Use ```np.log10()``` to take the logarithm of the time gaps.\n",
    "\n",
    "The pseudocode for the algorithm is [here](https://github.com/fedhere/DSPS/blob/master/HW3/Corral2018_pseudocode.md).\n"
   ]
  },
  {
   "cell_type": "markdown",
   "metadata": {
    "id": "gXWK4x4FhXs1"
   },
   "source": [
    "Reproduce the paper Fig 1 and Table 1. In the Table report the size of each dataset after cleaning the value of the statistic and the p-value, as done in Corral 2018. Use the scipy function for the 2 sample KS test. (resources [here](https://colab.research.google.com/notebooks/markdown_guide.ipynb#scrollTo=70pYkR9LiOV0) to learn about the table syntax in markdown)"
   ]
  },
  {
   "cell_type": "code",
   "execution_count": 33,
   "metadata": {
    "colab": {
     "base_uri": "https://localhost:8080/",
     "height": 87
    },
    "id": "BNtqqaXphXs2",
    "outputId": "b29dfbcb-216c-44ad-d4a3-da2de1f916a9"
   },
   "outputs": [
    {
     "data": {
      "application/vnd.google.colaboratory.intrinsic+json": {
       "type": "string"
      },
      "text/plain": [
       "'\\nFor threshold 0.01 and 0.001:\\n  \\tFor all Mk values of M in Corral2018:\\n\\t\\t{\\n\\t\\t# remove gaps below minimum gap threshold\\n\\t\\tx_Mk =  gaps where M > M_k\\n\\t\\tFor i in [1,2]: # do it twice\\n\\t\\t\\t{\\n\\t\\t\\t# Rescale the time gaps distribution by the mean value of the time gaps.\\n\\t\\t\\tRk = 1 / mean of x_Mk\\n\\t\\t\\tX_Mk = x_Mk * Rk where x_Mk*Rk  > threshold # can be achieved broadcasting in python\\n\\t\\t\\t}\\n\\t\\t# these two lines of code are not necessary cause Rk~1\\n\\t\\tRk = 1 / mean of x_Mk\\n\\t\\tx_Mk = x_Mk * Rk\\n\\t\\t\\n\\tFor all Mk values of M in Corral2018:\\n\\t\\t{\\n   \\t\\tFor all Ml values of M in Corral2018 greater than Mk\\n\\t\\t\\t{\\n\\t\\t\\tPerform the KS test on (Mk, Ml)\\n\\t\\t\\t}\\n   \\t\\t}\\n\\n'"
      ]
     },
     "execution_count": 33,
     "metadata": {},
     "output_type": "execute_result"
    }
   ],
   "source": [
    "'''\n",
    "For threshold 0.01 and 0.001:\n",
    "  \tFor all Mk values of M in Corral2018:\n",
    "\t\t{\n",
    "\t\t# remove gaps below minimum gap threshold\n",
    "\t\tx_Mk =  gaps where M > M_k\n",
    "\t\tFor i in [1,2]: # do it twice\n",
    "\t\t\t{\n",
    "\t\t\t# Rescale the time gaps distribution by the mean value of the time gaps.\n",
    "\t\t\tRk = 1 / mean of x_Mk\n",
    "\t\t\tX_Mk = x_Mk * Rk where x_Mk*Rk  > threshold \n",
    "\t\t\t}\n",
    "\t\t# these two lines of code are not necessary cause Rk~1\n",
    "\t\tRk = 1 / mean of x_Mk\n",
    "\t\tx_Mk = x_Mk * Rk\n",
    "\t\t\n",
    "\tFor all Mk values of M in Corral2018:\n",
    "\t\t{\n",
    "   \t\tFor all Ml values of M in Corral2018 greater than Mk\n",
    "\t\t\t{\n",
    "\t\t\tPerform the KS test on (Mk, Ml)\n",
    "\t\t\t}\n",
    "   \t\t}\n",
    "\n",
    "'''\n"
   ]
  },
  {
   "cell_type": "code",
   "execution_count": 31,
   "metadata": {
    "colab": {
     "base_uri": "https://localhost:8080/"
    },
    "id": "8YNn8ehwTrFZ",
    "outputId": "8c8b613b-b592-431c-a219-1a9c6b45c496",
    "scrolled": true
   },
   "outputs": [
    {
     "name": "stdout",
     "output_type": "stream",
     "text": [
      "Running KS test on mag values (2.0, 2.5) for threshold=0.01.\n",
      "KS statistic: 0.014532321107332602, p value: 0.5977093748926117.\n",
      "Running KS test on mag values (2.0, 3.0) for threshold=0.01.\n",
      "KS statistic: 0.03355003092478559, p value: 0.2935324556340807.\n",
      "Running KS test on mag values (2.0, 3.5) for threshold=0.01.\n",
      "KS statistic: 0.08396403343424541, p value: 0.0680578768109664.\n",
      "Running KS test on mag values (2.0, 4.0) for threshold=0.01.\n",
      "KS statistic: 0.10904834494773519, p value: 0.4349168669606812.\n",
      "Running KS test on mag values (2.5, 3.0) for threshold=0.01.\n",
      "KS statistic: 0.027779301197786356, p value: 0.6225710000219049.\n",
      "Running KS test on mag values (2.5, 3.5) for threshold=0.01.\n",
      "KS statistic: 0.07854605441985585, p value: 0.11327996909050353.\n",
      "Running KS test on mag values (2.5, 4.0) for threshold=0.01.\n",
      "KS statistic: 0.10728451972555746, p value: 0.43379249500451944.\n",
      "Running KS test on mag values (3.0, 3.5) for threshold=0.01.\n",
      "KS statistic: 0.06524391345997434, p value: 0.3675713766101817.\n",
      "Running KS test on mag values (3.0, 4.0) for threshold=0.01.\n",
      "KS statistic: 0.1062396637265711, p value: 0.47551873175751813.\n",
      "Running KS test on mag values (3.5, 4.0) for threshold=0.01.\n",
      "KS statistic: 0.08247950819672131, p value: 0.8480162560097229.\n",
      "Running KS test on mag values (2.0, 2.5) for threshold=0.001.\n",
      "KS statistic: 0.022844766440918318, p value: 0.09198217255020763.\n",
      "Running KS test on mag values (2.0, 3.0) for threshold=0.001.\n",
      "KS statistic: 0.040429603448322415, p value: 0.10043917725081455.\n",
      "Running KS test on mag values (2.0, 3.5) for threshold=0.001.\n",
      "KS statistic: 0.08663886051526504, p value: 0.04080632140180781.\n",
      "Running KS test on mag values (2.0, 4.0) for threshold=0.001.\n",
      "KS statistic: 0.10925051415199605, p value: 0.38540109150417773.\n",
      "Running KS test on mag values (2.5, 3.0) for threshold=0.001.\n",
      "KS statistic: 0.02781720195391828, p value: 0.5877127124910104.\n",
      "Running KS test on mag values (2.5, 3.5) for threshold=0.001.\n",
      "KS statistic: 0.0790920120591191, p value: 0.08648714951716463.\n",
      "Running KS test on mag values (2.5, 4.0) for threshold=0.001.\n",
      "KS statistic: 0.10262932701888473, p value: 0.44349033510775626.\n",
      "Running KS test on mag values (3.0, 3.5) for threshold=0.001.\n",
      "KS statistic: 0.061110077230855125, p value: 0.40050714237435836.\n",
      "Running KS test on mag values (3.0, 4.0) for threshold=0.001.\n",
      "KS statistic: 0.09692492545948111, p value: 0.5456213250588093.\n",
      "Running KS test on mag values (3.5, 4.0) for threshold=0.001.\n",
      "KS statistic: 0.07921607378129117, p value: 0.8504955017050542.\n"
     ]
    }
   ],
   "source": [
    "# Try to implement the pseudocode into working code\n",
    "Mk_vals = [2.0, 2.5, 3.0, 3.5, 4.0]\n",
    "Ml_vals = [2.5, 3.0, 3.5, 4.0]\n",
    "threshold = [0.01, 0.001]\n",
    "\n",
    "stats = []\n",
    "pvals= []\n",
    "\n",
    "for t in threshold:\n",
    "  for Mk in Mk_vals:\n",
    "    for Ml in Ml_vals:\n",
    "      x_Mk = eqGoodData[eqGoodData[\"mag\"] > Mk][\"tgaps\"]\n",
    "      x_Ml = eqGoodData[eqGoodData[\"mag\"] > Ml][\"tgaps\"]\n",
    "      for i in range(2): # do it twice\n",
    "        Rk = 1 / x_Mk.mean()\n",
    "        Rl = 1 / x_Ml.mean()\n",
    "        temp1 = x_Mk * Rk\n",
    "        temp2 = x_Ml * Rl\n",
    "        x_Mk = temp1[(temp1 > t)]\n",
    "        x_Ml = temp2[(temp2 > t)]\n",
    "        \n",
    "      if Ml > Mk:\n",
    "        # Run KD test on (Mk_vals[Mk], Mk_vals[Ml])        \n",
    "        print(f\"Running KS test on mag values ({Mk}, {Ml}) for threshold={t}.\")\n",
    "        statistic, pvalue = sp.stats.ks_2samp(x_Mk, x_Ml)\n",
    "        stats.append(statistic)\n",
    "        pvals.append(pvalue)\n",
    "        print(f\"KS statistic: {statistic}, p value: {pvalue}.\")\n",
    "\n",
    "      else:\n",
    "        continue"
   ]
  },
  {
   "cell_type": "code",
   "execution_count": 32,
   "metadata": {
    "id": "tIDe3tAe2e5R"
   },
   "outputs": [],
   "source": [
    "# make table\n",
    "dim = 5\n",
    "d1 = np.zeros((dim,dim))\n",
    "d2 = np.zeros((dim,dim))\n",
    "\n",
    "# fill table\n",
    "for k in range(dim):\n",
    "  for l in range(dim):\n",
    "    if k < l:\n",
    "      d1[k][l] = pvals[k+l-1]\n",
    "      d2[k][l] = pvals[k+l+dim-1]\n",
    "    elif k > l:\n",
    "      d1[k][l] = stats[k+l-1]\n",
    "      d2[k][l] = stats[k+l+dim-1]\n",
    "\n",
    "df1 = pd.DataFrame(data=d1, columns=['M>=2.0','M>=2.5','M>=3.0','M>=3.5',\n",
    "                                     'M>=4.0'],\n",
    "                    index=['M>=2.0','M>=2.5','M>=3.0','M>=3.5','M>=4.0'])\n",
    "df2 = pd.DataFrame(data=d2, columns=['M>=2.0','M>=2.5','M>=3.0','M>=3.5',\n",
    "                                     'M>=4.0'],\n",
    "                    index=['M>=2.0','M>=2.5','M>=3.0','M>=3.5','M>=4.0'])\n"
   ]
  },
  {
   "cell_type": "code",
   "execution_count": 33,
   "metadata": {
    "colab": {
     "base_uri": "https://localhost:8080/"
    },
    "id": "XnbLOOjy96Wc",
    "outputId": "5e83702e-4fb4-4437-f5b4-bb5433e2662f"
   },
   "outputs": [
    {
     "name": "stdout",
     "output_type": "stream",
     "text": [
      "          M>=2.0    M>=2.5    M>=3.0    M>=3.5    M>=4.0\n",
      "M>=2.0  0.000000  0.597709  0.293532  0.068058  0.434917\n",
      "M>=2.5  0.014532  0.000000  0.068058  0.434917  0.622571\n",
      "M>=3.0  0.033550  0.083964  0.000000  0.622571  0.113280\n",
      "M>=3.5  0.083964  0.109048  0.027779  0.000000  0.433792\n",
      "M>=4.0  0.109048  0.027779  0.078546  0.107285  0.000000\n"
     ]
    }
   ],
   "source": [
    "print(df1)"
   ]
  },
  {
   "cell_type": "markdown",
   "metadata": {
    "id": "npqFpgUZ2emj"
   },
   "source": [
    "## Figure (**number me**)\n",
    "###KS-statistic (top diagonal) and p-value (bottom-diagonal) for rescaled earthquake magnitude time differences with threshold 0.01. Read the same way as in table 1 in (Corral 2018)"
   ]
  },
  {
   "cell_type": "code",
   "execution_count": 34,
   "metadata": {
    "colab": {
     "base_uri": "https://localhost:8080/"
    },
    "id": "Eq1xAa0d99YI",
    "outputId": "e4af4235-a63d-4838-dad8-2f55cd5b9fb2"
   },
   "outputs": [
    {
     "name": "stdout",
     "output_type": "stream",
     "text": [
      "          M>=2.0    M>=2.5    M>=3.0    M>=3.5    M>=4.0\n",
      "M>=2.0  0.000000  0.113280  0.433792  0.367571  0.475519\n",
      "M>=2.5  0.078546  0.000000  0.367571  0.475519  0.848016\n",
      "M>=3.0  0.107285  0.065244  0.000000  0.848016  0.091982\n",
      "M>=3.5  0.065244  0.106240  0.082480  0.000000  0.100439\n",
      "M>=4.0  0.106240  0.082480  0.022845  0.040430  0.000000\n"
     ]
    }
   ],
   "source": [
    "print(df2)"
   ]
  },
  {
   "cell_type": "markdown",
   "metadata": {
    "id": "0o7GfQMT-By-"
   },
   "source": [
    "## Figure (**number me top guy + 1**)\n",
    "### KS-statistic (top diagonal) and p-value (bottom-diagonal) for rescaled earthquake magnitude time differences with threshold 0.001. Read the same way as in table 1 in (Corral 2018)"
   ]
  },
  {
   "cell_type": "markdown",
   "metadata": {
    "id": "6y4wb6lEZsGV"
   },
   "source": [
    "Did you find any statistical significant differences between the distributions? What does it mean? Is your result identical to Correll's 2018? Why or why not? **Discuss!**"
   ]
  },
  {
   "cell_type": "markdown",
   "metadata": {
    "id": "8bQwtZi4Z0pi"
   },
   "source": [
    "### \"extra credits\"\n",
    "\n",
    "**How could you _force_ a significant result?**\n",
    "Organize your result for different magnitude threshold in a numpy array (it should be a 5x5 array) for both cutoffs (0.01 and 0.001). Each of these arrays should contain the p-value for the pair of distributions i,j in cell \\[i\\]\\[j\\] and \\[j\\]\\[i\\]. Use ```imshow``` to visualize this 2D data. FIrst visualize the matrix itself as done below."
   ]
  },
  {
   "cell_type": "code",
   "execution_count": 81,
   "metadata": {
    "colab": {
     "base_uri": "https://localhost:8080/",
     "height": 235
    },
    "id": "mqQSdpVEhXs5",
    "outputId": "2572f212-ddcb-4d95-d883-785d3d67ea52"
   },
   "outputs": [
    {
     "ename": "NameError",
     "evalue": "ignored",
     "output_type": "error",
     "traceback": [
      "\u001b[0;31m---------------------------------------------------------------------------\u001b[0m",
      "\u001b[0;31mNameError\u001b[0m                                 Traceback (most recent call last)",
      "\u001b[0;32m<ipython-input-81-a2c29d33d7b2>\u001b[0m in \u001b[0;36m<module>\u001b[0;34m()\u001b[0m\n\u001b[1;32m      1\u001b[0m \u001b[0;31m# your code here\u001b[0m\u001b[0;34m\u001b[0m\u001b[0;34m\u001b[0m\u001b[0;34m\u001b[0m\u001b[0m\n\u001b[1;32m      2\u001b[0m \u001b[0;34m\u001b[0m\u001b[0m\n\u001b[0;32m----> 3\u001b[0;31m \u001b[0mpl\u001b[0m\u001b[0;34m.\u001b[0m\u001b[0mimshow\u001b[0m\u001b[0;34m(\u001b[0m\u001b[0;34m(\u001b[0m\u001b[0mks_001\u001b[0m\u001b[0;34m)\u001b[0m\u001b[0;34m)\u001b[0m\u001b[0;34m;\u001b[0m\u001b[0;34m\u001b[0m\u001b[0;34m\u001b[0m\u001b[0m\n\u001b[0m\u001b[1;32m      4\u001b[0m \u001b[0mpl\u001b[0m\u001b[0;34m.\u001b[0m\u001b[0maxis\u001b[0m\u001b[0;34m(\u001b[0m\u001b[0;34m'off'\u001b[0m\u001b[0;34m)\u001b[0m\u001b[0;34m\u001b[0m\u001b[0;34m\u001b[0m\u001b[0m\n\u001b[1;32m      5\u001b[0m \u001b[0mcb\u001b[0m \u001b[0;34m=\u001b[0m \u001b[0mpl\u001b[0m\u001b[0;34m.\u001b[0m\u001b[0mcolorbar\u001b[0m\u001b[0;34m(\u001b[0m\u001b[0;34m)\u001b[0m\u001b[0;34m\u001b[0m\u001b[0;34m\u001b[0m\u001b[0m\n",
      "\u001b[0;31mNameError\u001b[0m: name 'ks_001' is not defined"
     ]
    }
   ],
   "source": [
    "# your code here\n",
    "        \n",
    "pl.imshow((ks_001));\n",
    "pl.axis('off')\n",
    "cb = pl.colorbar()\n",
    "cb.ax.set_ylabel(r'$p$-value')\n",
    "pl.title(\"KS test results\");\n",
    "#add a caption"
   ]
  },
  {
   "cell_type": "markdown",
   "metadata": {
    "id": "tSJmSMCmmA3w"
   },
   "source": [
    "\n",
    "Now visualize the result as a matrix where the cells are white if the results is not statistically significant and red otherwise. \n",
    "After doing it fot the set alpha threshold, lower your alpha threshold so that at least one pair of distribution has a statistically significant difference. **Warning!! this is an _unethical and horrifying practice_! Once you chose your significance threshold you are never allowed to change it! Why? Discuss**"
   ]
  },
  {
   "cell_type": "markdown",
   "metadata": {
    "id": "txEYubwCcIXP"
   },
   "source": [
    "Redoing it for threshold 0001"
   ]
  },
  {
   "cell_type": "markdown",
   "metadata": {},
   "source": [
    "--- "
   ]
  },
  {
   "cell_type": "markdown",
   "metadata": {},
   "source": [
    "<h1 style=\"color:red\"> Good job! but you forgot to choose a p-value before performing KS test;\n",
    "reproduce Fig 1 in paper, and answer the last question \"Did you find any statistical significant differences between the distributions? What does it mean? Is your result identical to Correll's 2018? Why or why not?\" (-5 pts)</h1>\n",
    "\n"
   ]
  },
  {
   "cell_type": "code",
   "execution_count": null,
   "metadata": {},
   "outputs": [],
   "source": []
  }
 ],
 "metadata": {
  "colab": {
   "collapsed_sections": [],
   "include_colab_link": true,
   "name": "KS_earthquakes_crossman.ipynb",
   "provenance": []
  },
  "kernelspec": {
   "display_name": "Python 3",
   "language": "python",
   "name": "python3"
  },
  "language_info": {
   "codemirror_mode": {
    "name": "ipython",
    "version": 3
   },
   "file_extension": ".py",
   "mimetype": "text/x-python",
   "name": "python",
   "nbconvert_exporter": "python",
   "pygments_lexer": "ipython3",
   "version": "3.6.8"
  },
  "latex_envs": {
   "LaTeX_envs_menu_present": true,
   "autoclose": false,
   "autocomplete": true,
   "bibliofile": "biblio.bib",
   "cite_by": "apalike",
   "current_citInitial": 1,
   "eqLabelWithNumbers": true,
   "eqNumInitial": 1,
   "hotkeys": {
    "equation": "Ctrl-E",
    "itemize": "Ctrl-I"
   },
   "labels_anchors": false,
   "latex_user_defs": false,
   "report_style_numbering": false,
   "user_envs_cfg": false
  },
  "nbTranslate": {
   "displayLangs": [
    "*"
   ],
   "hotkey": "alt-t",
   "langInMainMenu": true,
   "sourceLang": "en",
   "targetLang": "fr",
   "useGoogleTranslate": true
  },
  "toc": {
   "base_numbering": 1,
   "nav_menu": {},
   "number_sections": true,
   "sideBar": true,
   "skip_h1_title": false,
   "title_cell": "Table of Contents",
   "title_sidebar": "Contents",
   "toc_cell": false,
   "toc_position": {},
   "toc_section_display": true,
   "toc_window_display": false
  }
 },
 "nbformat": 4,
 "nbformat_minor": 1
}
